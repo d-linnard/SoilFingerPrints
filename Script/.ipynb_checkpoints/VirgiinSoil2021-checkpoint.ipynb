{
 "cells": [
  {
   "cell_type": "code",
   "execution_count": 55,
   "id": "entertaining-segment",
   "metadata": {},
   "outputs": [],
   "source": [
    "library(ggplot2)"
   ]
  },
  {
   "cell_type": "code",
   "execution_count": 56,
   "id": "decimal-campaign",
   "metadata": {},
   "outputs": [
    {
     "data": {
      "text/html": [
       "'C:/Users/sudha.gcupadhaya/OneDrive - Washington State University (email.wsu.edu)/Desktop/SoilFingerPrints/Script'"
      ],
      "text/latex": [
       "'C:/Users/sudha.gcupadhaya/OneDrive - Washington State University (email.wsu.edu)/Desktop/SoilFingerPrints/Script'"
      ],
      "text/markdown": [
       "'C:/Users/sudha.gcupadhaya/OneDrive - Washington State University (email.wsu.edu)/Desktop/SoilFingerPrints/Script'"
      ],
      "text/plain": [
       "[1] \"C:/Users/sudha.gcupadhaya/OneDrive - Washington State University (email.wsu.edu)/Desktop/SoilFingerPrints/Script\""
      ]
     },
     "metadata": {},
     "output_type": "display_data"
    }
   ],
   "source": [
    "getwd()"
   ]
  },
  {
   "cell_type": "code",
   "execution_count": 57,
   "id": "bulgarian-toddler",
   "metadata": {},
   "outputs": [],
   "source": [
    "df = read.csv('C:/Users/sudha.gcupadhaya/OneDrive - Washington State University (email.wsu.edu)/Desktop/SoilFingerPrints/Data/VirginSoilData.csv')"
   ]
  },
  {
   "cell_type": "code",
   "execution_count": 58,
   "id": "separate-courtesy",
   "metadata": {},
   "outputs": [
    {
     "name": "stdout",
     "output_type": "stream",
     "text": [
      "'data.frame':\t22 obs. of  17 variables:\n",
      " $ ID         : int  1 2 4 5 6 7 8 9 10 11 ...\n",
      " $ Label      : Factor w/ 22 levels \"0-0-1-2\",\"0-0-2-1\",..: 12 1 13 2 3 14 10 21 4 5 ...\n",
      " $ Pair       : int  1 1 2 2 3 3 4 4 5 6 ...\n",
      " $ FieldType  : Factor w/ 2 levels \"Non-virgin field\",..: 1 2 1 2 2 1 2 1 2 2 ...\n",
      " $ Block      : int  2 2 1 1 5 5 2 2 4 5 ...\n",
      " $ Weight.g   : num  1587 207 1096 610 814 ...\n",
      " $ Weight_GT20: num  1538 160 1077 610 802 ...\n",
      " $ Count      : int  15 11 9 5 12 14 9 7 10 22 ...\n",
      " $ Count_GT20 : int  12 2 8 5 11 11 9 7 6 15 ...\n",
      " $ Sen_7.29.21: int  10 20 5 0 0 0 10 8 15 8 ...\n",
      " $ Sen_8.4.21 : int  8 25 10 0 0 0 10 15 15 10 ...\n",
      " $ Sen_8.11.21: int  10 20 15 0 0 2 10 15 15 15 ...\n",
      " $ Sen_8.18.21: int  15 30 15 0 5 10 15 20 25 15 ...\n",
      " $ Sen_8.25.21: int  10 30 8 0 5 8 8 35 35 10 ...\n",
      " $ Sen_9.1.21 : int  15 40 15 0 10 10 15 35 35 10 ...\n",
      " $ Sen_9.8.21 : int  30 40 35 2 5 10 30 50 40 15 ...\n",
      " $ Sen_9.23.21: int  40 50 70 5 5 10 35 70 45 15 ...\n"
     ]
    }
   ],
   "source": [
    "str(df)"
   ]
  },
  {
   "cell_type": "markdown",
   "id": "sophisticated-controversy",
   "metadata": {},
   "source": [
    "* Change to factor"
   ]
  },
  {
   "cell_type": "code",
   "execution_count": 6,
   "id": "delayed-gross",
   "metadata": {},
   "outputs": [
    {
     "name": "stdout",
     "output_type": "stream",
     "text": [
      "'data.frame':\t22 obs. of  17 variables:\n",
      " $ ID         : Factor w/ 22 levels \"1\",\"2\",\"4\",\"5\",..: 1 2 3 4 5 6 7 8 9 10 ...\n",
      " $ Label      : Factor w/ 22 levels \"0-0-1-2\",\"0-0-2-1\",..: 12 1 13 2 3 14 10 21 4 5 ...\n",
      " $ Pair       : Factor w/ 11 levels \"1\",\"2\",\"3\",\"4\",..: 1 1 2 2 3 3 4 4 5 6 ...\n",
      " $ FieldType  : Factor w/ 2 levels \"Non-virgin field\",..: 1 2 1 2 2 1 2 1 2 2 ...\n",
      " $ Block      : Factor w/ 6 levels \"1\",\"2\",\"3\",\"4\",..: 2 2 1 1 5 5 2 2 4 5 ...\n",
      " $ Weight.g   : num  1587 207 1096 610 814 ...\n",
      " $ Weight_GT20: num  1538 160 1077 610 802 ...\n",
      " $ Count      : int  15 11 9 5 12 14 9 7 10 22 ...\n",
      " $ Count_GT20 : int  12 2 8 5 11 11 9 7 6 15 ...\n",
      " $ Sen_7.29.21: int  10 20 5 0 0 0 10 8 15 8 ...\n",
      " $ Sen_8.4.21 : int  8 25 10 0 0 0 10 15 15 10 ...\n",
      " $ Sen_8.11.21: int  10 20 15 0 0 2 10 15 15 15 ...\n",
      " $ Sen_8.18.21: int  15 30 15 0 5 10 15 20 25 15 ...\n",
      " $ Sen_8.25.21: int  10 30 8 0 5 8 8 35 35 10 ...\n",
      " $ Sen_9.1.21 : int  15 40 15 0 10 10 15 35 35 10 ...\n",
      " $ Sen_9.8.21 : int  30 40 35 2 5 10 30 50 40 15 ...\n",
      " $ Sen_9.23.21: int  40 50 70 5 5 10 35 70 45 15 ...\n"
     ]
    }
   ],
   "source": [
    "df[c(\"ID\", \"Pair\", \"FieldType\",\"Block\")] <- lapply(df[c(\"ID\", \"Pair\", \"FieldType\", \"Block\")],\n",
    "                                                factor)\n",
    "str(df)"
   ]
  },
  {
   "cell_type": "code",
   "execution_count": 7,
   "id": "suitable-sheriff",
   "metadata": {},
   "outputs": [
    {
     "data": {
      "text/html": [
       "<table>\n",
       "<thead><tr><th scope=col>ID</th><th scope=col>Pair</th><th scope=col>FieldType</th><th scope=col>Block</th><th scope=col>Weight.g</th><th scope=col>Weight_GT20</th><th scope=col>Count</th><th scope=col>Count_GT20</th><th scope=col>Sen_7.29.21</th><th scope=col>Sen_8.4.21</th><th scope=col>Sen_8.11.21</th><th scope=col>Sen_8.18.21</th><th scope=col>Sen_8.25.21</th><th scope=col>Sen_9.1.21</th><th scope=col>Sen_9.8.21</th><th scope=col>Sen_9.23.21</th></tr></thead>\n",
       "<tbody>\n",
       "\t<tr><td>1               </td><td>1               </td><td>Non-virgin field</td><td>2               </td><td>1586.65         </td><td>1537.88         </td><td>15              </td><td>12              </td><td>10              </td><td> 8              </td><td>10              </td><td>15              </td><td>10              </td><td>15              </td><td>30              </td><td>40              </td></tr>\n",
       "\t<tr><td>2               </td><td>1               </td><td>Virgin field    </td><td>2               </td><td> 207.26         </td><td> 160.03         </td><td>11              </td><td> 2              </td><td>20              </td><td>25              </td><td>20              </td><td>30              </td><td>30              </td><td>40              </td><td>40              </td><td>50              </td></tr>\n",
       "\t<tr><td>4               </td><td>2               </td><td>Non-virgin field</td><td>1               </td><td>1096.27         </td><td>1077.21         </td><td> 9              </td><td> 8              </td><td> 5              </td><td>10              </td><td>15              </td><td>15              </td><td> 8              </td><td>15              </td><td>35              </td><td>70              </td></tr>\n",
       "\t<tr><td>5               </td><td>2               </td><td>Virgin field    </td><td>1               </td><td> 610.05         </td><td> 610.50         </td><td> 5              </td><td> 5              </td><td> 0              </td><td> 0              </td><td> 0              </td><td> 0              </td><td> 0              </td><td> 0              </td><td> 2              </td><td> 5              </td></tr>\n",
       "\t<tr><td>6               </td><td>3               </td><td>Virgin field    </td><td>5               </td><td> 814.12         </td><td> 801.73         </td><td>12              </td><td>11              </td><td> 0              </td><td> 0              </td><td> 0              </td><td> 5              </td><td> 5              </td><td>10              </td><td> 5              </td><td> 5              </td></tr>\n",
       "\t<tr><td>7               </td><td>3               </td><td>Non-virgin field</td><td>5               </td><td>1038.14         </td><td>1009.35         </td><td>14              </td><td>11              </td><td> 0              </td><td> 0              </td><td> 2              </td><td>10              </td><td> 8              </td><td>10              </td><td>10              </td><td>10              </td></tr>\n",
       "</tbody>\n",
       "</table>\n"
      ],
      "text/latex": [
       "\\begin{tabular}{r|llllllllllllllll}\n",
       " ID & Pair & FieldType & Block & Weight.g & Weight\\_GT20 & Count & Count\\_GT20 & Sen\\_7.29.21 & Sen\\_8.4.21 & Sen\\_8.11.21 & Sen\\_8.18.21 & Sen\\_8.25.21 & Sen\\_9.1.21 & Sen\\_9.8.21 & Sen\\_9.23.21\\\\\n",
       "\\hline\n",
       "\t 1                & 1                & Non-virgin field & 2                & 1586.65          & 1537.88          & 15               & 12               & 10               &  8               & 10               & 15               & 10               & 15               & 30               & 40              \\\\\n",
       "\t 2                & 1                & Virgin field     & 2                &  207.26          &  160.03          & 11               &  2               & 20               & 25               & 20               & 30               & 30               & 40               & 40               & 50              \\\\\n",
       "\t 4                & 2                & Non-virgin field & 1                & 1096.27          & 1077.21          &  9               &  8               &  5               & 10               & 15               & 15               &  8               & 15               & 35               & 70              \\\\\n",
       "\t 5                & 2                & Virgin field     & 1                &  610.05          &  610.50          &  5               &  5               &  0               &  0               &  0               &  0               &  0               &  0               &  2               &  5              \\\\\n",
       "\t 6                & 3                & Virgin field     & 5                &  814.12          &  801.73          & 12               & 11               &  0               &  0               &  0               &  5               &  5               & 10               &  5               &  5              \\\\\n",
       "\t 7                & 3                & Non-virgin field & 5                & 1038.14          & 1009.35          & 14               & 11               &  0               &  0               &  2               & 10               &  8               & 10               & 10               & 10              \\\\\n",
       "\\end{tabular}\n"
      ],
      "text/markdown": [
       "\n",
       "| ID | Pair | FieldType | Block | Weight.g | Weight_GT20 | Count | Count_GT20 | Sen_7.29.21 | Sen_8.4.21 | Sen_8.11.21 | Sen_8.18.21 | Sen_8.25.21 | Sen_9.1.21 | Sen_9.8.21 | Sen_9.23.21 |\n",
       "|---|---|---|---|---|---|---|---|---|---|---|---|---|---|---|---|\n",
       "| 1                | 1                | Non-virgin field | 2                | 1586.65          | 1537.88          | 15               | 12               | 10               |  8               | 10               | 15               | 10               | 15               | 30               | 40               |\n",
       "| 2                | 1                | Virgin field     | 2                |  207.26          |  160.03          | 11               |  2               | 20               | 25               | 20               | 30               | 30               | 40               | 40               | 50               |\n",
       "| 4                | 2                | Non-virgin field | 1                | 1096.27          | 1077.21          |  9               |  8               |  5               | 10               | 15               | 15               |  8               | 15               | 35               | 70               |\n",
       "| 5                | 2                | Virgin field     | 1                |  610.05          |  610.50          |  5               |  5               |  0               |  0               |  0               |  0               |  0               |  0               |  2               |  5               |\n",
       "| 6                | 3                | Virgin field     | 5                |  814.12          |  801.73          | 12               | 11               |  0               |  0               |  0               |  5               |  5               | 10               |  5               |  5               |\n",
       "| 7                | 3                | Non-virgin field | 5                | 1038.14          | 1009.35          | 14               | 11               |  0               |  0               |  2               | 10               |  8               | 10               | 10               | 10               |\n",
       "\n"
      ],
      "text/plain": [
       "  ID Pair FieldType        Block Weight.g Weight_GT20 Count Count_GT20\n",
       "1 1  1    Non-virgin field 2     1586.65  1537.88     15    12        \n",
       "2 2  1    Virgin field     2      207.26   160.03     11     2        \n",
       "3 4  2    Non-virgin field 1     1096.27  1077.21      9     8        \n",
       "4 5  2    Virgin field     1      610.05   610.50      5     5        \n",
       "5 6  3    Virgin field     5      814.12   801.73     12    11        \n",
       "6 7  3    Non-virgin field 5     1038.14  1009.35     14    11        \n",
       "  Sen_7.29.21 Sen_8.4.21 Sen_8.11.21 Sen_8.18.21 Sen_8.25.21 Sen_9.1.21\n",
       "1 10           8         10          15          10          15        \n",
       "2 20          25         20          30          30          40        \n",
       "3  5          10         15          15           8          15        \n",
       "4  0           0          0           0           0           0        \n",
       "5  0           0          0           5           5          10        \n",
       "6  0           0          2          10           8          10        \n",
       "  Sen_9.8.21 Sen_9.23.21\n",
       "1 30         40         \n",
       "2 40         50         \n",
       "3 35         70         \n",
       "4  2          5         \n",
       "5  5          5         \n",
       "6 10         10         "
      ]
     },
     "metadata": {},
     "output_type": "display_data"
    }
   ],
   "source": [
    "df1 = df[, c(1, 3:17)]\n",
    "head(df1)"
   ]
  },
  {
   "cell_type": "code",
   "execution_count": 8,
   "id": "proprietary-stage",
   "metadata": {},
   "outputs": [
    {
     "data": {
      "text/html": [
       "<dl>\n",
       "\t<dt>$ID</dt>\n",
       "\t\t<dd><ol class=list-inline>\n",
       "\t<li>1</li>\n",
       "\t<li>2</li>\n",
       "\t<li>4</li>\n",
       "\t<li>5</li>\n",
       "\t<li>6</li>\n",
       "\t<li>7</li>\n",
       "\t<li>8</li>\n",
       "\t<li>9</li>\n",
       "\t<li>10</li>\n",
       "\t<li>11</li>\n",
       "\t<li>12</li>\n",
       "\t<li>13</li>\n",
       "\t<li>14</li>\n",
       "\t<li>15</li>\n",
       "\t<li>16</li>\n",
       "\t<li>17</li>\n",
       "\t<li>18</li>\n",
       "\t<li>19</li>\n",
       "\t<li>20</li>\n",
       "\t<li>21</li>\n",
       "\t<li>22</li>\n",
       "\t<li>23</li>\n",
       "</ol>\n",
       "\n",
       "<details>\n",
       "\t<summary style=display:list-item;cursor:pointer>\n",
       "\t\t<strong>Levels</strong>:\n",
       "\t</summary>\n",
       "\t<ol class=list-inline>\n",
       "\t\t<li>'1'</li>\n",
       "\t\t<li>'2'</li>\n",
       "\t\t<li>'4'</li>\n",
       "\t\t<li>'5'</li>\n",
       "\t\t<li>'6'</li>\n",
       "\t\t<li>'7'</li>\n",
       "\t\t<li>'8'</li>\n",
       "\t\t<li>'9'</li>\n",
       "\t\t<li>'10'</li>\n",
       "\t\t<li>'11'</li>\n",
       "\t\t<li>'12'</li>\n",
       "\t\t<li>'13'</li>\n",
       "\t\t<li>'14'</li>\n",
       "\t\t<li>'15'</li>\n",
       "\t\t<li>'16'</li>\n",
       "\t\t<li>'17'</li>\n",
       "\t\t<li>'18'</li>\n",
       "\t\t<li>'19'</li>\n",
       "\t\t<li>'20'</li>\n",
       "\t\t<li>'21'</li>\n",
       "\t\t<li>'22'</li>\n",
       "\t\t<li>'23'</li>\n",
       "\t</ol>\n",
       "</details></dd>\n",
       "\t<dt>$Label</dt>\n",
       "\t\t<dd><ol class=list-inline>\n",
       "\t<li>1-0-1-2</li>\n",
       "\t<li>0-0-1-2</li>\n",
       "\t<li>1-0-2-1</li>\n",
       "\t<li>0-0-2-1</li>\n",
       "\t<li>0-0-3-5</li>\n",
       "\t<li>1-0-3-5</li>\n",
       "\t<li>0-1-4-2</li>\n",
       "\t<li>1-1-4-2</li>\n",
       "\t<li>0-0-5-4</li>\n",
       "\t<li>0-0-6-5</li>\n",
       "\t<li>0-0-7-6</li>\n",
       "\t<li>0-0-8-3</li>\n",
       "\t<li>1-0-5-4</li>\n",
       "\t<li>1-0-6-5</li>\n",
       "\t<li>1-0-7-6</li>\n",
       "\t<li>1-0-8-3</li>\n",
       "\t<li>0-1-9-3</li>\n",
       "\t<li>1-1-9-3</li>\n",
       "\t<li>0-1-10-1</li>\n",
       "\t<li>1-1-10-1</li>\n",
       "\t<li>0-1-11-4</li>\n",
       "\t<li>1-1-11-4</li>\n",
       "</ol>\n",
       "\n",
       "<details>\n",
       "\t<summary style=display:list-item;cursor:pointer>\n",
       "\t\t<strong>Levels</strong>:\n",
       "\t</summary>\n",
       "\t<ol class=list-inline>\n",
       "\t\t<li>'0-0-1-2'</li>\n",
       "\t\t<li>'0-0-2-1'</li>\n",
       "\t\t<li>'0-0-3-5'</li>\n",
       "\t\t<li>'0-0-5-4'</li>\n",
       "\t\t<li>'0-0-6-5'</li>\n",
       "\t\t<li>'0-0-7-6'</li>\n",
       "\t\t<li>'0-0-8-3'</li>\n",
       "\t\t<li>'0-1-10-1'</li>\n",
       "\t\t<li>'0-1-11-4'</li>\n",
       "\t\t<li>'0-1-4-2'</li>\n",
       "\t\t<li>'0-1-9-3'</li>\n",
       "\t\t<li>'1-0-1-2'</li>\n",
       "\t\t<li>'1-0-2-1'</li>\n",
       "\t\t<li>'1-0-3-5'</li>\n",
       "\t\t<li>'1-0-5-4'</li>\n",
       "\t\t<li>'1-0-6-5'</li>\n",
       "\t\t<li>'1-0-7-6'</li>\n",
       "\t\t<li>'1-0-8-3'</li>\n",
       "\t\t<li>'1-1-10-1'</li>\n",
       "\t\t<li>'1-1-11-4'</li>\n",
       "\t\t<li>'1-1-4-2'</li>\n",
       "\t\t<li>'1-1-9-3'</li>\n",
       "\t</ol>\n",
       "</details></dd>\n",
       "\t<dt>$Pair</dt>\n",
       "\t\t<dd><ol class=list-inline>\n",
       "\t<li>1</li>\n",
       "\t<li>2</li>\n",
       "\t<li>3</li>\n",
       "\t<li>4</li>\n",
       "\t<li>5</li>\n",
       "\t<li>6</li>\n",
       "\t<li>7</li>\n",
       "\t<li>8</li>\n",
       "\t<li>9</li>\n",
       "\t<li>10</li>\n",
       "\t<li>11</li>\n",
       "</ol>\n",
       "\n",
       "<details>\n",
       "\t<summary style=display:list-item;cursor:pointer>\n",
       "\t\t<strong>Levels</strong>:\n",
       "\t</summary>\n",
       "\t<ol class=list-inline>\n",
       "\t\t<li>'1'</li>\n",
       "\t\t<li>'2'</li>\n",
       "\t\t<li>'3'</li>\n",
       "\t\t<li>'4'</li>\n",
       "\t\t<li>'5'</li>\n",
       "\t\t<li>'6'</li>\n",
       "\t\t<li>'7'</li>\n",
       "\t\t<li>'8'</li>\n",
       "\t\t<li>'9'</li>\n",
       "\t\t<li>'10'</li>\n",
       "\t\t<li>'11'</li>\n",
       "\t</ol>\n",
       "</details></dd>\n",
       "\t<dt>$FieldType</dt>\n",
       "\t\t<dd><ol class=list-inline>\n",
       "\t<li>Non-virgin field</li>\n",
       "\t<li>Virgin field</li>\n",
       "</ol>\n",
       "\n",
       "<details>\n",
       "\t<summary style=display:list-item;cursor:pointer>\n",
       "\t\t<strong>Levels</strong>:\n",
       "\t</summary>\n",
       "\t<ol class=list-inline>\n",
       "\t\t<li>'Non-virgin field'</li>\n",
       "\t\t<li>'Virgin field'</li>\n",
       "\t</ol>\n",
       "</details></dd>\n",
       "\t<dt>$Block</dt>\n",
       "\t\t<dd><ol class=list-inline>\n",
       "\t<li>2</li>\n",
       "\t<li>1</li>\n",
       "\t<li>5</li>\n",
       "\t<li>4</li>\n",
       "\t<li>6</li>\n",
       "\t<li>3</li>\n",
       "</ol>\n",
       "\n",
       "<details>\n",
       "\t<summary style=display:list-item;cursor:pointer>\n",
       "\t\t<strong>Levels</strong>:\n",
       "\t</summary>\n",
       "\t<ol class=list-inline>\n",
       "\t\t<li>'1'</li>\n",
       "\t\t<li>'2'</li>\n",
       "\t\t<li>'3'</li>\n",
       "\t\t<li>'4'</li>\n",
       "\t\t<li>'5'</li>\n",
       "\t\t<li>'6'</li>\n",
       "\t</ol>\n",
       "</details></dd>\n",
       "\t<dt>$Weight.g</dt>\n",
       "\t\t<dd><ol class=list-inline>\n",
       "\t<li>1586.65</li>\n",
       "\t<li>207.26</li>\n",
       "\t<li>1096.27</li>\n",
       "\t<li>610.05</li>\n",
       "\t<li>814.12</li>\n",
       "\t<li>1038.14</li>\n",
       "\t<li>1378.06</li>\n",
       "\t<li>859.18</li>\n",
       "\t<li>394.53</li>\n",
       "\t<li>1546.06</li>\n",
       "\t<li>1300.45</li>\n",
       "\t<li>566.92</li>\n",
       "\t<li>929.24</li>\n",
       "\t<li>617.91</li>\n",
       "\t<li>662</li>\n",
       "\t<li>698.16</li>\n",
       "\t<li>1162.44</li>\n",
       "\t<li>510.1</li>\n",
       "\t<li>1100.35</li>\n",
       "\t<li>1042.63</li>\n",
       "\t<li>1034.51</li>\n",
       "\t<li>934.47</li>\n",
       "</ol>\n",
       "</dd>\n",
       "\t<dt>$Weight_GT20</dt>\n",
       "\t\t<dd><ol class=list-inline>\n",
       "\t<li>1537.88</li>\n",
       "\t<li>160.03</li>\n",
       "\t<li>1077.21</li>\n",
       "\t<li>610.5</li>\n",
       "\t<li>801.73</li>\n",
       "\t<li>1009.35</li>\n",
       "\t<li>1378.06</li>\n",
       "\t<li>859.18</li>\n",
       "\t<li>327.56</li>\n",
       "\t<li>1451.85</li>\n",
       "\t<li>1247.21</li>\n",
       "\t<li>557.47</li>\n",
       "\t<li>991.91</li>\n",
       "\t<li>665.87</li>\n",
       "\t<li>624.84</li>\n",
       "\t<li>694.08</li>\n",
       "\t<li>1033.32</li>\n",
       "\t<li>457.23</li>\n",
       "\t<li>1027.7</li>\n",
       "\t<li>1003.21</li>\n",
       "\t<li>982.02</li>\n",
       "\t<li>766.5</li>\n",
       "</ol>\n",
       "</dd>\n",
       "\t<dt>$Count</dt>\n",
       "\t\t<dd><ol class=list-inline>\n",
       "\t<li>15</li>\n",
       "\t<li>11</li>\n",
       "\t<li>9</li>\n",
       "\t<li>5</li>\n",
       "\t<li>12</li>\n",
       "\t<li>14</li>\n",
       "\t<li>7</li>\n",
       "\t<li>10</li>\n",
       "\t<li>22</li>\n",
       "\t<li>16</li>\n",
       "\t<li>13</li>\n",
       "\t<li>8</li>\n",
       "\t<li>26</li>\n",
       "\t<li>17</li>\n",
       "\t<li>21</li>\n",
       "\t<li>29</li>\n",
       "</ol>\n",
       "</dd>\n",
       "\t<dt>$Count_GT20</dt>\n",
       "\t\t<dd><ol class=list-inline>\n",
       "\t<li>12</li>\n",
       "\t<li>2</li>\n",
       "\t<li>8</li>\n",
       "\t<li>5</li>\n",
       "\t<li>11</li>\n",
       "\t<li>9</li>\n",
       "\t<li>7</li>\n",
       "\t<li>6</li>\n",
       "\t<li>15</li>\n",
       "\t<li>10</li>\n",
       "\t<li>16</li>\n",
       "</ol>\n",
       "</dd>\n",
       "\t<dt>$Sen_7.29.21</dt>\n",
       "\t\t<dd><ol class=list-inline>\n",
       "\t<li>10</li>\n",
       "\t<li>20</li>\n",
       "\t<li>5</li>\n",
       "\t<li>0</li>\n",
       "\t<li>8</li>\n",
       "\t<li>15</li>\n",
       "</ol>\n",
       "</dd>\n",
       "\t<dt>$Sen_8.4.21</dt>\n",
       "\t\t<dd><ol class=list-inline>\n",
       "\t<li>8</li>\n",
       "\t<li>25</li>\n",
       "\t<li>10</li>\n",
       "\t<li>0</li>\n",
       "\t<li>15</li>\n",
       "\t<li>2</li>\n",
       "</ol>\n",
       "</dd>\n",
       "\t<dt>$Sen_8.11.21</dt>\n",
       "\t\t<dd><ol class=list-inline>\n",
       "\t<li>10</li>\n",
       "\t<li>20</li>\n",
       "\t<li>15</li>\n",
       "\t<li>0</li>\n",
       "\t<li>2</li>\n",
       "\t<li>5</li>\n",
       "\t<li>8</li>\n",
       "</ol>\n",
       "</dd>\n",
       "\t<dt>$Sen_8.18.21</dt>\n",
       "\t\t<dd><ol class=list-inline>\n",
       "\t<li>15</li>\n",
       "\t<li>30</li>\n",
       "\t<li>0</li>\n",
       "\t<li>5</li>\n",
       "\t<li>10</li>\n",
       "\t<li>20</li>\n",
       "\t<li>25</li>\n",
       "</ol>\n",
       "</dd>\n",
       "\t<dt>$Sen_8.25.21</dt>\n",
       "\t\t<dd><ol class=list-inline>\n",
       "\t<li>10</li>\n",
       "\t<li>30</li>\n",
       "\t<li>8</li>\n",
       "\t<li>0</li>\n",
       "\t<li>5</li>\n",
       "\t<li>35</li>\n",
       "\t<li>15</li>\n",
       "</ol>\n",
       "</dd>\n",
       "\t<dt>$Sen_9.1.21</dt>\n",
       "\t\t<dd><ol class=list-inline>\n",
       "\t<li>15</li>\n",
       "\t<li>40</li>\n",
       "\t<li>0</li>\n",
       "\t<li>10</li>\n",
       "\t<li>35</li>\n",
       "\t<li>25</li>\n",
       "\t<li>5</li>\n",
       "\t<li>20</li>\n",
       "</ol>\n",
       "</dd>\n",
       "\t<dt>$Sen_9.8.21</dt>\n",
       "\t\t<dd><ol class=list-inline>\n",
       "\t<li>30</li>\n",
       "\t<li>40</li>\n",
       "\t<li>35</li>\n",
       "\t<li>2</li>\n",
       "\t<li>5</li>\n",
       "\t<li>10</li>\n",
       "\t<li>50</li>\n",
       "\t<li>15</li>\n",
       "\t<li>100</li>\n",
       "\t<li>0</li>\n",
       "\t<li>20</li>\n",
       "\t<li>25</li>\n",
       "</ol>\n",
       "</dd>\n",
       "\t<dt>$Sen_9.23.21</dt>\n",
       "\t\t<dd><ol class=list-inline>\n",
       "\t<li>40</li>\n",
       "\t<li>50</li>\n",
       "\t<li>70</li>\n",
       "\t<li>5</li>\n",
       "\t<li>10</li>\n",
       "\t<li>35</li>\n",
       "\t<li>45</li>\n",
       "\t<li>15</li>\n",
       "\t<li>20</li>\n",
       "\t<li>100</li>\n",
       "\t<li>30</li>\n",
       "\t<li>80</li>\n",
       "</ol>\n",
       "</dd>\n",
       "</dl>\n"
      ],
      "text/latex": [
       "\\begin{description}\n",
       "\\item[\\$ID] \\begin{enumerate*}\n",
       "\\item 1\n",
       "\\item 2\n",
       "\\item 4\n",
       "\\item 5\n",
       "\\item 6\n",
       "\\item 7\n",
       "\\item 8\n",
       "\\item 9\n",
       "\\item 10\n",
       "\\item 11\n",
       "\\item 12\n",
       "\\item 13\n",
       "\\item 14\n",
       "\\item 15\n",
       "\\item 16\n",
       "\\item 17\n",
       "\\item 18\n",
       "\\item 19\n",
       "\\item 20\n",
       "\\item 21\n",
       "\\item 22\n",
       "\\item 23\n",
       "\\end{enumerate*}\n",
       "\n",
       "\\emph{Levels}: \\begin{enumerate*}\n",
       "\\item '1'\n",
       "\\item '2'\n",
       "\\item '4'\n",
       "\\item '5'\n",
       "\\item '6'\n",
       "\\item '7'\n",
       "\\item '8'\n",
       "\\item '9'\n",
       "\\item '10'\n",
       "\\item '11'\n",
       "\\item '12'\n",
       "\\item '13'\n",
       "\\item '14'\n",
       "\\item '15'\n",
       "\\item '16'\n",
       "\\item '17'\n",
       "\\item '18'\n",
       "\\item '19'\n",
       "\\item '20'\n",
       "\\item '21'\n",
       "\\item '22'\n",
       "\\item '23'\n",
       "\\end{enumerate*}\n",
       "\n",
       "\\item[\\$Label] \\begin{enumerate*}\n",
       "\\item 1-0-1-2\n",
       "\\item 0-0-1-2\n",
       "\\item 1-0-2-1\n",
       "\\item 0-0-2-1\n",
       "\\item 0-0-3-5\n",
       "\\item 1-0-3-5\n",
       "\\item 0-1-4-2\n",
       "\\item 1-1-4-2\n",
       "\\item 0-0-5-4\n",
       "\\item 0-0-6-5\n",
       "\\item 0-0-7-6\n",
       "\\item 0-0-8-3\n",
       "\\item 1-0-5-4\n",
       "\\item 1-0-6-5\n",
       "\\item 1-0-7-6\n",
       "\\item 1-0-8-3\n",
       "\\item 0-1-9-3\n",
       "\\item 1-1-9-3\n",
       "\\item 0-1-10-1\n",
       "\\item 1-1-10-1\n",
       "\\item 0-1-11-4\n",
       "\\item 1-1-11-4\n",
       "\\end{enumerate*}\n",
       "\n",
       "\\emph{Levels}: \\begin{enumerate*}\n",
       "\\item '0-0-1-2'\n",
       "\\item '0-0-2-1'\n",
       "\\item '0-0-3-5'\n",
       "\\item '0-0-5-4'\n",
       "\\item '0-0-6-5'\n",
       "\\item '0-0-7-6'\n",
       "\\item '0-0-8-3'\n",
       "\\item '0-1-10-1'\n",
       "\\item '0-1-11-4'\n",
       "\\item '0-1-4-2'\n",
       "\\item '0-1-9-3'\n",
       "\\item '1-0-1-2'\n",
       "\\item '1-0-2-1'\n",
       "\\item '1-0-3-5'\n",
       "\\item '1-0-5-4'\n",
       "\\item '1-0-6-5'\n",
       "\\item '1-0-7-6'\n",
       "\\item '1-0-8-3'\n",
       "\\item '1-1-10-1'\n",
       "\\item '1-1-11-4'\n",
       "\\item '1-1-4-2'\n",
       "\\item '1-1-9-3'\n",
       "\\end{enumerate*}\n",
       "\n",
       "\\item[\\$Pair] \\begin{enumerate*}\n",
       "\\item 1\n",
       "\\item 2\n",
       "\\item 3\n",
       "\\item 4\n",
       "\\item 5\n",
       "\\item 6\n",
       "\\item 7\n",
       "\\item 8\n",
       "\\item 9\n",
       "\\item 10\n",
       "\\item 11\n",
       "\\end{enumerate*}\n",
       "\n",
       "\\emph{Levels}: \\begin{enumerate*}\n",
       "\\item '1'\n",
       "\\item '2'\n",
       "\\item '3'\n",
       "\\item '4'\n",
       "\\item '5'\n",
       "\\item '6'\n",
       "\\item '7'\n",
       "\\item '8'\n",
       "\\item '9'\n",
       "\\item '10'\n",
       "\\item '11'\n",
       "\\end{enumerate*}\n",
       "\n",
       "\\item[\\$FieldType] \\begin{enumerate*}\n",
       "\\item Non-virgin field\n",
       "\\item Virgin field\n",
       "\\end{enumerate*}\n",
       "\n",
       "\\emph{Levels}: \\begin{enumerate*}\n",
       "\\item 'Non-virgin field'\n",
       "\\item 'Virgin field'\n",
       "\\end{enumerate*}\n",
       "\n",
       "\\item[\\$Block] \\begin{enumerate*}\n",
       "\\item 2\n",
       "\\item 1\n",
       "\\item 5\n",
       "\\item 4\n",
       "\\item 6\n",
       "\\item 3\n",
       "\\end{enumerate*}\n",
       "\n",
       "\\emph{Levels}: \\begin{enumerate*}\n",
       "\\item '1'\n",
       "\\item '2'\n",
       "\\item '3'\n",
       "\\item '4'\n",
       "\\item '5'\n",
       "\\item '6'\n",
       "\\end{enumerate*}\n",
       "\n",
       "\\item[\\$Weight.g] \\begin{enumerate*}\n",
       "\\item 1586.65\n",
       "\\item 207.26\n",
       "\\item 1096.27\n",
       "\\item 610.05\n",
       "\\item 814.12\n",
       "\\item 1038.14\n",
       "\\item 1378.06\n",
       "\\item 859.18\n",
       "\\item 394.53\n",
       "\\item 1546.06\n",
       "\\item 1300.45\n",
       "\\item 566.92\n",
       "\\item 929.24\n",
       "\\item 617.91\n",
       "\\item 662\n",
       "\\item 698.16\n",
       "\\item 1162.44\n",
       "\\item 510.1\n",
       "\\item 1100.35\n",
       "\\item 1042.63\n",
       "\\item 1034.51\n",
       "\\item 934.47\n",
       "\\end{enumerate*}\n",
       "\n",
       "\\item[\\$Weight\\_GT20] \\begin{enumerate*}\n",
       "\\item 1537.88\n",
       "\\item 160.03\n",
       "\\item 1077.21\n",
       "\\item 610.5\n",
       "\\item 801.73\n",
       "\\item 1009.35\n",
       "\\item 1378.06\n",
       "\\item 859.18\n",
       "\\item 327.56\n",
       "\\item 1451.85\n",
       "\\item 1247.21\n",
       "\\item 557.47\n",
       "\\item 991.91\n",
       "\\item 665.87\n",
       "\\item 624.84\n",
       "\\item 694.08\n",
       "\\item 1033.32\n",
       "\\item 457.23\n",
       "\\item 1027.7\n",
       "\\item 1003.21\n",
       "\\item 982.02\n",
       "\\item 766.5\n",
       "\\end{enumerate*}\n",
       "\n",
       "\\item[\\$Count] \\begin{enumerate*}\n",
       "\\item 15\n",
       "\\item 11\n",
       "\\item 9\n",
       "\\item 5\n",
       "\\item 12\n",
       "\\item 14\n",
       "\\item 7\n",
       "\\item 10\n",
       "\\item 22\n",
       "\\item 16\n",
       "\\item 13\n",
       "\\item 8\n",
       "\\item 26\n",
       "\\item 17\n",
       "\\item 21\n",
       "\\item 29\n",
       "\\end{enumerate*}\n",
       "\n",
       "\\item[\\$Count\\_GT20] \\begin{enumerate*}\n",
       "\\item 12\n",
       "\\item 2\n",
       "\\item 8\n",
       "\\item 5\n",
       "\\item 11\n",
       "\\item 9\n",
       "\\item 7\n",
       "\\item 6\n",
       "\\item 15\n",
       "\\item 10\n",
       "\\item 16\n",
       "\\end{enumerate*}\n",
       "\n",
       "\\item[\\$Sen\\_7.29.21] \\begin{enumerate*}\n",
       "\\item 10\n",
       "\\item 20\n",
       "\\item 5\n",
       "\\item 0\n",
       "\\item 8\n",
       "\\item 15\n",
       "\\end{enumerate*}\n",
       "\n",
       "\\item[\\$Sen\\_8.4.21] \\begin{enumerate*}\n",
       "\\item 8\n",
       "\\item 25\n",
       "\\item 10\n",
       "\\item 0\n",
       "\\item 15\n",
       "\\item 2\n",
       "\\end{enumerate*}\n",
       "\n",
       "\\item[\\$Sen\\_8.11.21] \\begin{enumerate*}\n",
       "\\item 10\n",
       "\\item 20\n",
       "\\item 15\n",
       "\\item 0\n",
       "\\item 2\n",
       "\\item 5\n",
       "\\item 8\n",
       "\\end{enumerate*}\n",
       "\n",
       "\\item[\\$Sen\\_8.18.21] \\begin{enumerate*}\n",
       "\\item 15\n",
       "\\item 30\n",
       "\\item 0\n",
       "\\item 5\n",
       "\\item 10\n",
       "\\item 20\n",
       "\\item 25\n",
       "\\end{enumerate*}\n",
       "\n",
       "\\item[\\$Sen\\_8.25.21] \\begin{enumerate*}\n",
       "\\item 10\n",
       "\\item 30\n",
       "\\item 8\n",
       "\\item 0\n",
       "\\item 5\n",
       "\\item 35\n",
       "\\item 15\n",
       "\\end{enumerate*}\n",
       "\n",
       "\\item[\\$Sen\\_9.1.21] \\begin{enumerate*}\n",
       "\\item 15\n",
       "\\item 40\n",
       "\\item 0\n",
       "\\item 10\n",
       "\\item 35\n",
       "\\item 25\n",
       "\\item 5\n",
       "\\item 20\n",
       "\\end{enumerate*}\n",
       "\n",
       "\\item[\\$Sen\\_9.8.21] \\begin{enumerate*}\n",
       "\\item 30\n",
       "\\item 40\n",
       "\\item 35\n",
       "\\item 2\n",
       "\\item 5\n",
       "\\item 10\n",
       "\\item 50\n",
       "\\item 15\n",
       "\\item 100\n",
       "\\item 0\n",
       "\\item 20\n",
       "\\item 25\n",
       "\\end{enumerate*}\n",
       "\n",
       "\\item[\\$Sen\\_9.23.21] \\begin{enumerate*}\n",
       "\\item 40\n",
       "\\item 50\n",
       "\\item 70\n",
       "\\item 5\n",
       "\\item 10\n",
       "\\item 35\n",
       "\\item 45\n",
       "\\item 15\n",
       "\\item 20\n",
       "\\item 100\n",
       "\\item 30\n",
       "\\item 80\n",
       "\\end{enumerate*}\n",
       "\n",
       "\\end{description}\n"
      ],
      "text/markdown": [
       "$ID\n",
       ":   1. 1\n",
       "2. 2\n",
       "3. 4\n",
       "4. 5\n",
       "5. 6\n",
       "6. 7\n",
       "7. 8\n",
       "8. 9\n",
       "9. 10\n",
       "10. 11\n",
       "11. 12\n",
       "12. 13\n",
       "13. 14\n",
       "14. 15\n",
       "15. 16\n",
       "16. 17\n",
       "17. 18\n",
       "18. 19\n",
       "19. 20\n",
       "20. 21\n",
       "21. 22\n",
       "22. 23\n",
       "\n",
       "\n",
       "\n",
       "**Levels**: 1. '1'\n",
       "2. '2'\n",
       "3. '4'\n",
       "4. '5'\n",
       "5. '6'\n",
       "6. '7'\n",
       "7. '8'\n",
       "8. '9'\n",
       "9. '10'\n",
       "10. '11'\n",
       "11. '12'\n",
       "12. '13'\n",
       "13. '14'\n",
       "14. '15'\n",
       "15. '16'\n",
       "16. '17'\n",
       "17. '18'\n",
       "18. '19'\n",
       "19. '20'\n",
       "20. '21'\n",
       "21. '22'\n",
       "22. '23'\n",
       "\n",
       "\n",
       "\n",
       "$Label\n",
       ":   1. 1-0-1-2\n",
       "2. 0-0-1-2\n",
       "3. 1-0-2-1\n",
       "4. 0-0-2-1\n",
       "5. 0-0-3-5\n",
       "6. 1-0-3-5\n",
       "7. 0-1-4-2\n",
       "8. 1-1-4-2\n",
       "9. 0-0-5-4\n",
       "10. 0-0-6-5\n",
       "11. 0-0-7-6\n",
       "12. 0-0-8-3\n",
       "13. 1-0-5-4\n",
       "14. 1-0-6-5\n",
       "15. 1-0-7-6\n",
       "16. 1-0-8-3\n",
       "17. 0-1-9-3\n",
       "18. 1-1-9-3\n",
       "19. 0-1-10-1\n",
       "20. 1-1-10-1\n",
       "21. 0-1-11-4\n",
       "22. 1-1-11-4\n",
       "\n",
       "\n",
       "\n",
       "**Levels**: 1. '0-0-1-2'\n",
       "2. '0-0-2-1'\n",
       "3. '0-0-3-5'\n",
       "4. '0-0-5-4'\n",
       "5. '0-0-6-5'\n",
       "6. '0-0-7-6'\n",
       "7. '0-0-8-3'\n",
       "8. '0-1-10-1'\n",
       "9. '0-1-11-4'\n",
       "10. '0-1-4-2'\n",
       "11. '0-1-9-3'\n",
       "12. '1-0-1-2'\n",
       "13. '1-0-2-1'\n",
       "14. '1-0-3-5'\n",
       "15. '1-0-5-4'\n",
       "16. '1-0-6-5'\n",
       "17. '1-0-7-6'\n",
       "18. '1-0-8-3'\n",
       "19. '1-1-10-1'\n",
       "20. '1-1-11-4'\n",
       "21. '1-1-4-2'\n",
       "22. '1-1-9-3'\n",
       "\n",
       "\n",
       "\n",
       "$Pair\n",
       ":   1. 1\n",
       "2. 2\n",
       "3. 3\n",
       "4. 4\n",
       "5. 5\n",
       "6. 6\n",
       "7. 7\n",
       "8. 8\n",
       "9. 9\n",
       "10. 10\n",
       "11. 11\n",
       "\n",
       "\n",
       "\n",
       "**Levels**: 1. '1'\n",
       "2. '2'\n",
       "3. '3'\n",
       "4. '4'\n",
       "5. '5'\n",
       "6. '6'\n",
       "7. '7'\n",
       "8. '8'\n",
       "9. '9'\n",
       "10. '10'\n",
       "11. '11'\n",
       "\n",
       "\n",
       "\n",
       "$FieldType\n",
       ":   1. Non-virgin field\n",
       "2. Virgin field\n",
       "\n",
       "\n",
       "\n",
       "**Levels**: 1. 'Non-virgin field'\n",
       "2. 'Virgin field'\n",
       "\n",
       "\n",
       "\n",
       "$Block\n",
       ":   1. 2\n",
       "2. 1\n",
       "3. 5\n",
       "4. 4\n",
       "5. 6\n",
       "6. 3\n",
       "\n",
       "\n",
       "\n",
       "**Levels**: 1. '1'\n",
       "2. '2'\n",
       "3. '3'\n",
       "4. '4'\n",
       "5. '5'\n",
       "6. '6'\n",
       "\n",
       "\n",
       "\n",
       "$Weight.g\n",
       ":   1. 1586.65\n",
       "2. 207.26\n",
       "3. 1096.27\n",
       "4. 610.05\n",
       "5. 814.12\n",
       "6. 1038.14\n",
       "7. 1378.06\n",
       "8. 859.18\n",
       "9. 394.53\n",
       "10. 1546.06\n",
       "11. 1300.45\n",
       "12. 566.92\n",
       "13. 929.24\n",
       "14. 617.91\n",
       "15. 662\n",
       "16. 698.16\n",
       "17. 1162.44\n",
       "18. 510.1\n",
       "19. 1100.35\n",
       "20. 1042.63\n",
       "21. 1034.51\n",
       "22. 934.47\n",
       "\n",
       "\n",
       "\n",
       "$Weight_GT20\n",
       ":   1. 1537.88\n",
       "2. 160.03\n",
       "3. 1077.21\n",
       "4. 610.5\n",
       "5. 801.73\n",
       "6. 1009.35\n",
       "7. 1378.06\n",
       "8. 859.18\n",
       "9. 327.56\n",
       "10. 1451.85\n",
       "11. 1247.21\n",
       "12. 557.47\n",
       "13. 991.91\n",
       "14. 665.87\n",
       "15. 624.84\n",
       "16. 694.08\n",
       "17. 1033.32\n",
       "18. 457.23\n",
       "19. 1027.7\n",
       "20. 1003.21\n",
       "21. 982.02\n",
       "22. 766.5\n",
       "\n",
       "\n",
       "\n",
       "$Count\n",
       ":   1. 15\n",
       "2. 11\n",
       "3. 9\n",
       "4. 5\n",
       "5. 12\n",
       "6. 14\n",
       "7. 7\n",
       "8. 10\n",
       "9. 22\n",
       "10. 16\n",
       "11. 13\n",
       "12. 8\n",
       "13. 26\n",
       "14. 17\n",
       "15. 21\n",
       "16. 29\n",
       "\n",
       "\n",
       "\n",
       "$Count_GT20\n",
       ":   1. 12\n",
       "2. 2\n",
       "3. 8\n",
       "4. 5\n",
       "5. 11\n",
       "6. 9\n",
       "7. 7\n",
       "8. 6\n",
       "9. 15\n",
       "10. 10\n",
       "11. 16\n",
       "\n",
       "\n",
       "\n",
       "$Sen_7.29.21\n",
       ":   1. 10\n",
       "2. 20\n",
       "3. 5\n",
       "4. 0\n",
       "5. 8\n",
       "6. 15\n",
       "\n",
       "\n",
       "\n",
       "$Sen_8.4.21\n",
       ":   1. 8\n",
       "2. 25\n",
       "3. 10\n",
       "4. 0\n",
       "5. 15\n",
       "6. 2\n",
       "\n",
       "\n",
       "\n",
       "$Sen_8.11.21\n",
       ":   1. 10\n",
       "2. 20\n",
       "3. 15\n",
       "4. 0\n",
       "5. 2\n",
       "6. 5\n",
       "7. 8\n",
       "\n",
       "\n",
       "\n",
       "$Sen_8.18.21\n",
       ":   1. 15\n",
       "2. 30\n",
       "3. 0\n",
       "4. 5\n",
       "5. 10\n",
       "6. 20\n",
       "7. 25\n",
       "\n",
       "\n",
       "\n",
       "$Sen_8.25.21\n",
       ":   1. 10\n",
       "2. 30\n",
       "3. 8\n",
       "4. 0\n",
       "5. 5\n",
       "6. 35\n",
       "7. 15\n",
       "\n",
       "\n",
       "\n",
       "$Sen_9.1.21\n",
       ":   1. 15\n",
       "2. 40\n",
       "3. 0\n",
       "4. 10\n",
       "5. 35\n",
       "6. 25\n",
       "7. 5\n",
       "8. 20\n",
       "\n",
       "\n",
       "\n",
       "$Sen_9.8.21\n",
       ":   1. 30\n",
       "2. 40\n",
       "3. 35\n",
       "4. 2\n",
       "5. 5\n",
       "6. 10\n",
       "7. 50\n",
       "8. 15\n",
       "9. 100\n",
       "10. 0\n",
       "11. 20\n",
       "12. 25\n",
       "\n",
       "\n",
       "\n",
       "$Sen_9.23.21\n",
       ":   1. 40\n",
       "2. 50\n",
       "3. 70\n",
       "4. 5\n",
       "5. 10\n",
       "6. 35\n",
       "7. 45\n",
       "8. 15\n",
       "9. 20\n",
       "10. 100\n",
       "11. 30\n",
       "12. 80\n",
       "\n",
       "\n",
       "\n",
       "\n",
       "\n"
      ],
      "text/plain": [
       "$ID\n",
       " [1] 1  2  4  5  6  7  8  9  10 11 12 13 14 15 16 17 18 19 20 21 22 23\n",
       "Levels: 1 2 4 5 6 7 8 9 10 11 12 13 14 15 16 17 18 19 20 21 22 23\n",
       "\n",
       "$Label\n",
       " [1] 1-0-1-2  0-0-1-2  1-0-2-1  0-0-2-1  0-0-3-5  1-0-3-5  0-1-4-2  1-1-4-2 \n",
       " [9] 0-0-5-4  0-0-6-5  0-0-7-6  0-0-8-3  1-0-5-4  1-0-6-5  1-0-7-6  1-0-8-3 \n",
       "[17] 0-1-9-3  1-1-9-3  0-1-10-1 1-1-10-1 0-1-11-4 1-1-11-4\n",
       "22 Levels: 0-0-1-2 0-0-2-1 0-0-3-5 0-0-5-4 0-0-6-5 0-0-7-6 0-0-8-3 ... 1-1-9-3\n",
       "\n",
       "$Pair\n",
       " [1] 1  2  3  4  5  6  7  8  9  10 11\n",
       "Levels: 1 2 3 4 5 6 7 8 9 10 11\n",
       "\n",
       "$FieldType\n",
       "[1] Non-virgin field Virgin field    \n",
       "Levels: Non-virgin field Virgin field\n",
       "\n",
       "$Block\n",
       "[1] 2 1 5 4 6 3\n",
       "Levels: 1 2 3 4 5 6\n",
       "\n",
       "$Weight.g\n",
       " [1] 1586.65  207.26 1096.27  610.05  814.12 1038.14 1378.06  859.18  394.53\n",
       "[10] 1546.06 1300.45  566.92  929.24  617.91  662.00  698.16 1162.44  510.10\n",
       "[19] 1100.35 1042.63 1034.51  934.47\n",
       "\n",
       "$Weight_GT20\n",
       " [1] 1537.88  160.03 1077.21  610.50  801.73 1009.35 1378.06  859.18  327.56\n",
       "[10] 1451.85 1247.21  557.47  991.91  665.87  624.84  694.08 1033.32  457.23\n",
       "[19] 1027.70 1003.21  982.02  766.50\n",
       "\n",
       "$Count\n",
       " [1] 15 11  9  5 12 14  7 10 22 16 13  8 26 17 21 29\n",
       "\n",
       "$Count_GT20\n",
       " [1] 12  2  8  5 11  9  7  6 15 10 16\n",
       "\n",
       "$Sen_7.29.21\n",
       "[1] 10 20  5  0  8 15\n",
       "\n",
       "$Sen_8.4.21\n",
       "[1]  8 25 10  0 15  2\n",
       "\n",
       "$Sen_8.11.21\n",
       "[1] 10 20 15  0  2  5  8\n",
       "\n",
       "$Sen_8.18.21\n",
       "[1] 15 30  0  5 10 20 25\n",
       "\n",
       "$Sen_8.25.21\n",
       "[1] 10 30  8  0  5 35 15\n",
       "\n",
       "$Sen_9.1.21\n",
       "[1] 15 40  0 10 35 25  5 20\n",
       "\n",
       "$Sen_9.8.21\n",
       " [1]  30  40  35   2   5  10  50  15 100   0  20  25\n",
       "\n",
       "$Sen_9.23.21\n",
       " [1]  40  50  70   5  10  35  45  15  20 100  30  80\n"
      ]
     },
     "metadata": {},
     "output_type": "display_data"
    }
   ],
   "source": [
    "lapply(df, unique)"
   ]
  },
  {
   "cell_type": "markdown",
   "id": "rocky-garage",
   "metadata": {},
   "source": [
    "### Curate data"
   ]
  },
  {
   "cell_type": "markdown",
   "id": "stopped-laundry",
   "metadata": {},
   "source": [
    "AUSPC"
   ]
  },
  {
   "cell_type": "markdown",
   "id": "apparent-production",
   "metadata": {},
   "source": [
    "- Inspect names"
   ]
  },
  {
   "cell_type": "code",
   "execution_count": 9,
   "id": "comparable-synthetic",
   "metadata": {},
   "outputs": [
    {
     "data": {
      "text/html": [
       "<ol class=list-inline>\n",
       "\t<li>'ID'</li>\n",
       "\t<li>'Pair'</li>\n",
       "\t<li>'FieldType'</li>\n",
       "\t<li>'Block'</li>\n",
       "\t<li>'Weight.g'</li>\n",
       "\t<li>'Weight_GT20'</li>\n",
       "\t<li>'Count'</li>\n",
       "\t<li>'Count_GT20'</li>\n",
       "\t<li>'Sen_7.29.21'</li>\n",
       "\t<li>'Sen_8.4.21'</li>\n",
       "\t<li>'Sen_8.11.21'</li>\n",
       "\t<li>'Sen_8.18.21'</li>\n",
       "\t<li>'Sen_8.25.21'</li>\n",
       "\t<li>'Sen_9.1.21'</li>\n",
       "\t<li>'Sen_9.8.21'</li>\n",
       "\t<li>'Sen_9.23.21'</li>\n",
       "</ol>\n"
      ],
      "text/latex": [
       "\\begin{enumerate*}\n",
       "\\item 'ID'\n",
       "\\item 'Pair'\n",
       "\\item 'FieldType'\n",
       "\\item 'Block'\n",
       "\\item 'Weight.g'\n",
       "\\item 'Weight\\_GT20'\n",
       "\\item 'Count'\n",
       "\\item 'Count\\_GT20'\n",
       "\\item 'Sen\\_7.29.21'\n",
       "\\item 'Sen\\_8.4.21'\n",
       "\\item 'Sen\\_8.11.21'\n",
       "\\item 'Sen\\_8.18.21'\n",
       "\\item 'Sen\\_8.25.21'\n",
       "\\item 'Sen\\_9.1.21'\n",
       "\\item 'Sen\\_9.8.21'\n",
       "\\item 'Sen\\_9.23.21'\n",
       "\\end{enumerate*}\n"
      ],
      "text/markdown": [
       "1. 'ID'\n",
       "2. 'Pair'\n",
       "3. 'FieldType'\n",
       "4. 'Block'\n",
       "5. 'Weight.g'\n",
       "6. 'Weight_GT20'\n",
       "7. 'Count'\n",
       "8. 'Count_GT20'\n",
       "9. 'Sen_7.29.21'\n",
       "10. 'Sen_8.4.21'\n",
       "11. 'Sen_8.11.21'\n",
       "12. 'Sen_8.18.21'\n",
       "13. 'Sen_8.25.21'\n",
       "14. 'Sen_9.1.21'\n",
       "15. 'Sen_9.8.21'\n",
       "16. 'Sen_9.23.21'\n",
       "\n",
       "\n"
      ],
      "text/plain": [
       " [1] \"ID\"          \"Pair\"        \"FieldType\"   \"Block\"       \"Weight.g\"   \n",
       " [6] \"Weight_GT20\" \"Count\"       \"Count_GT20\"  \"Sen_7.29.21\" \"Sen_8.4.21\" \n",
       "[11] \"Sen_8.11.21\" \"Sen_8.18.21\" \"Sen_8.25.21\" \"Sen_9.1.21\"  \"Sen_9.8.21\" \n",
       "[16] \"Sen_9.23.21\""
      ]
     },
     "metadata": {},
     "output_type": "display_data"
    }
   ],
   "source": [
    "names(df1)"
   ]
  },
  {
   "cell_type": "markdown",
   "id": "rental-limitation",
   "metadata": {},
   "source": [
    "- Extract days of the month when data were collected"
   ]
  },
  {
   "cell_type": "code",
   "execution_count": 10,
   "id": "expanded-plastic",
   "metadata": {},
   "outputs": [
    {
     "data": {
      "text/html": [
       "<ol class=list-inline>\n",
       "\t<li>'29'</li>\n",
       "\t<li>'4'</li>\n",
       "\t<li>'11'</li>\n",
       "\t<li>'18'</li>\n",
       "\t<li>'25'</li>\n",
       "\t<li>'1'</li>\n",
       "\t<li>'8'</li>\n",
       "\t<li>'23'</li>\n",
       "</ol>\n"
      ],
      "text/latex": [
       "\\begin{enumerate*}\n",
       "\\item '29'\n",
       "\\item '4'\n",
       "\\item '11'\n",
       "\\item '18'\n",
       "\\item '25'\n",
       "\\item '1'\n",
       "\\item '8'\n",
       "\\item '23'\n",
       "\\end{enumerate*}\n"
      ],
      "text/markdown": [
       "1. '29'\n",
       "2. '4'\n",
       "3. '11'\n",
       "4. '18'\n",
       "5. '25'\n",
       "6. '1'\n",
       "7. '8'\n",
       "8. '23'\n",
       "\n",
       "\n"
      ],
      "text/plain": [
       "[1] \"29\" \"4\"  \"11\" \"18\" \"25\" \"1\"  \"8\"  \"23\""
      ]
     },
     "metadata": {},
     "output_type": "display_data"
    }
   ],
   "source": [
    "ts <- gsub(\"(?:[^.]+\\\\.){1}([^.]+).*\", \"\\\\1\",\n",
    "    names(df1)[(grepl(\"Sen\", names(df1)))])\n",
    "ts"
   ]
  },
  {
   "cell_type": "markdown",
   "id": "middle-thinking",
   "metadata": {},
   "source": [
    "- Convert to numbers"
   ]
  },
  {
   "cell_type": "code",
   "execution_count": 11,
   "id": "relevant-emergency",
   "metadata": {},
   "outputs": [
    {
     "data": {
      "text/html": [
       "<ol class=list-inline>\n",
       "\t<li>29</li>\n",
       "\t<li>4</li>\n",
       "\t<li>11</li>\n",
       "\t<li>18</li>\n",
       "\t<li>25</li>\n",
       "\t<li>1</li>\n",
       "\t<li>8</li>\n",
       "\t<li>23</li>\n",
       "</ol>\n"
      ],
      "text/latex": [
       "\\begin{enumerate*}\n",
       "\\item 29\n",
       "\\item 4\n",
       "\\item 11\n",
       "\\item 18\n",
       "\\item 25\n",
       "\\item 1\n",
       "\\item 8\n",
       "\\item 23\n",
       "\\end{enumerate*}\n"
      ],
      "text/markdown": [
       "1. 29\n",
       "2. 4\n",
       "3. 11\n",
       "4. 18\n",
       "5. 25\n",
       "6. 1\n",
       "7. 8\n",
       "8. 23\n",
       "\n",
       "\n"
      ],
      "text/plain": [
       "[1] 29  4 11 18 25  1  8 23"
      ]
     },
     "metadata": {},
     "output_type": "display_data"
    }
   ],
   "source": [
    "ts <- as.numeric(ts)\n",
    "ts"
   ]
  },
  {
   "cell_type": "code",
   "execution_count": 12,
   "id": "forced-mount",
   "metadata": {},
   "outputs": [
    {
     "data": {
      "text/html": [
       "<ol class=list-inline>\n",
       "\t<li>1</li>\n",
       "\t<li>7</li>\n",
       "\t<li>14</li>\n",
       "\t<li>21</li>\n",
       "\t<li>28</li>\n",
       "\t<li>33</li>\n",
       "\t<li>40</li>\n",
       "\t<li>55</li>\n",
       "</ol>\n"
      ],
      "text/latex": [
       "\\begin{enumerate*}\n",
       "\\item 1\n",
       "\\item 7\n",
       "\\item 14\n",
       "\\item 21\n",
       "\\item 28\n",
       "\\item 33\n",
       "\\item 40\n",
       "\\item 55\n",
       "\\end{enumerate*}\n"
      ],
      "text/markdown": [
       "1. 1\n",
       "2. 7\n",
       "3. 14\n",
       "4. 21\n",
       "5. 28\n",
       "6. 33\n",
       "7. 40\n",
       "8. 55\n",
       "\n",
       "\n"
      ],
      "text/plain": [
       "[1]  1  7 14 21 28 33 40 55"
      ]
     },
     "metadata": {},
     "output_type": "display_data"
    }
   ],
   "source": [
    "ts[2:5] = ts[2:5] +31\n",
    "ts[6:8] = ts[6:8]+60#= ts[2]+30\n",
    "ts = ts-28\n",
    "ts"
   ]
  },
  {
   "cell_type": "markdown",
   "id": "silver-plate",
   "metadata": {},
   "source": [
    "- Rename columns"
   ]
  },
  {
   "cell_type": "code",
   "execution_count": 13,
   "id": "loved-generation",
   "metadata": {},
   "outputs": [],
   "source": [
    "names(df1)[(grepl(\"Sen\", names(df1)))] <- ts"
   ]
  },
  {
   "cell_type": "markdown",
   "id": "clinical-bulgaria",
   "metadata": {},
   "source": [
    "- Sanity check"
   ]
  },
  {
   "cell_type": "code",
   "execution_count": 14,
   "id": "significant-contents",
   "metadata": {},
   "outputs": [
    {
     "data": {
      "text/html": [
       "<table>\n",
       "<thead><tr><th scope=col>ID</th><th scope=col>Pair</th><th scope=col>FieldType</th><th scope=col>Block</th><th scope=col>Weight.g</th><th scope=col>Weight_GT20</th><th scope=col>Count</th><th scope=col>Count_GT20</th><th scope=col>1</th><th scope=col>7</th><th scope=col>14</th><th scope=col>21</th><th scope=col>28</th><th scope=col>33</th><th scope=col>40</th><th scope=col>55</th></tr></thead>\n",
       "<tbody>\n",
       "\t<tr><td>1               </td><td>1               </td><td>Non-virgin field</td><td>2               </td><td>1586.65         </td><td>1537.88         </td><td>15              </td><td>12              </td><td>10              </td><td> 8              </td><td>10              </td><td>15              </td><td>10              </td><td>15              </td><td>30              </td><td>40              </td></tr>\n",
       "\t<tr><td>2               </td><td>1               </td><td>Virgin field    </td><td>2               </td><td> 207.26         </td><td> 160.03         </td><td>11              </td><td> 2              </td><td>20              </td><td>25              </td><td>20              </td><td>30              </td><td>30              </td><td>40              </td><td>40              </td><td>50              </td></tr>\n",
       "\t<tr><td>4               </td><td>2               </td><td>Non-virgin field</td><td>1               </td><td>1096.27         </td><td>1077.21         </td><td> 9              </td><td> 8              </td><td> 5              </td><td>10              </td><td>15              </td><td>15              </td><td> 8              </td><td>15              </td><td>35              </td><td>70              </td></tr>\n",
       "\t<tr><td>5               </td><td>2               </td><td>Virgin field    </td><td>1               </td><td> 610.05         </td><td> 610.50         </td><td> 5              </td><td> 5              </td><td> 0              </td><td> 0              </td><td> 0              </td><td> 0              </td><td> 0              </td><td> 0              </td><td> 2              </td><td> 5              </td></tr>\n",
       "\t<tr><td>6               </td><td>3               </td><td>Virgin field    </td><td>5               </td><td> 814.12         </td><td> 801.73         </td><td>12              </td><td>11              </td><td> 0              </td><td> 0              </td><td> 0              </td><td> 5              </td><td> 5              </td><td>10              </td><td> 5              </td><td> 5              </td></tr>\n",
       "\t<tr><td>7               </td><td>3               </td><td>Non-virgin field</td><td>5               </td><td>1038.14         </td><td>1009.35         </td><td>14              </td><td>11              </td><td> 0              </td><td> 0              </td><td> 2              </td><td>10              </td><td> 8              </td><td>10              </td><td>10              </td><td>10              </td></tr>\n",
       "</tbody>\n",
       "</table>\n"
      ],
      "text/latex": [
       "\\begin{tabular}{r|llllllllllllllll}\n",
       " ID & Pair & FieldType & Block & Weight.g & Weight\\_GT20 & Count & Count\\_GT20 & 1 & 7 & 14 & 21 & 28 & 33 & 40 & 55\\\\\n",
       "\\hline\n",
       "\t 1                & 1                & Non-virgin field & 2                & 1586.65          & 1537.88          & 15               & 12               & 10               &  8               & 10               & 15               & 10               & 15               & 30               & 40              \\\\\n",
       "\t 2                & 1                & Virgin field     & 2                &  207.26          &  160.03          & 11               &  2               & 20               & 25               & 20               & 30               & 30               & 40               & 40               & 50              \\\\\n",
       "\t 4                & 2                & Non-virgin field & 1                & 1096.27          & 1077.21          &  9               &  8               &  5               & 10               & 15               & 15               &  8               & 15               & 35               & 70              \\\\\n",
       "\t 5                & 2                & Virgin field     & 1                &  610.05          &  610.50          &  5               &  5               &  0               &  0               &  0               &  0               &  0               &  0               &  2               &  5              \\\\\n",
       "\t 6                & 3                & Virgin field     & 5                &  814.12          &  801.73          & 12               & 11               &  0               &  0               &  0               &  5               &  5               & 10               &  5               &  5              \\\\\n",
       "\t 7                & 3                & Non-virgin field & 5                & 1038.14          & 1009.35          & 14               & 11               &  0               &  0               &  2               & 10               &  8               & 10               & 10               & 10              \\\\\n",
       "\\end{tabular}\n"
      ],
      "text/markdown": [
       "\n",
       "| ID | Pair | FieldType | Block | Weight.g | Weight_GT20 | Count | Count_GT20 | 1 | 7 | 14 | 21 | 28 | 33 | 40 | 55 |\n",
       "|---|---|---|---|---|---|---|---|---|---|---|---|---|---|---|---|\n",
       "| 1                | 1                | Non-virgin field | 2                | 1586.65          | 1537.88          | 15               | 12               | 10               |  8               | 10               | 15               | 10               | 15               | 30               | 40               |\n",
       "| 2                | 1                | Virgin field     | 2                |  207.26          |  160.03          | 11               |  2               | 20               | 25               | 20               | 30               | 30               | 40               | 40               | 50               |\n",
       "| 4                | 2                | Non-virgin field | 1                | 1096.27          | 1077.21          |  9               |  8               |  5               | 10               | 15               | 15               |  8               | 15               | 35               | 70               |\n",
       "| 5                | 2                | Virgin field     | 1                |  610.05          |  610.50          |  5               |  5               |  0               |  0               |  0               |  0               |  0               |  0               |  2               |  5               |\n",
       "| 6                | 3                | Virgin field     | 5                |  814.12          |  801.73          | 12               | 11               |  0               |  0               |  0               |  5               |  5               | 10               |  5               |  5               |\n",
       "| 7                | 3                | Non-virgin field | 5                | 1038.14          | 1009.35          | 14               | 11               |  0               |  0               |  2               | 10               |  8               | 10               | 10               | 10               |\n",
       "\n"
      ],
      "text/plain": [
       "  ID Pair FieldType        Block Weight.g Weight_GT20 Count Count_GT20 1  7  14\n",
       "1 1  1    Non-virgin field 2     1586.65  1537.88     15    12         10  8 10\n",
       "2 2  1    Virgin field     2      207.26   160.03     11     2         20 25 20\n",
       "3 4  2    Non-virgin field 1     1096.27  1077.21      9     8          5 10 15\n",
       "4 5  2    Virgin field     1      610.05   610.50      5     5          0  0  0\n",
       "5 6  3    Virgin field     5      814.12   801.73     12    11          0  0  0\n",
       "6 7  3    Non-virgin field 5     1038.14  1009.35     14    11          0  0  2\n",
       "  21 28 33 40 55\n",
       "1 15 10 15 30 40\n",
       "2 30 30 40 40 50\n",
       "3 15  8 15 35 70\n",
       "4  0  0  0  2  5\n",
       "5  5  5 10  5  5\n",
       "6 10  8 10 10 10"
      ]
     },
     "metadata": {},
     "output_type": "display_data"
    }
   ],
   "source": [
    "head(df1)"
   ]
  },
  {
   "cell_type": "code",
   "execution_count": 15,
   "id": "decent-davis",
   "metadata": {},
   "outputs": [
    {
     "data": {
      "text/html": [
       "<ol class=list-inline>\n",
       "\t<li>'ID'</li>\n",
       "\t<li>'Pair'</li>\n",
       "\t<li>'FieldType'</li>\n",
       "\t<li>'Block'</li>\n",
       "\t<li>'Weight.g'</li>\n",
       "\t<li>'Weight_GT20'</li>\n",
       "\t<li>'Count'</li>\n",
       "\t<li>'Count_GT20'</li>\n",
       "\t<li>'1'</li>\n",
       "\t<li>'7'</li>\n",
       "\t<li>'14'</li>\n",
       "\t<li>'21'</li>\n",
       "\t<li>'28'</li>\n",
       "\t<li>'33'</li>\n",
       "\t<li>'40'</li>\n",
       "\t<li>'55'</li>\n",
       "</ol>\n"
      ],
      "text/latex": [
       "\\begin{enumerate*}\n",
       "\\item 'ID'\n",
       "\\item 'Pair'\n",
       "\\item 'FieldType'\n",
       "\\item 'Block'\n",
       "\\item 'Weight.g'\n",
       "\\item 'Weight\\_GT20'\n",
       "\\item 'Count'\n",
       "\\item 'Count\\_GT20'\n",
       "\\item '1'\n",
       "\\item '7'\n",
       "\\item '14'\n",
       "\\item '21'\n",
       "\\item '28'\n",
       "\\item '33'\n",
       "\\item '40'\n",
       "\\item '55'\n",
       "\\end{enumerate*}\n"
      ],
      "text/markdown": [
       "1. 'ID'\n",
       "2. 'Pair'\n",
       "3. 'FieldType'\n",
       "4. 'Block'\n",
       "5. 'Weight.g'\n",
       "6. 'Weight_GT20'\n",
       "7. 'Count'\n",
       "8. 'Count_GT20'\n",
       "9. '1'\n",
       "10. '7'\n",
       "11. '14'\n",
       "12. '21'\n",
       "13. '28'\n",
       "14. '33'\n",
       "15. '40'\n",
       "16. '55'\n",
       "\n",
       "\n"
      ],
      "text/plain": [
       " [1] \"ID\"          \"Pair\"        \"FieldType\"   \"Block\"       \"Weight.g\"   \n",
       " [6] \"Weight_GT20\" \"Count\"       \"Count_GT20\"  \"1\"           \"7\"          \n",
       "[11] \"14\"          \"21\"          \"28\"          \"33\"          \"40\"         \n",
       "[16] \"55\"         "
      ]
     },
     "metadata": {},
     "output_type": "display_data"
    }
   ],
   "source": [
    "names(df1)"
   ]
  },
  {
   "cell_type": "code",
   "execution_count": 16,
   "id": "steady-kenya",
   "metadata": {},
   "outputs": [
    {
     "data": {
      "text/html": [
       "<table>\n",
       "<thead><tr><th scope=col>ID</th><th scope=col>Pair</th><th scope=col>FieldType</th><th scope=col>Block</th><th scope=col>Weight.g</th><th scope=col>Weight_GT20</th><th scope=col>Count</th><th scope=col>Count_GT20</th><th scope=col>1</th><th scope=col>7</th><th scope=col>14</th><th scope=col>21</th><th scope=col>28</th><th scope=col>33</th><th scope=col>40</th><th scope=col>55</th><th scope=col>AUDPC</th></tr></thead>\n",
       "<tbody>\n",
       "\t<tr><td>1               </td><td>1               </td><td>Non-virgin field</td><td>2               </td><td>1586.65         </td><td>1537.88         </td><td>15              </td><td>12              </td><td>10              </td><td> 8              </td><td>10              </td><td>15              </td><td>10              </td><td>15              </td><td>30              </td><td>40              </td><td>1037.0          </td></tr>\n",
       "\t<tr><td>2               </td><td>1               </td><td>Virgin field    </td><td>2               </td><td> 207.26         </td><td> 160.03         </td><td>11              </td><td> 2              </td><td>20              </td><td>25              </td><td>20              </td><td>30              </td><td>30              </td><td>40              </td><td>40              </td><td>50              </td><td>1807.5          </td></tr>\n",
       "\t<tr><td>4               </td><td>2               </td><td>Non-virgin field</td><td>1               </td><td>1096.27         </td><td>1077.21         </td><td> 9              </td><td> 8              </td><td> 5              </td><td>10              </td><td>15              </td><td>15              </td><td> 8              </td><td>15              </td><td>35              </td><td>70              </td><td>1338.0          </td></tr>\n",
       "\t<tr><td>5               </td><td>2               </td><td>Virgin field    </td><td>1               </td><td> 610.05         </td><td> 610.50         </td><td> 5              </td><td> 5              </td><td> 0              </td><td> 0              </td><td> 0              </td><td> 0              </td><td> 0              </td><td> 0              </td><td> 2              </td><td> 5              </td><td>  59.5          </td></tr>\n",
       "\t<tr><td>6               </td><td>3               </td><td>Virgin field    </td><td>5               </td><td> 814.12         </td><td> 801.73         </td><td>12              </td><td>11              </td><td> 0              </td><td> 0              </td><td> 0              </td><td> 5              </td><td> 5              </td><td>10              </td><td> 5              </td><td> 5              </td><td> 217.5          </td></tr>\n",
       "\t<tr><td>7               </td><td>3               </td><td>Non-virgin field</td><td>5               </td><td>1038.14         </td><td>1009.35         </td><td>14              </td><td>11              </td><td> 0              </td><td> 0              </td><td> 2              </td><td>10              </td><td> 8              </td><td>10              </td><td>10              </td><td>10              </td><td> 377.0          </td></tr>\n",
       "</tbody>\n",
       "</table>\n"
      ],
      "text/latex": [
       "\\begin{tabular}{r|lllllllllllllllll}\n",
       " ID & Pair & FieldType & Block & Weight.g & Weight\\_GT20 & Count & Count\\_GT20 & 1 & 7 & 14 & 21 & 28 & 33 & 40 & 55 & AUDPC\\\\\n",
       "\\hline\n",
       "\t 1                & 1                & Non-virgin field & 2                & 1586.65          & 1537.88          & 15               & 12               & 10               &  8               & 10               & 15               & 10               & 15               & 30               & 40               & 1037.0          \\\\\n",
       "\t 2                & 1                & Virgin field     & 2                &  207.26          &  160.03          & 11               &  2               & 20               & 25               & 20               & 30               & 30               & 40               & 40               & 50               & 1807.5          \\\\\n",
       "\t 4                & 2                & Non-virgin field & 1                & 1096.27          & 1077.21          &  9               &  8               &  5               & 10               & 15               & 15               &  8               & 15               & 35               & 70               & 1338.0          \\\\\n",
       "\t 5                & 2                & Virgin field     & 1                &  610.05          &  610.50          &  5               &  5               &  0               &  0               &  0               &  0               &  0               &  0               &  2               &  5               &   59.5          \\\\\n",
       "\t 6                & 3                & Virgin field     & 5                &  814.12          &  801.73          & 12               & 11               &  0               &  0               &  0               &  5               &  5               & 10               &  5               &  5               &  217.5          \\\\\n",
       "\t 7                & 3                & Non-virgin field & 5                & 1038.14          & 1009.35          & 14               & 11               &  0               &  0               &  2               & 10               &  8               & 10               & 10               & 10               &  377.0          \\\\\n",
       "\\end{tabular}\n"
      ],
      "text/markdown": [
       "\n",
       "| ID | Pair | FieldType | Block | Weight.g | Weight_GT20 | Count | Count_GT20 | 1 | 7 | 14 | 21 | 28 | 33 | 40 | 55 | AUDPC |\n",
       "|---|---|---|---|---|---|---|---|---|---|---|---|---|---|---|---|---|\n",
       "| 1                | 1                | Non-virgin field | 2                | 1586.65          | 1537.88          | 15               | 12               | 10               |  8               | 10               | 15               | 10               | 15               | 30               | 40               | 1037.0           |\n",
       "| 2                | 1                | Virgin field     | 2                |  207.26          |  160.03          | 11               |  2               | 20               | 25               | 20               | 30               | 30               | 40               | 40               | 50               | 1807.5           |\n",
       "| 4                | 2                | Non-virgin field | 1                | 1096.27          | 1077.21          |  9               |  8               |  5               | 10               | 15               | 15               |  8               | 15               | 35               | 70               | 1338.0           |\n",
       "| 5                | 2                | Virgin field     | 1                |  610.05          |  610.50          |  5               |  5               |  0               |  0               |  0               |  0               |  0               |  0               |  2               |  5               |   59.5           |\n",
       "| 6                | 3                | Virgin field     | 5                |  814.12          |  801.73          | 12               | 11               |  0               |  0               |  0               |  5               |  5               | 10               |  5               |  5               |  217.5           |\n",
       "| 7                | 3                | Non-virgin field | 5                | 1038.14          | 1009.35          | 14               | 11               |  0               |  0               |  2               | 10               |  8               | 10               | 10               | 10               |  377.0           |\n",
       "\n"
      ],
      "text/plain": [
       "  ID Pair FieldType        Block Weight.g Weight_GT20 Count Count_GT20 1  7  14\n",
       "1 1  1    Non-virgin field 2     1586.65  1537.88     15    12         10  8 10\n",
       "2 2  1    Virgin field     2      207.26   160.03     11     2         20 25 20\n",
       "3 4  2    Non-virgin field 1     1096.27  1077.21      9     8          5 10 15\n",
       "4 5  2    Virgin field     1      610.05   610.50      5     5          0  0  0\n",
       "5 6  3    Virgin field     5      814.12   801.73     12    11          0  0  0\n",
       "6 7  3    Non-virgin field 5     1038.14  1009.35     14    11          0  0  2\n",
       "  21 28 33 40 55 AUDPC \n",
       "1 15 10 15 30 40 1037.0\n",
       "2 30 30 40 40 50 1807.5\n",
       "3 15  8 15 35 70 1338.0\n",
       "4  0  0  0  2  5   59.5\n",
       "5  5  5 10  5  5  217.5\n",
       "6 10  8 10 10 10  377.0"
      ]
     },
     "metadata": {},
     "output_type": "display_data"
    }
   ],
   "source": [
    "df1$AUDPC <- audpc(df1[,9:16],ts)\n",
    "head(df1)"
   ]
  },
  {
   "cell_type": "markdown",
   "id": "supreme-sound",
   "metadata": {},
   "source": [
    "### Inference (AUDPC)"
   ]
  },
  {
   "cell_type": "code",
   "execution_count": 31,
   "id": "great-sampling",
   "metadata": {},
   "outputs": [
    {
     "data": {
      "image/png": "[encoded data removed]",
      "text/plain": [
       "plot without title"
      ]
     },
     "metadata": {},
     "output_type": "display_data"
    }
   ],
   "source": [
    "options(repr.plot.width = 5, repr.plot.height = 3)\n",
    "ggplot(data = df1, aes(x =FieldType, y = AUDPC, color = FieldType))+\n",
    "    geom_boxplot()+\n",
    "    geom_jitter(alpha=0.8, position=position_jitter(width=0.1))+\n",
    "    theme_bw()+\n",
    "    labs(x = 'Field Type', y=\"Senescence(AUSPC)\") +\n",
    "    theme(legend.position = \"none\")+\n",
    "    theme(axis.title.x= element_text(size =14, color ='black'),\n",
    "        axis.title.y = element_text(size =14, color ='black'),\n",
    "        axis.text.x = element_text(size =12,color = 'black'),\n",
    "        axis.text.y = element_text(size =12, color = 'black'))"
   ]
  },
  {
   "cell_type": "markdown",
   "id": "focal-admission",
   "metadata": {},
   "source": [
    "#### Diagnostics"
   ]
  },
  {
   "cell_type": "code",
   "execution_count": 33,
   "id": "exceptional-holocaust",
   "metadata": {},
   "outputs": [
    {
     "data": {
      "image/png": "[encoded data removed]",
      "text/plain": [
       "Plot with title \"\""
      ]
     },
     "metadata": {},
     "output_type": "display_data"
    },
    {
     "data": {
      "image/png": "[encoded data removed]",
      "text/plain": [
       "Plot with title \"\""
      ]
     },
     "metadata": {},
     "output_type": "display_data"
    },
    {
     "data": {
      "image/png": "[encoded data removed]",
      "text/plain": [
       "Plot with title \"\""
      ]
     },
     "metadata": {},
     "output_type": "display_data"
    },
    {
     "data": {
      "image/png": "[encoded data removed]",
      "text/plain": [
       "Plot with title \"\""
      ]
     },
     "metadata": {},
     "output_type": "display_data"
    }
   ],
   "source": [
    "d <- lm(AUDPC ~ FieldType + Block, data=df1)\n",
    "plot(d, col = df1$FieldType)"
   ]
  },
  {
   "cell_type": "code",
   "execution_count": 37,
   "id": "express-composition",
   "metadata": {},
   "outputs": [
    {
     "data": {
      "text/plain": [
       "\n",
       "\tPaired t-test\n",
       "\n",
       "data:  AUDPC by FieldType\n",
       "t = -0.56969, df = 10, p-value = 0.5815\n",
       "alternative hypothesis: true difference in means is not equal to 0\n",
       "95 percent confidence interval:\n",
       " -879.5398  521.3580\n",
       "sample estimates:\n",
       "mean of the differences \n",
       "              -179.0909 \n"
      ]
     },
     "metadata": {},
     "output_type": "display_data"
    }
   ],
   "source": [
    "t.test(AUDPC~ FieldType, \n",
    "       paired=T, \n",
    "       data=df1)"
   ]
  },
  {
   "cell_type": "markdown",
   "id": "variable-shanghai",
   "metadata": {},
   "source": [
    "### Inference (Tuber weight >20 gm)"
   ]
  },
  {
   "cell_type": "code",
   "execution_count": 59,
   "id": "charitable-temple",
   "metadata": {},
   "outputs": [
    {
     "data": {
      "image/png": "[encoded data removed]",
      "text/plain": [
       "plot without title"
      ]
     },
     "metadata": {},
     "output_type": "display_data"
    }
   ],
   "source": [
    "options(repr.plot.width = 5, repr.plot.height = 3)\n",
    "ggplot(data = df1, aes(x =FieldType, y = Weight_GT20, color = FieldType))+\n",
    "    geom_boxplot()+\n",
    "    geom_jitter(alpha=0.8, position=position_jitter(width=0.1))+\n",
    "    theme_bw()+\n",
    "    labs(x = 'Field Type', y=\"Weight (>20gm)\") +\n",
    "    theme(legend.position = \"none\")+\n",
    "    theme(axis.title.x= element_text(size =14, color ='black'),\n",
    "        axis.title.y = element_text(size =14, color ='black'),\n",
    "        axis.text.x = element_text(size =12,color = 'black'),\n",
    "        axis.text.y = element_text(size =12, color = 'black'))"
   ]
  },
  {
   "cell_type": "markdown",
   "id": "electronic-software",
   "metadata": {},
   "source": [
    "#### Diagnostics"
   ]
  },
  {
   "cell_type": "code",
   "execution_count": 39,
   "id": "scenic-interview",
   "metadata": {},
   "outputs": [
    {
     "data": {
      "image/png": "[encoded data removed]",
      "text/plain": [
       "Plot with title \"\""
      ]
     },
     "metadata": {},
     "output_type": "display_data"
    },
    {
     "data": {
      "image/png": "[encoded data removed]",
      "text/plain": [
       "Plot with title \"\""
      ]
     },
     "metadata": {},
     "output_type": "display_data"
    },
    {
     "data": {
      "image/png": "[encoded data removed]",
      "text/plain": [
       "Plot with title \"\""
      ]
     },
     "metadata": {},
     "output_type": "display_data"
    },
    {
     "data": {
      "image/png": "[encoded data removed]",
      "text/plain": [
       "Plot with title \"\""
      ]
     },
     "metadata": {},
     "output_type": "display_data"
    }
   ],
   "source": [
    "d <- lm(Weight_GT20 ~ FieldType + Block, data=df1)\n",
    "plot(d, col = df1$FieldType)"
   ]
  },
  {
   "cell_type": "code",
   "execution_count": 41,
   "id": "framed-suspect",
   "metadata": {},
   "outputs": [
    {
     "data": {
      "text/plain": [
       "\n",
       "\tPaired t-test\n",
       "\n",
       "data:  Weight_GT20 by FieldType\n",
       "t = 0.050658, df = 10, p-value = 0.9606\n",
       "alternative hypothesis: true difference in means is not equal to 0\n",
       "95 percent confidence interval:\n",
       " -429.0946  449.0600\n",
       "sample estimates:\n",
       "mean of the differences \n",
       "               9.982727 \n"
      ]
     },
     "metadata": {},
     "output_type": "display_data"
    }
   ],
   "source": [
    "t.test(Weight_GT20 ~ FieldType, \n",
    "       paired=T, \n",
    "       data=df1)"
   ]
  },
  {
   "cell_type": "markdown",
   "id": "recognized-reduction",
   "metadata": {},
   "source": [
    "### Inference (Tuber weight All)"
   ]
  },
  {
   "cell_type": "code",
   "execution_count": 44,
   "id": "logical-gauge",
   "metadata": {},
   "outputs": [
    {
     "data": {
      "image/png": "[encoded data removed]",
      "text/plain": [
       "plot without title"
      ]
     },
     "metadata": {},
     "output_type": "display_data"
    }
   ],
   "source": [
    "options(repr.plot.width = 5, repr.plot.height = 3)\n",
    "ggplot(data = df1, aes(x =FieldType, y = Weight.g, color = FieldType))+\n",
    "    geom_boxplot()+\n",
    "    geom_jitter(alpha=0.8, position=position_jitter(width=0.1))+\n",
    "    theme_bw()+\n",
    "    labs(x = 'Field Type', y=\"Tuber weight (All)\") +\n",
    "    theme(legend.position = \"none\")+\n",
    "    theme(axis.title.x= element_text(size =14, color ='black'),\n",
    "        axis.title.y = element_text(size =14, color ='black'),\n",
    "        axis.text.x = element_text(size =12,color = 'black'),\n",
    "        axis.text.y = element_text(size =12, color = 'black'))"
   ]
  },
  {
   "cell_type": "markdown",
   "id": "defensive-uniform",
   "metadata": {},
   "source": [
    "#### Diagnostics"
   ]
  },
  {
   "cell_type": "code",
   "execution_count": 45,
   "id": "organizational-victoria",
   "metadata": {},
   "outputs": [
    {
     "data": {
      "image/png": "[encoded data removed]",
      "text/plain": [
       "Plot with title \"\""
      ]
     },
     "metadata": {},
     "output_type": "display_data"
    },
    {
     "data": {
      "image/png": "[encoded data removed]",
      "text/plain": [
       "Plot with title \"\""
      ]
     },
     "metadata": {},
     "output_type": "display_data"
    },
    {
     "data": {
      "image/png": "[encoded data removed]",
      "text/plain": [
       "Plot with title \"\""
      ]
     },
     "metadata": {},
     "output_type": "display_data"
    },
    {
     "data": {
      "image/png": "[encoded data removed]",
      "text/plain": [
       "Plot with title \"\""
      ]
     },
     "metadata": {},
     "output_type": "display_data"
    }
   ],
   "source": [
    "d <- lm(Weight.g ~ FieldType + Block, data=df1)\n",
    "plot(d, col = df1$FieldType)"
   ]
  },
  {
   "cell_type": "code",
   "execution_count": 46,
   "id": "veterinary-shopper",
   "metadata": {},
   "outputs": [
    {
     "data": {
      "text/plain": [
       "\n",
       "\tPaired t-test\n",
       "\n",
       "data:  Weight.g by FieldType\n",
       "t = -0.063151, df = 10, p-value = 0.9509\n",
       "alternative hypothesis: true difference in means is not equal to 0\n",
       "95 percent confidence interval:\n",
       " -461.7789  436.3244\n",
       "sample estimates:\n",
       "mean of the differences \n",
       "              -12.72727 \n"
      ]
     },
     "metadata": {},
     "output_type": "display_data"
    }
   ],
   "source": [
    "t.test(Weight.g~ FieldType, \n",
    "       paired=T, \n",
    "       data=df1)"
   ]
  },
  {
   "cell_type": "markdown",
   "id": "blond-intelligence",
   "metadata": {},
   "source": [
    "### Inference (Tuber count >20gm)"
   ]
  },
  {
   "cell_type": "code",
   "execution_count": 48,
   "id": "public-woman",
   "metadata": {},
   "outputs": [
    {
     "data": {
      "image/png": "[encoded data removed]",
      "text/plain": [
       "plot without title"
      ]
     },
     "metadata": {},
     "output_type": "display_data"
    }
   ],
   "source": [
    "options(repr.plot.width = 5, repr.plot.height = 3)\n",
    "ggplot(data = df1, aes(x =FieldType, y = Count_GT20, color = FieldType))+\n",
    "    geom_boxplot()+\n",
    "    geom_jitter(alpha=0.8, position=position_jitter(width=0.1))+\n",
    "    theme_bw()+\n",
    "    labs(x = 'Field Type', y=\"Tuber count(>20 gm))\") +\n",
    "    theme(legend.position = \"none\")+\n",
    "    theme(axis.title.x= element_text(size =14, color ='black'),\n",
    "        axis.title.y = element_text(size =14, color ='black'),\n",
    "        axis.text.x = element_text(size =12,color = 'black'),\n",
    "        axis.text.y = element_text(size =12, color = 'black'))"
   ]
  },
  {
   "cell_type": "markdown",
   "id": "adapted-edition",
   "metadata": {},
   "source": [
    "#### Diagnostics"
   ]
  },
  {
   "cell_type": "code",
   "execution_count": 49,
   "id": "extended-school",
   "metadata": {},
   "outputs": [
    {
     "data": {
      "image/png": "[encoded data removed]",
      "text/plain": [
       "Plot with title \"\""
      ]
     },
     "metadata": {},
     "output_type": "display_data"
    },
    {
     "data": {
      "image/png": "[encoded data removed]",
      "text/plain": [
       "Plot with title \"\""
      ]
     },
     "metadata": {},
     "output_type": "display_data"
    },
    {
     "data": {
      "image/png": "[encoded data removed]",
      "text/plain": [
       "Plot with title \"\""
      ]
     },
     "metadata": {},
     "output_type": "display_data"
    },
    {
     "data": {
      "image/png": "[encoded data removed]",
      "text/plain": [
       "Plot with title \"\""
      ]
     },
     "metadata": {},
     "output_type": "display_data"
    }
   ],
   "source": [
    "d <- lm(Count_GT20 ~ FieldType + Block, data=df1)\n",
    "plot(d, col = df1$FieldType)"
   ]
  },
  {
   "cell_type": "code",
   "execution_count": 50,
   "id": "usual-brand",
   "metadata": {},
   "outputs": [
    {
     "data": {
      "text/plain": [
       "\n",
       "\tPaired t-test\n",
       "\n",
       "data:  Count_GT20 by FieldType\n",
       "t = -0.29988, df = 10, p-value = 0.7704\n",
       "alternative hypothesis: true difference in means is not equal to 0\n",
       "95 percent confidence interval:\n",
       " -3.831864  2.922773\n",
       "sample estimates:\n",
       "mean of the differences \n",
       "             -0.4545455 \n"
      ]
     },
     "metadata": {},
     "output_type": "display_data"
    }
   ],
   "source": [
    "t.test(Count_GT20~ FieldType, \n",
    "       paired=T, \n",
    "       data=df1)"
   ]
  },
  {
   "cell_type": "markdown",
   "id": "alert-worry",
   "metadata": {},
   "source": [
    "### Inference (Tuber count- All)"
   ]
  },
  {
   "cell_type": "code",
   "execution_count": 52,
   "id": "former-grenada",
   "metadata": {},
   "outputs": [
    {
     "data": {
      "image/png": "[encoded data removed]",
      "text/plain": [
       "plot without title"
      ]
     },
     "metadata": {},
     "output_type": "display_data"
    }
   ],
   "source": [
    "options(repr.plot.width = 5, repr.plot.height = 3)\n",
    "ggplot(data = df1, aes(x =FieldType, y = Count, color = FieldType))+\n",
    "    geom_boxplot()+\n",
    "    geom_jitter(alpha=0.8, position=position_jitter(width=0.1))+\n",
    "    theme_bw()+\n",
    "    labs(x = 'Field Type', y=\"Tuber count\") +\n",
    "    theme(legend.position = \"none\")+\n",
    "    theme(axis.title.x= element_text(size =14, color ='black'),\n",
    "        axis.title.y = element_text(size =14, color ='black'),\n",
    "        axis.text.x = element_text(size =12,color = 'black'),\n",
    "        axis.text.y = element_text(size =12, color = 'black'))"
   ]
  },
  {
   "cell_type": "markdown",
   "id": "exact-blind",
   "metadata": {},
   "source": [
    "#### Diagnostics"
   ]
  },
  {
   "cell_type": "code",
   "execution_count": 53,
   "id": "smooth-architect",
   "metadata": {},
   "outputs": [
    {
     "data": {
      "image/png": "[encoded data removed]",
      "text/plain": [
       "Plot with title \"\""
      ]
     },
     "metadata": {},
     "output_type": "display_data"
    },
    {
     "data": {
      "image/png": "[encoded data removed]",
      "text/plain": [
       "Plot with title \"\""
      ]
     },
     "metadata": {},
     "output_type": "display_data"
    },
    {
     "data": {
      "image/png": "[encoded data removed]",
      "text/plain": [
       "Plot with title \"\""
      ]
     },
     "metadata": {},
     "output_type": "display_data"
    },
    {
     "data": {
      "image/png": "[encoded data removed]",
      "text/plain": [
       "Plot with title \"\""
      ]
     },
     "metadata": {},
     "output_type": "display_data"
    }
   ],
   "source": [
    "d <- lm(Count ~ FieldType + Block, data=df1)\n",
    "plot(d, col = df1$FieldType)"
   ]
  },
  {
   "cell_type": "code",
   "execution_count": 54,
   "id": "cosmetic-armstrong",
   "metadata": {},
   "outputs": [
    {
     "data": {
      "text/plain": [
       "\n",
       "\tPaired t-test\n",
       "\n",
       "data:  Count by FieldType\n",
       "t = -0.4189, df = 10, p-value = 0.6841\n",
       "alternative hypothesis: true difference in means is not equal to 0\n",
       "95 percent confidence interval:\n",
       " -5.170117  3.533754\n",
       "sample estimates:\n",
       "mean of the differences \n",
       "             -0.8181818 \n"
      ]
     },
     "metadata": {},
     "output_type": "display_data"
    }
   ],
   "source": [
    "t.test(Count~ FieldType, \n",
    "       paired=T, \n",
    "       data=df1)"
   ]
  }
 ],
 "metadata": {
  "kernelspec": {
   "display_name": "R",
   "language": "R",
   "name": "ir"
  },
  "language_info": {
   "codemirror_mode": "r",
   "file_extension": ".r",
   "mimetype": "text/x-r-source",
   "name": "R",
   "pygments_lexer": "r",
   "version": "3.6.1"
  },
  "toc-autonumbering": false
 },
 "nbformat": 4,
 "nbformat_minor": 5
}
