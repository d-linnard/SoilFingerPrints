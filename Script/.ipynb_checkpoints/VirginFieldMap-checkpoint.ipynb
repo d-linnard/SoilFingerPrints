{
 "cells": [
  {
   "cell_type": "code",
   "execution_count": 1,
   "id": "arbitrary-steering",
   "metadata": {},
   "outputs": [
    {
     "name": "stderr",
     "output_type": "stream",
     "text": [
      "Warning message:\n",
      "\"package 'ggplot2' was built under R version 3.6.3\"Loading required package: sp\n",
      "Warning message:\n",
      "\"package 'sp' was built under R version 3.6.3\""
     ]
    }
   ],
   "source": [
    "library('ggplot2')\n",
    "library('raster')"
   ]
  },
  {
   "cell_type": "code",
   "execution_count": 2,
   "id": "permanent-freedom",
   "metadata": {},
   "outputs": [],
   "source": [
    "df = read.csv('C:/Users/sudha.gcupadhaya/Desktop/NonAgriculturalSoils/SamplingLocations/SamplingLocations.csv')"
   ]
  },
  {
   "cell_type": "code",
   "execution_count": 3,
   "id": "exciting-definition",
   "metadata": {},
   "outputs": [
    {
     "name": "stdout",
     "output_type": "stream",
     "text": [
      "'data.frame':\t22 obs. of  20 variables:\n",
      " $ ID            : int  1 2 4 5 6 7 8 9 10 11 ...\n",
      " $ Label         : Factor w/ 22 levels \"0-0-1-2\",\"0-0-2-1\",..: 12 1 13 2 3 14 10 21 4 5 ...\n",
      " $ Location      : Factor w/ 2 levels \"Columbia Basin\",..: 1 1 1 1 1 1 2 2 1 1 ...\n",
      " $ Pair          : int  1 1 2 2 3 3 4 4 5 6 ...\n",
      " $ FieldID       : Factor w/ 22 levels \"106\",\"1201\",\"1209\",..: 2 3 1 12 21 18 20 19 8 9 ...\n",
      " $ lat           : num  46.3 46.3 47.1 47.1 47 ...\n",
      " $ long          : num  -119 -119 -120 -120 -120 ...\n",
      " $ FieldType     : Factor w/ 2 levels \"Non-virgin field\",..: 1 2 1 2 2 1 2 1 2 2 ...\n",
      " $ FieldHistory  : Factor w/ 15 levels \"\",\"15+ potato crops\",..: 2 1 8 6 14 15 10 7 4 4 ...\n",
      " $ Source        : Factor w/ 9 levels \"Allen Horning\",..: 2 2 1 1 8 8 3 3 7 7 ...\n",
      " $ Contact       : Factor w/ 6 levels \"\",\"509-398-1613\",..: 5 5 4 4 2 3 1 1 6 6 ...\n",
      " $ SamplingYear  : int  2021 2021 2021 2021 2021 2021 2021 2021 2021 2021 ...\n",
      " $ Notes         : Factor w/ 6 levels \"\",\"Barley planted but not emerged\",..: 1 1 1 1 6 6 3 3 1 1 ...\n",
      " $ SoilOrder     : Factor w/ 3 levels \"\",\"Entisols\",..: 3 3 2 2 2 2 2 2 1 1 ...\n",
      " $ SoilGreatgroup: Factor w/ 4 levels \"\",\"Fluvents\",..: 3 3 4 4 4 4 2 2 1 1 ...\n",
      " $ SoilSubgroup  : Factor w/ 4 levels \"\",\"Aquic Xerofluvents\",..: 3 3 4 4 4 4 2 2 1 1 ...\n",
      " $ SoilFamily    : Factor w/ 4 levels \"\",\"...mesic Aquic Xerofluvents\",..: 3 3 4 4 4 4 2 2 1 1 ...\n",
      " $ SoilSeries    : Factor w/ 4 levels \"\",\"Field\",\"Quincy\",..: 4 4 3 3 3 3 2 2 1 1 ...\n",
      " $ latitude      : Factor w/ 7 levels \"\",\"46°16'52.63\\\"N\",..: 3 2 7 6 5 4 1 1 1 1 ...\n",
      " $ longitude     : Factor w/ 7 levels \"\",\"118°40'28.49\\\"W\",..: 2 3 7 6 5 4 1 1 1 1 ...\n"
     ]
    }
   ],
   "source": [
    "str(df)"
   ]
  },
  {
   "cell_type": "code",
   "execution_count": 4,
   "id": "expected-figure",
   "metadata": {},
   "outputs": [
    {
     "data": {
      "text/html": [
       "<ol class=list-inline>\n",
       "\t<li>Non-virgin field</li>\n",
       "\t<li>Virgin field</li>\n",
       "</ol>\n",
       "\n",
       "<details>\n",
       "\t<summary style=display:list-item;cursor:pointer>\n",
       "\t\t<strong>Levels</strong>:\n",
       "\t</summary>\n",
       "\t<ol class=list-inline>\n",
       "\t\t<li>'Non-virgin field'</li>\n",
       "\t\t<li>'Virgin field'</li>\n",
       "\t</ol>\n",
       "</details>"
      ],
      "text/latex": [
       "\\begin{enumerate*}\n",
       "\\item Non-virgin field\n",
       "\\item Virgin field\n",
       "\\end{enumerate*}\n",
       "\n",
       "\\emph{Levels}: \\begin{enumerate*}\n",
       "\\item 'Non-virgin field'\n",
       "\\item 'Virgin field'\n",
       "\\end{enumerate*}\n"
      ],
      "text/markdown": [
       "1. Non-virgin field\n",
       "2. Virgin field\n",
       "\n",
       "\n",
       "\n",
       "**Levels**: 1. 'Non-virgin field'\n",
       "2. 'Virgin field'\n",
       "\n",
       "\n"
      ],
      "text/plain": [
       "[1] Non-virgin field Virgin field    \n",
       "Levels: Non-virgin field Virgin field"
      ]
     },
     "metadata": {},
     "output_type": "display_data"
    }
   ],
   "source": [
    "unique(df$FieldType)"
   ]
  },
  {
   "cell_type": "code",
   "execution_count": null,
   "id": "falling-meaning",
   "metadata": {},
   "outputs": [],
   "source": [
    "df[df$FieldType == 'Virgin field',]"
   ]
  },
  {
   "cell_type": "code",
   "execution_count": 5,
   "id": "smoking-oxygen",
   "metadata": {},
   "outputs": [],
   "source": [
    "state_list    <- c('California', 'Nevada', 'Utah', 'Wyoming', 'Montana', 'Idaho', 'Oregon', 'Washington')\n",
    "province_list <- c(\"British Columbia\", \"Alberta\")\n",
    "us <- getData(\"GADM\",country=\"USA\",level=1)\n",
    "canada <- getData(\"GADM\",country=\"CAN\",level=1)\n",
    "us.states <- us[us$NAME_1 %in% state_list,]\n",
    "ca.provinces <- canada[canada$NAME_1 %in% province_list,]"
   ]
  },
  {
   "cell_type": "code",
   "execution_count": 25,
   "id": "jewish-invention",
   "metadata": {},
   "outputs": [
    {
     "name": "stderr",
     "output_type": "stream",
     "text": [
      "Regions defined for each Polygons\n",
      "Regions defined for each Polygons\n",
      "Regions defined for each Polygons\n",
      "Regions defined for each Polygons\n"
     ]
    },
    {
     "data": {
      "image/png": "[encoded data removed]",
      "text/plain": [
       "plot without title"
      ]
     },
     "metadata": {},
     "output_type": "display_data"
    }
   ],
   "source": [
    "options(repr.plot.width=10, repr.plot.height=8)\n",
    "#jpeg('Map_jitter.jpg',width=10,height=8,units='in',res=300)\n",
    "Map = ggplot(us.states,aes(x=long,y=lat, group = group))+\n",
    "geom_path(size = 0.25)+\n",
    "geom_path(data=ca.provinces, size = 0.25, color = 'grey60')+\n",
    "geom_path(data=subset(us.states, NAME_1 %in% c('Montana', 'California','Nevada','Utah','Wyoming')),\n",
    "            size=0.25,color=\"grey60\")+\n",
    "geom_polygon(data=subset(us.states, NAME_1 %in% c('Idaho', 'Oregon', 'Washington')),\n",
    "               aes(x=long, y=lat, group=group), fill=\"white\", colour = \"black\", size=0.50)+\n",
    "theme(panel.background = element_rect(fill = \"white\", colour = \"grey50\"))+\n",
    "coord_map(\"bonne\", lat0 = 50,\n",
    "    xlim = c(-124.5, -116.5),ylim = c(44, 49))+\n",
    "xlab(\"Longitude\") +\n",
    "ylab(\"Latitude\")+\n",
    "geom_point(data = df, aes(x= long, y = lat,color = FieldType, fill = FieldType), position=position_jitter(h=0.05, w=0.04),shape =21, size =6, group = FALSE, alpha =0.5)+\n",
    "scale_fill_manual(name = 'Field Type', labels = c('Non-virgin field', 'Virgin field'), values = c('orange', 'cornflowerblue'))+\n",
    "scale_colour_manual(name = 'Field Type', labels = c('Non-virgin field', 'Virgin field'),values = c('black', 'black')) +\n",
    "guides(color = guide_legend('Field Type'))+\n",
    "theme_classic()+\n",
    "theme(axis.title.x= element_text(size =18, color ='black'),\n",
    "    axis.title.y = element_text(size =18, color ='black'),\n",
    "    axis.text.x = element_text(size =15,color = 'black'),\n",
    "    axis.text.y = element_text(size =15, color = 'black'),\n",
    "    legend.text = element_text(size =15),\n",
    "    legend.title = element_text(size =17),\n",
    "    )\n",
    "Map\n",
    "\n",
    "#dev.off()"
   ]
  },
  {
   "cell_type": "code",
   "execution_count": null,
   "id": "extensive-component",
   "metadata": {},
   "outputs": [],
   "source": []
  }
 ],
 "metadata": {
  "kernelspec": {
   "display_name": "R",
   "language": "R",
   "name": "ir"
  },
  "language_info": {
   "codemirror_mode": "r",
   "file_extension": ".r",
   "mimetype": "text/x-r-source",
   "name": "R",
   "pygments_lexer": "r",
   "version": "3.6.1"
  }
 },
 "nbformat": 4,
 "nbformat_minor": 5
}
