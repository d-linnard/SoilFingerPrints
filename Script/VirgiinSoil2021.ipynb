{
 "cells": [
  {
   "cell_type": "code",
   "execution_count": 2,
   "metadata": {},
   "outputs": [
    {
     "name": "stderr",
     "output_type": "stream",
     "text": [
      "Loading required package: sp\n",
      "\n",
      "\n",
      "Attaching package: ‘tidyr’\n",
      "\n",
      "\n",
      "The following object is masked from ‘package:raster’:\n",
      "\n",
      "    extract\n",
      "\n",
      "\n",
      "\n",
      "Attaching package: ‘ggpubr’\n",
      "\n",
      "\n",
      "The following object is masked from ‘package:raster’:\n",
      "\n",
      "    rotate\n",
      "\n",
      "\n",
      "\n",
      "Attaching package: ‘dplyr’\n",
      "\n",
      "\n",
      "The following objects are masked from ‘package:raster’:\n",
      "\n",
      "    intersect, select, union\n",
      "\n",
      "\n",
      "The following objects are masked from ‘package:stats’:\n",
      "\n",
      "    filter, lag\n",
      "\n",
      "\n",
      "The following objects are masked from ‘package:base’:\n",
      "\n",
      "    intersect, setdiff, setequal, union\n",
      "\n",
      "\n"
     ]
    }
   ],
   "source": [
    "library(ggplot2)\n",
    "library('raster')\n",
    "library(agricolae)\n",
    "library(ggradar)\n",
    "library(tidyr)\n",
    "library(ggpubr)\n",
    "library(dplyr)"
   ]
  },
  {
   "cell_type": "markdown",
   "metadata": {},
   "source": [
    "### Sampling locations"
   ]
  },
  {
   "cell_type": "code",
   "execution_count": 1,
   "metadata": {},
   "outputs": [
    {
     "name": "stderr",
     "output_type": "stream",
     "text": [
      "Warning message in file(file, \"rt\"):\n",
      "“cannot open file 'C:/Users/gcson/OneDrive - Washington State University (email.wsu.edu)/Desktop/SoilFingerPrints/Data/SamplingLocations/SamplingLocations.csv': No such file or directory”\n"
     ]
    },
    {
     "ename": "ERROR",
     "evalue": "Error in file(file, \"rt\"): cannot open the connection\n",
     "output_type": "error",
     "traceback": [
      "Error in file(file, \"rt\"): cannot open the connection\nTraceback:\n",
      "1. read.csv(\"C:/Users/gcson/OneDrive - Washington State University (email.wsu.edu)/Desktop/SoilFingerPrints/Data/SamplingLocations/SamplingLocations.csv\")",
      "2. read.table(file = file, header = header, sep = sep, quote = quote, \n .     dec = dec, fill = fill, comment.char = comment.char, ...)",
      "3. file(file, \"rt\")"
     ]
    }
   ],
   "source": [
    "df = read.csv('C:/Users/gcson/OneDrive - Washington State University (email.wsu.edu)/Desktop/SoilFingerPrints/Data/SamplingLocations/SamplingLocations.csv')"
   ]
  },
  {
   "cell_type": "code",
   "execution_count": 3,
   "metadata": {},
   "outputs": [
    {
     "name": "stdout",
     "output_type": "stream",
     "text": [
      "'data.frame':\t22 obs. of  20 variables:\n",
      " $ ID            : int  1 2 4 5 6 7 8 9 10 11 ...\n",
      " $ Label         : Factor w/ 22 levels \"0-0-1-2\",\"0-0-2-1\",..: 12 1 13 2 3 14 10 21 4 5 ...\n",
      " $ Location      : Factor w/ 2 levels \"Columbia Basin\",..: 1 1 1 1 1 1 2 2 1 1 ...\n",
      " $ Pair          : int  1 1 2 2 3 3 4 4 5 6 ...\n",
      " $ FieldID       : Factor w/ 22 levels \"106\",\"1201\",\"1209\",..: 2 3 1 12 21 18 20 19 8 9 ...\n",
      " $ lat           : num  46.3 46.3 47.1 47.1 47 ...\n",
      " $ long          : num  -119 -119 -120 -120 -120 ...\n",
      " $ FieldType     : Factor w/ 2 levels \"Non-virgin field\",..: 1 2 1 2 2 1 2 1 2 2 ...\n",
      " $ FieldHistory  : Factor w/ 15 levels \"\",\"15+ potato crops\",..: 2 1 8 6 14 15 10 7 4 4 ...\n",
      " $ Source        : Factor w/ 9 levels \"Allen Horning\",..: 2 2 1 1 8 8 3 3 7 7 ...\n",
      " $ Contact       : Factor w/ 6 levels \"\",\"509-398-1613\",..: 5 5 4 4 2 3 1 1 6 6 ...\n",
      " $ SamplingYear  : int  2021 2021 2021 2021 2021 2021 2021 2021 2021 2021 ...\n",
      " $ Notes         : Factor w/ 6 levels \"\",\"Barley planted but not emerged\",..: 1 1 1 1 6 6 3 3 1 1 ...\n",
      " $ SoilOrder     : Factor w/ 3 levels \"\",\"Entisols\",..: 3 3 2 2 2 2 2 2 1 1 ...\n",
      " $ SoilGreatgroup: Factor w/ 4 levels \"\",\"Fluvents\",..: 3 3 4 4 4 4 2 2 1 1 ...\n",
      " $ SoilSubgroup  : Factor w/ 4 levels \"\",\"Aquic Xerofluvents\",..: 3 3 4 4 4 4 2 2 1 1 ...\n",
      " $ SoilFamily    : Factor w/ 4 levels \"\",\"...mesic Aquic Xerofluvents\",..: 3 3 4 4 4 4 2 2 1 1 ...\n",
      " $ SoilSeries    : Factor w/ 4 levels \"\",\"Field\",\"Quincy\",..: 4 4 3 3 3 3 2 2 1 1 ...\n",
      " $ latitude      : Factor w/ 7 levels \"\",\"46°16'52.63\\\"N\",..: 3 2 7 6 5 4 1 1 1 1 ...\n",
      " $ longitude     : Factor w/ 7 levels \"\",\"118°40'28.49\\\"W\",..: 2 3 7 6 5 4 1 1 1 1 ...\n"
     ]
    }
   ],
   "source": [
    "str(df)"
   ]
  },
  {
   "cell_type": "code",
   "execution_count": 4,
   "metadata": {},
   "outputs": [
    {
     "data": {
      "text/html": [
       "<ol class=list-inline>\n",
       "\t<li>Non-virgin field</li>\n",
       "\t<li>Virgin field</li>\n",
       "</ol>\n",
       "\n",
       "<details>\n",
       "\t<summary style=display:list-item;cursor:pointer>\n",
       "\t\t<strong>Levels</strong>:\n",
       "\t</summary>\n",
       "\t<ol class=list-inline>\n",
       "\t\t<li>'Non-virgin field'</li>\n",
       "\t\t<li>'Virgin field'</li>\n",
       "\t</ol>\n",
       "</details>"
      ],
      "text/latex": [
       "\\begin{enumerate*}\n",
       "\\item Non-virgin field\n",
       "\\item Virgin field\n",
       "\\end{enumerate*}\n",
       "\n",
       "\\emph{Levels}: \\begin{enumerate*}\n",
       "\\item 'Non-virgin field'\n",
       "\\item 'Virgin field'\n",
       "\\end{enumerate*}\n"
      ],
      "text/markdown": [
       "1. Non-virgin field\n",
       "2. Virgin field\n",
       "\n",
       "\n",
       "\n",
       "**Levels**: 1. 'Non-virgin field'\n",
       "2. 'Virgin field'\n",
       "\n",
       "\n"
      ],
      "text/plain": [
       "[1] Non-virgin field Virgin field    \n",
       "Levels: Non-virgin field Virgin field"
      ]
     },
     "metadata": {},
     "output_type": "display_data"
    }
   ],
   "source": [
    "unique(df$FieldType)"
   ]
  },
  {
   "cell_type": "code",
   "execution_count": 5,
   "metadata": {},
   "outputs": [
    {
     "data": {
      "text/html": [
       "<table>\n",
       "<thead><tr><th></th><th scope=col>ID</th><th scope=col>Label</th><th scope=col>Location</th><th scope=col>Pair</th><th scope=col>FieldID</th><th scope=col>lat</th><th scope=col>long</th><th scope=col>FieldType</th><th scope=col>FieldHistory</th><th scope=col>Source</th><th scope=col>Contact</th><th scope=col>SamplingYear</th><th scope=col>Notes</th><th scope=col>SoilOrder</th><th scope=col>SoilGreatgroup</th><th scope=col>SoilSubgroup</th><th scope=col>SoilFamily</th><th scope=col>SoilSeries</th><th scope=col>latitude</th><th scope=col>longitude</th></tr></thead>\n",
       "<tbody>\n",
       "\t<tr><th scope=row>2</th><td> 2                                                                                                 </td><td>0-0-1-2                                                                                            </td><td>Columbia Basin                                                                                     </td><td> 1                                                                                                 </td><td>1209                                                                                               </td><td>46.28129                                                                                           </td><td>-118.6848                                                                                          </td><td>Virgin field                                                                                       </td><td>                                                                                                   </td><td>Blaine Meek                                                                                        </td><td>bmeek@agrinw.com                                                                                   </td><td>2021                                                                                               </td><td>                                                                                                   </td><td>Mollisols                                                                                          </td><td>Haploxerolls                                                                                       </td><td>Calcidic Haploxerolls                                                                              </td><td>...mesic Calcidic Haploxerolls                                                                     </td><td>Ritzville                                                                                          </td><td>46°16'52.63\"N                                                                                      </td><td>118°41'5.14\"W                                                                                      </td></tr>\n",
       "\t<tr><th scope=row>4</th><td> 5                                                                                                 </td><td>0-0-2-1                                                                                            </td><td>Columbia Basin                                                                                     </td><td> 2                                                                                                 </td><td>HB2                                                                                                </td><td>47.07672                                                                                           </td><td>-119.8030                                                                                          </td><td>Virgin field                                                                                       </td><td>Double cropped peas/sweetcorn in 2020 followed by potato in 2021. Field was sagebrush prior to that</td><td>Allen Horning                                                                                      </td><td>allen@horningfarms.net                                                                             </td><td>2021                                                                                               </td><td>                                                                                                   </td><td>Entisols                                                                                           </td><td>Torripsamments                                                                                     </td><td>Xeric Torripsamments                                                                               </td><td>...Xeric Torripsamments                                                                            </td><td>Quincy                                                                                             </td><td>47° 4'35.76\"N                                                                                      </td><td>119°48'10.80\"W                                                                                     </td></tr>\n",
       "\t<tr><th scope=row>5</th><td> 6                                                                                                 </td><td>0-0-3-5                                                                                            </td><td>Columbia Basin                                                                                     </td><td> 3                                                                                                 </td><td>V                                                                                                  </td><td>47.04543                                                                                           </td><td>-119.6095                                                                                          </td><td>Virgin field                                                                                       </td><td>out of sage brush within past couple years                                                         </td><td>Wes Boorman                                                                                        </td><td>509-398-1613                                                                                       </td><td>2021                                                                                               </td><td>will be planted by 4/16                                                                            </td><td>Entisols                                                                                           </td><td>Torripsamments                                                                                     </td><td>Xeric Torripsamments                                                                               </td><td>...Xeric Torripsamments                                                                            </td><td>Quincy                                                                                             </td><td>47° 2'43.55\"N                                                                                      </td><td>119°36'34.30\"W                                                                                     </td></tr>\n",
       "\t<tr><th scope=row>7</th><td> 8                                                                                                 </td><td>0-1-4-2                                                                                            </td><td>Skagit Valley                                                                                      </td><td> 4                                                                                                 </td><td>Skagit virgin 1                                                                                    </td><td>48.43820                                                                                           </td><td>-122.4225                                                                                          </td><td>Virgin field                                                                                       </td><td>Hasn't had potatoes in 30 years                                                                    </td><td>Brock Ingman                                                                                       </td><td>                                                                                                   </td><td>2021                                                                                               </td><td>Planted a few days prior to sampling                                                               </td><td>Entisols                                                                                           </td><td>Fluvents                                                                                           </td><td>Aquic Xerofluvents                                                                                 </td><td>...mesic Aquic Xerofluvents                                                                        </td><td>Field                                                                                              </td><td>                                                                                                   </td><td>                                                                                                   </td></tr>\n",
       "\t<tr><th scope=row>9</th><td>10                                                                                                 </td><td>0-0-5-4                                                                                            </td><td>Columbia Basin                                                                                     </td><td> 5                                                                                                 </td><td>983                                                                                                </td><td>45.69725                                                                                           </td><td>-119.3547                                                                                          </td><td>Virgin field                                                                                       </td><td>2017/2018:NoCrop - 2019: S W W Wheat - 2020: Grain Corn                                            </td><td>Michael Madsen                                                                                     </td><td>mmadsen@agrinw.com                                                                                 </td><td>2021                                                                                               </td><td>                                                                                                   </td><td>                                                                                                   </td><td>                                                                                                   </td><td>                                                                                                   </td><td>                                                                                                   </td><td>                                                                                                   </td><td>                                                                                                   </td><td>                                                                                                   </td></tr>\n",
       "\t<tr><th scope=row>10</th><td>11                                                                                                 </td><td>0-0-6-5                                                                                            </td><td>Columbia Basin                                                                                     </td><td> 6                                                                                                 </td><td>989                                                                                                </td><td>45.67176                                                                                           </td><td>-119.3470                                                                                          </td><td>Virgin field                                                                                       </td><td>2017/2018:NoCrop - 2019: S W W Wheat - 2020: Grain Corn                                            </td><td>Michael Madsen                                                                                     </td><td>mmadsen@agrinw.com                                                                                 </td><td>2021                                                                                               </td><td>                                                                                                   </td><td>                                                                                                   </td><td>                                                                                                   </td><td>                                                                                                   </td><td>                                                                                                   </td><td>                                                                                                   </td><td>                                                                                                   </td><td>                                                                                                   </td></tr>\n",
       "\t<tr><th scope=row>11</th><td>12                                                                                                 </td><td>0-0-7-6                                                                                            </td><td>Columbia Basin                                                                                     </td><td> 7                                                                                                 </td><td>990                                                                                                </td><td>45.66557                                                                                           </td><td>-119.3518                                                                                          </td><td>Virgin field                                                                                       </td><td>2017/2018:NoCrop - 2019: S W W Wheat - 2020: Grain Corn                                            </td><td>Michael Madsen                                                                                     </td><td>mmadsen@agrinw.com                                                                                 </td><td>2021                                                                                               </td><td>                                                                                                   </td><td>                                                                                                   </td><td>                                                                                                   </td><td>                                                                                                   </td><td>                                                                                                   </td><td>                                                                                                   </td><td>                                                                                                   </td><td>                                                                                                   </td></tr>\n",
       "\t<tr><th scope=row>12</th><td>13                                                                                                 </td><td>0-0-8-3                                                                                            </td><td>Columbia Basin                                                                                     </td><td> 8                                                                                                 </td><td>991                                                                                                </td><td>45.65722                                                                                           </td><td>-119.3468                                                                                          </td><td>Virgin field                                                                                       </td><td>2017/2018/2019:NoCrop - 2020: Grain Corn                                                           </td><td>Michael Madsen                                                                                     </td><td>mmadsen@agrinw.com                                                                                 </td><td>2021                                                                                               </td><td>                                                                                                   </td><td>                                                                                                   </td><td>                                                                                                   </td><td>                                                                                                   </td><td>                                                                                                   </td><td>                                                                                                   </td><td>                                                                                                   </td><td>                                                                                                   </td></tr>\n",
       "\t<tr><th scope=row>17</th><td>18                                                                                                 </td><td>0-1-9-3                                                                                            </td><td>Skagit Valley                                                                                      </td><td> 9                                                                                                 </td><td>Morrison - virgin                                                                                  </td><td>48.20852                                                                                           </td><td>-122.3375                                                                                          </td><td>Virgin field                                                                                       </td><td>Hasn't had potatoes before, currently planted in potatoes                                          </td><td>Darrin Morrison                                                                                    </td><td>                                                                                                   </td><td>2021                                                                                               </td><td>planted in potatoes                                                                                </td><td>                                                                                                   </td><td>                                                                                                   </td><td>                                                                                                   </td><td>                                                                                                   </td><td>                                                                                                   </td><td>                                                                                                   </td><td>                                                                                                   </td></tr>\n",
       "\t<tr><th scope=row>19</th><td>20                                                                                                 </td><td>0-1-10-1                                                                                           </td><td>Skagit Valley                                                                                      </td><td>10                                                                                                 </td><td>WSU NWREC LTARE Potato Plots                                                                       </td><td>48.43992                                                                                           </td><td>-122.3938                                                                                          </td><td>Virgin field                                                                                       </td><td>No history of potatoes, diverse long term history across field, 2019: Ryegrass 2020: Ryegrass?     </td><td>WSU NWREC                                                                                          </td><td>                                                                                                   </td><td>2021                                                                                               </td><td>Potatoes planted but not emerged                                                                   </td><td>                                                                                                   </td><td>                                                                                                   </td><td>                                                                                                   </td><td>                                                                                                   </td><td>                                                                                                   </td><td>                                                                                                   </td><td>                                                                                                   </td></tr>\n",
       "\t<tr><th scope=row>21</th><td>22                                                                                                 </td><td>0-1-11-4                                                                                           </td><td>Skagit Valley                                                                                      </td><td>11                                                                                                 </td><td>Hedlin - virgin                                                                                    </td><td>48.38720                                                                                           </td><td>-122.4899                                                                                          </td><td>Virgin field                                                                                       </td><td>No history of potatoes, currently planted in grain (barley?)                                       </td><td>Dave Hedlin                                                                                        </td><td>                                                                                                   </td><td>2021                                                                                               </td><td>Barley planted but not emerged                                                                     </td><td>                                                                                                   </td><td>                                                                                                   </td><td>                                                                                                   </td><td>                                                                                                   </td><td>                                                                                                   </td><td>                                                                                                   </td><td>                                                                                                   </td></tr>\n",
       "</tbody>\n",
       "</table>\n"
      ],
      "text/latex": [
       "\\begin{tabular}{r|llllllllllllllllllll}\n",
       "  & ID & Label & Location & Pair & FieldID & lat & long & FieldType & FieldHistory & Source & Contact & SamplingYear & Notes & SoilOrder & SoilGreatgroup & SoilSubgroup & SoilFamily & SoilSeries & latitude & longitude\\\\\n",
       "\\hline\n",
       "\t2 &  2                                                                                                  & 0-0-1-2                                                                                             & Columbia Basin                                                                                      &  1                                                                                                  & 1209                                                                                                & 46.28129                                                                                            & -118.6848                                                                                           & Virgin field                                                                                        &                                                                                                     & Blaine Meek                                                                                         & bmeek@agrinw.com                                                                                    & 2021                                                                                                &                                                                                                     & Mollisols                                                                                           & Haploxerolls                                                                                        & Calcidic Haploxerolls                                                                               & ...mesic Calcidic Haploxerolls                                                                      & Ritzville                                                                                           & 46°16'52.63\"N                                                                                       & 118°41'5.14\"W                                                                                      \\\\\n",
       "\t4 &  5                                                                                                  & 0-0-2-1                                                                                             & Columbia Basin                                                                                      &  2                                                                                                  & HB2                                                                                                 & 47.07672                                                                                            & -119.8030                                                                                           & Virgin field                                                                                        & Double cropped peas/sweetcorn in 2020 followed by potato in 2021. Field was sagebrush prior to that & Allen Horning                                                                                       & allen@horningfarms.net                                                                              & 2021                                                                                                &                                                                                                     & Entisols                                                                                            & Torripsamments                                                                                      & Xeric Torripsamments                                                                                & ...Xeric Torripsamments                                                                             & Quincy                                                                                              & 47° 4'35.76\"N                                                                                       & 119°48'10.80\"W                                                                                     \\\\\n",
       "\t5 &  6                                                                                                  & 0-0-3-5                                                                                             & Columbia Basin                                                                                      &  3                                                                                                  & V                                                                                                   & 47.04543                                                                                            & -119.6095                                                                                           & Virgin field                                                                                        & out of sage brush within past couple years                                                          & Wes Boorman                                                                                         & 509-398-1613                                                                                        & 2021                                                                                                & will be planted by 4/16                                                                             & Entisols                                                                                            & Torripsamments                                                                                      & Xeric Torripsamments                                                                                & ...Xeric Torripsamments                                                                             & Quincy                                                                                              & 47° 2'43.55\"N                                                                                       & 119°36'34.30\"W                                                                                     \\\\\n",
       "\t7 &  8                                                                                                  & 0-1-4-2                                                                                             & Skagit Valley                                                                                       &  4                                                                                                  & Skagit virgin 1                                                                                     & 48.43820                                                                                            & -122.4225                                                                                           & Virgin field                                                                                        & Hasn't had potatoes in 30 years                                                                     & Brock Ingman                                                                                        &                                                                                                     & 2021                                                                                                & Planted a few days prior to sampling                                                                & Entisols                                                                                            & Fluvents                                                                                            & Aquic Xerofluvents                                                                                  & ...mesic Aquic Xerofluvents                                                                         & Field                                                                                               &                                                                                                     &                                                                                                    \\\\\n",
       "\t9 & 10                                                                                                  & 0-0-5-4                                                                                             & Columbia Basin                                                                                      &  5                                                                                                  & 983                                                                                                 & 45.69725                                                                                            & -119.3547                                                                                           & Virgin field                                                                                        & 2017/2018:NoCrop - 2019: S W W Wheat - 2020: Grain Corn                                             & Michael Madsen                                                                                      & mmadsen@agrinw.com                                                                                  & 2021                                                                                                &                                                                                                     &                                                                                                     &                                                                                                     &                                                                                                     &                                                                                                     &                                                                                                     &                                                                                                     &                                                                                                    \\\\\n",
       "\t10 & 11                                                                                                  & 0-0-6-5                                                                                             & Columbia Basin                                                                                      &  6                                                                                                  & 989                                                                                                 & 45.67176                                                                                            & -119.3470                                                                                           & Virgin field                                                                                        & 2017/2018:NoCrop - 2019: S W W Wheat - 2020: Grain Corn                                             & Michael Madsen                                                                                      & mmadsen@agrinw.com                                                                                  & 2021                                                                                                &                                                                                                     &                                                                                                     &                                                                                                     &                                                                                                     &                                                                                                     &                                                                                                     &                                                                                                     &                                                                                                    \\\\\n",
       "\t11 & 12                                                                                                  & 0-0-7-6                                                                                             & Columbia Basin                                                                                      &  7                                                                                                  & 990                                                                                                 & 45.66557                                                                                            & -119.3518                                                                                           & Virgin field                                                                                        & 2017/2018:NoCrop - 2019: S W W Wheat - 2020: Grain Corn                                             & Michael Madsen                                                                                      & mmadsen@agrinw.com                                                                                  & 2021                                                                                                &                                                                                                     &                                                                                                     &                                                                                                     &                                                                                                     &                                                                                                     &                                                                                                     &                                                                                                     &                                                                                                    \\\\\n",
       "\t12 & 13                                                                                                  & 0-0-8-3                                                                                             & Columbia Basin                                                                                      &  8                                                                                                  & 991                                                                                                 & 45.65722                                                                                            & -119.3468                                                                                           & Virgin field                                                                                        & 2017/2018/2019:NoCrop - 2020: Grain Corn                                                            & Michael Madsen                                                                                      & mmadsen@agrinw.com                                                                                  & 2021                                                                                                &                                                                                                     &                                                                                                     &                                                                                                     &                                                                                                     &                                                                                                     &                                                                                                     &                                                                                                     &                                                                                                    \\\\\n",
       "\t17 & 18                                                                                                  & 0-1-9-3                                                                                             & Skagit Valley                                                                                       &  9                                                                                                  & Morrison - virgin                                                                                   & 48.20852                                                                                            & -122.3375                                                                                           & Virgin field                                                                                        & Hasn't had potatoes before, currently planted in potatoes                                           & Darrin Morrison                                                                                     &                                                                                                     & 2021                                                                                                & planted in potatoes                                                                                 &                                                                                                     &                                                                                                     &                                                                                                     &                                                                                                     &                                                                                                     &                                                                                                     &                                                                                                    \\\\\n",
       "\t19 & 20                                                                                                  & 0-1-10-1                                                                                            & Skagit Valley                                                                                       & 10                                                                                                  & WSU NWREC LTARE Potato Plots                                                                        & 48.43992                                                                                            & -122.3938                                                                                           & Virgin field                                                                                        & No history of potatoes, diverse long term history across field, 2019: Ryegrass 2020: Ryegrass?      & WSU NWREC                                                                                           &                                                                                                     & 2021                                                                                                & Potatoes planted but not emerged                                                                    &                                                                                                     &                                                                                                     &                                                                                                     &                                                                                                     &                                                                                                     &                                                                                                     &                                                                                                    \\\\\n",
       "\t21 & 22                                                                                                  & 0-1-11-4                                                                                            & Skagit Valley                                                                                       & 11                                                                                                  & Hedlin - virgin                                                                                     & 48.38720                                                                                            & -122.4899                                                                                           & Virgin field                                                                                        & No history of potatoes, currently planted in grain (barley?)                                        & Dave Hedlin                                                                                         &                                                                                                     & 2021                                                                                                & Barley planted but not emerged                                                                      &                                                                                                     &                                                                                                     &                                                                                                     &                                                                                                     &                                                                                                     &                                                                                                     &                                                                                                    \\\\\n",
       "\\end{tabular}\n"
      ],
      "text/markdown": [
       "\n",
       "| <!--/--> | ID | Label | Location | Pair | FieldID | lat | long | FieldType | FieldHistory | Source | Contact | SamplingYear | Notes | SoilOrder | SoilGreatgroup | SoilSubgroup | SoilFamily | SoilSeries | latitude | longitude |\n",
       "|---|---|---|---|---|---|---|---|---|---|---|---|---|---|---|---|---|---|---|---|---|\n",
       "| 2 |  2                                                                                                  | 0-0-1-2                                                                                             | Columbia Basin                                                                                      |  1                                                                                                  | 1209                                                                                                | 46.28129                                                                                            | -118.6848                                                                                           | Virgin field                                                                                        |                                                                                                     | Blaine Meek                                                                                         | bmeek@agrinw.com                                                                                    | 2021                                                                                                |                                                                                                     | Mollisols                                                                                           | Haploxerolls                                                                                        | Calcidic Haploxerolls                                                                               | ...mesic Calcidic Haploxerolls                                                                      | Ritzville                                                                                           | 46°16'52.63\"N                                                                                       | 118°41'5.14\"W                                                                                       |\n",
       "| 4 |  5                                                                                                  | 0-0-2-1                                                                                             | Columbia Basin                                                                                      |  2                                                                                                  | HB2                                                                                                 | 47.07672                                                                                            | -119.8030                                                                                           | Virgin field                                                                                        | Double cropped peas/sweetcorn in 2020 followed by potato in 2021. Field was sagebrush prior to that | Allen Horning                                                                                       | allen@horningfarms.net                                                                              | 2021                                                                                                |                                                                                                     | Entisols                                                                                            | Torripsamments                                                                                      | Xeric Torripsamments                                                                                | ...Xeric Torripsamments                                                                             | Quincy                                                                                              | 47° 4'35.76\"N                                                                                       | 119°48'10.80\"W                                                                                      |\n",
       "| 5 |  6                                                                                                  | 0-0-3-5                                                                                             | Columbia Basin                                                                                      |  3                                                                                                  | V                                                                                                   | 47.04543                                                                                            | -119.6095                                                                                           | Virgin field                                                                                        | out of sage brush within past couple years                                                          | Wes Boorman                                                                                         | 509-398-1613                                                                                        | 2021                                                                                                | will be planted by 4/16                                                                             | Entisols                                                                                            | Torripsamments                                                                                      | Xeric Torripsamments                                                                                | ...Xeric Torripsamments                                                                             | Quincy                                                                                              | 47° 2'43.55\"N                                                                                       | 119°36'34.30\"W                                                                                      |\n",
       "| 7 |  8                                                                                                  | 0-1-4-2                                                                                             | Skagit Valley                                                                                       |  4                                                                                                  | Skagit virgin 1                                                                                     | 48.43820                                                                                            | -122.4225                                                                                           | Virgin field                                                                                        | Hasn't had potatoes in 30 years                                                                     | Brock Ingman                                                                                        |                                                                                                     | 2021                                                                                                | Planted a few days prior to sampling                                                                | Entisols                                                                                            | Fluvents                                                                                            | Aquic Xerofluvents                                                                                  | ...mesic Aquic Xerofluvents                                                                         | Field                                                                                               |                                                                                                     |                                                                                                     |\n",
       "| 9 | 10                                                                                                  | 0-0-5-4                                                                                             | Columbia Basin                                                                                      |  5                                                                                                  | 983                                                                                                 | 45.69725                                                                                            | -119.3547                                                                                           | Virgin field                                                                                        | 2017/2018:NoCrop - 2019: S W W Wheat - 2020: Grain Corn                                             | Michael Madsen                                                                                      | mmadsen@agrinw.com                                                                                  | 2021                                                                                                |                                                                                                     |                                                                                                     |                                                                                                     |                                                                                                     |                                                                                                     |                                                                                                     |                                                                                                     |                                                                                                     |\n",
       "| 10 | 11                                                                                                  | 0-0-6-5                                                                                             | Columbia Basin                                                                                      |  6                                                                                                  | 989                                                                                                 | 45.67176                                                                                            | -119.3470                                                                                           | Virgin field                                                                                        | 2017/2018:NoCrop - 2019: S W W Wheat - 2020: Grain Corn                                             | Michael Madsen                                                                                      | mmadsen@agrinw.com                                                                                  | 2021                                                                                                |                                                                                                     |                                                                                                     |                                                                                                     |                                                                                                     |                                                                                                     |                                                                                                     |                                                                                                     |                                                                                                     |\n",
       "| 11 | 12                                                                                                  | 0-0-7-6                                                                                             | Columbia Basin                                                                                      |  7                                                                                                  | 990                                                                                                 | 45.66557                                                                                            | -119.3518                                                                                           | Virgin field                                                                                        | 2017/2018:NoCrop - 2019: S W W Wheat - 2020: Grain Corn                                             | Michael Madsen                                                                                      | mmadsen@agrinw.com                                                                                  | 2021                                                                                                |                                                                                                     |                                                                                                     |                                                                                                     |                                                                                                     |                                                                                                     |                                                                                                     |                                                                                                     |                                                                                                     |\n",
       "| 12 | 13                                                                                                  | 0-0-8-3                                                                                             | Columbia Basin                                                                                      |  8                                                                                                  | 991                                                                                                 | 45.65722                                                                                            | -119.3468                                                                                           | Virgin field                                                                                        | 2017/2018/2019:NoCrop - 2020: Grain Corn                                                            | Michael Madsen                                                                                      | mmadsen@agrinw.com                                                                                  | 2021                                                                                                |                                                                                                     |                                                                                                     |                                                                                                     |                                                                                                     |                                                                                                     |                                                                                                     |                                                                                                     |                                                                                                     |\n",
       "| 17 | 18                                                                                                  | 0-1-9-3                                                                                             | Skagit Valley                                                                                       |  9                                                                                                  | Morrison - virgin                                                                                   | 48.20852                                                                                            | -122.3375                                                                                           | Virgin field                                                                                        | Hasn't had potatoes before, currently planted in potatoes                                           | Darrin Morrison                                                                                     |                                                                                                     | 2021                                                                                                | planted in potatoes                                                                                 |                                                                                                     |                                                                                                     |                                                                                                     |                                                                                                     |                                                                                                     |                                                                                                     |                                                                                                     |\n",
       "| 19 | 20                                                                                                  | 0-1-10-1                                                                                            | Skagit Valley                                                                                       | 10                                                                                                  | WSU NWREC LTARE Potato Plots                                                                        | 48.43992                                                                                            | -122.3938                                                                                           | Virgin field                                                                                        | No history of potatoes, diverse long term history across field, 2019: Ryegrass 2020: Ryegrass?      | WSU NWREC                                                                                           |                                                                                                     | 2021                                                                                                | Potatoes planted but not emerged                                                                    |                                                                                                     |                                                                                                     |                                                                                                     |                                                                                                     |                                                                                                     |                                                                                                     |                                                                                                     |\n",
       "| 21 | 22                                                                                                  | 0-1-11-4                                                                                            | Skagit Valley                                                                                       | 11                                                                                                  | Hedlin - virgin                                                                                     | 48.38720                                                                                            | -122.4899                                                                                           | Virgin field                                                                                        | No history of potatoes, currently planted in grain (barley?)                                        | Dave Hedlin                                                                                         |                                                                                                     | 2021                                                                                                | Barley planted but not emerged                                                                      |                                                                                                     |                                                                                                     |                                                                                                     |                                                                                                     |                                                                                                     |                                                                                                     |                                                                                                     |\n",
       "\n"
      ],
      "text/plain": [
       "   ID Label    Location       Pair FieldID                      lat     \n",
       "2   2 0-0-1-2  Columbia Basin  1   1209                         46.28129\n",
       "4   5 0-0-2-1  Columbia Basin  2   HB2                          47.07672\n",
       "5   6 0-0-3-5  Columbia Basin  3   V                            47.04543\n",
       "7   8 0-1-4-2  Skagit Valley   4   Skagit virgin 1              48.43820\n",
       "9  10 0-0-5-4  Columbia Basin  5   983                          45.69725\n",
       "10 11 0-0-6-5  Columbia Basin  6   989                          45.67176\n",
       "11 12 0-0-7-6  Columbia Basin  7   990                          45.66557\n",
       "12 13 0-0-8-3  Columbia Basin  8   991                          45.65722\n",
       "17 18 0-1-9-3  Skagit Valley   9   Morrison - virgin            48.20852\n",
       "19 20 0-1-10-1 Skagit Valley  10   WSU NWREC LTARE Potato Plots 48.43992\n",
       "21 22 0-1-11-4 Skagit Valley  11   Hedlin - virgin              48.38720\n",
       "   long      FieldType   \n",
       "2  -118.6848 Virgin field\n",
       "4  -119.8030 Virgin field\n",
       "5  -119.6095 Virgin field\n",
       "7  -122.4225 Virgin field\n",
       "9  -119.3547 Virgin field\n",
       "10 -119.3470 Virgin field\n",
       "11 -119.3518 Virgin field\n",
       "12 -119.3468 Virgin field\n",
       "17 -122.3375 Virgin field\n",
       "19 -122.3938 Virgin field\n",
       "21 -122.4899 Virgin field\n",
       "   FieldHistory                                                                                       \n",
       "2                                                                                                     \n",
       "4  Double cropped peas/sweetcorn in 2020 followed by potato in 2021. Field was sagebrush prior to that\n",
       "5  out of sage brush within past couple years                                                         \n",
       "7  Hasn't had potatoes in 30 years                                                                    \n",
       "9  2017/2018:NoCrop - 2019: S W W Wheat - 2020: Grain Corn                                            \n",
       "10 2017/2018:NoCrop - 2019: S W W Wheat - 2020: Grain Corn                                            \n",
       "11 2017/2018:NoCrop - 2019: S W W Wheat - 2020: Grain Corn                                            \n",
       "12 2017/2018/2019:NoCrop - 2020: Grain Corn                                                           \n",
       "17 Hasn't had potatoes before, currently planted in potatoes                                          \n",
       "19 No history of potatoes, diverse long term history across field, 2019: Ryegrass 2020: Ryegrass?     \n",
       "21 No history of potatoes, currently planted in grain (barley?)                                       \n",
       "   Source          Contact                SamplingYear\n",
       "2  Blaine Meek     bmeek@agrinw.com       2021        \n",
       "4  Allen Horning   allen@horningfarms.net 2021        \n",
       "5  Wes Boorman     509-398-1613           2021        \n",
       "7  Brock Ingman                           2021        \n",
       "9  Michael Madsen  mmadsen@agrinw.com     2021        \n",
       "10 Michael Madsen  mmadsen@agrinw.com     2021        \n",
       "11 Michael Madsen  mmadsen@agrinw.com     2021        \n",
       "12 Michael Madsen  mmadsen@agrinw.com     2021        \n",
       "17 Darrin Morrison                        2021        \n",
       "19 WSU NWREC                              2021        \n",
       "21 Dave Hedlin                            2021        \n",
       "   Notes                                SoilOrder SoilGreatgroup\n",
       "2                                       Mollisols Haploxerolls  \n",
       "4                                       Entisols  Torripsamments\n",
       "5  will be planted by 4/16              Entisols  Torripsamments\n",
       "7  Planted a few days prior to sampling Entisols  Fluvents      \n",
       "9                                                               \n",
       "10                                                              \n",
       "11                                                              \n",
       "12                                                              \n",
       "17 planted in potatoes                                          \n",
       "19 Potatoes planted but not emerged                             \n",
       "21 Barley planted but not emerged                               \n",
       "   SoilSubgroup          SoilFamily                     SoilSeries\n",
       "2  Calcidic Haploxerolls ...mesic Calcidic Haploxerolls Ritzville \n",
       "4  Xeric Torripsamments  ...Xeric Torripsamments        Quincy    \n",
       "5  Xeric Torripsamments  ...Xeric Torripsamments        Quincy    \n",
       "7  Aquic Xerofluvents    ...mesic Aquic Xerofluvents    Field     \n",
       "9                                                                 \n",
       "10                                                                \n",
       "11                                                                \n",
       "12                                                                \n",
       "17                                                                \n",
       "19                                                                \n",
       "21                                                                \n",
       "   latitude      longitude     \n",
       "2  46°16'52.63\"N 118°41'5.14\"W \n",
       "4  47° 4'35.76\"N 119°48'10.80\"W\n",
       "5  47° 2'43.55\"N 119°36'34.30\"W\n",
       "7                              \n",
       "9                              \n",
       "10                             \n",
       "11                             \n",
       "12                             \n",
       "17                             \n",
       "19                             \n",
       "21                             "
      ]
     },
     "metadata": {},
     "output_type": "display_data"
    }
   ],
   "source": [
    "df[df$FieldType == 'Virgin field',]"
   ]
  },
  {
   "cell_type": "code",
   "execution_count": 7,
   "metadata": {},
   "outputs": [],
   "source": [
    "state_list    <- c('California', 'Nevada', 'Utah', 'Wyoming', 'Montana', 'Idaho', 'Oregon', 'Washington')\n",
    "province_list <- c(\"British Columbia\", \"Alberta\")\n",
    "us <- getData(\"GADM\",country=\"USA\",level=1)\n",
    "canada <- getData(\"GADM\",country=\"CAN\",level=1)\n",
    "us.states <- us[us$NAME_1 %in% state_list,]\n",
    "ca.provinces <- canada[canada$NAME_1 %in% province_list,]"
   ]
  },
  {
   "cell_type": "code",
   "execution_count": 8,
   "metadata": {},
   "outputs": [
    {
     "name": "stderr",
     "output_type": "stream",
     "text": [
      "Regions defined for each Polygons\n",
      "Regions defined for each Polygons\n",
      "Regions defined for each Polygons\n",
      "Regions defined for each Polygons\n"
     ]
    },
    {
     "data": {
      "image/png": "[encoded data removed]",
      "text/plain": [
       "plot without title"
      ]
     },
     "metadata": {},
     "output_type": "display_data"
    }
   ],
   "source": [
    "options(repr.plot.width=10, repr.plot.height=8)\n",
    "#jpeg('Map_soilprints.jpg',width=10,height=8,units='in',res=300)\n",
    "Map = ggplot(us.states,aes(x=long,y=lat, group = group))+\n",
    "geom_path(size = 0.25)+\n",
    "geom_path(data=ca.provinces, size = 0.25, color = 'grey60')+\n",
    "geom_path(data=subset(us.states, NAME_1 %in% c('Montana', 'California','Nevada','Utah','Wyoming')),\n",
    "            size=0.25,color=\"grey60\")+\n",
    "geom_polygon(data=subset(us.states, NAME_1 %in% c('Idaho', 'Oregon', 'Washington')),\n",
    "               aes(x=long, y=lat, group=group), fill=\"white\", colour = \"black\", size=0.50)+\n",
    "theme(panel.background = element_rect(fill = \"white\", colour = \"grey50\"))+\n",
    "coord_map(\"bonne\", lat0 = 50,\n",
    "    xlim = c(-124.5, -116.5),ylim = c(44, 49))+\n",
    "xlab(\"Longitude\") +\n",
    "ylab(\"Latitude\")+\n",
    "geom_point(data = df, aes(x= long, y = lat,color = FieldType, fill = FieldType), position=position_jitter(h=0.05, w=0.04),shape =21, size =6, group = FALSE, alpha =0.5)+\n",
    "scale_fill_manual(name = 'Field Type', labels = c('Non-virgin field', 'Virgin field'), values = c('orange', 'chartreuse4'))+\n",
    "scale_colour_manual(name = 'Field Type', labels = c('Non-virgin field', 'Virgin field'),values = c('black', 'black')) +\n",
    "guides(color = guide_legend('Field Type'))+\n",
    "theme_classic()+\n",
    "theme(axis.title.x= element_text(size =18, color ='black'),\n",
    "    axis.title.y = element_text(size =18, color ='black'),\n",
    "    axis.text.x = element_text(size =15,color = 'black'),\n",
    "    axis.text.y = element_text(size =15, color = 'black'),\n",
    "    legend.text = element_text(size =15),\n",
    "    legend.title = element_text(size =17),\n",
    "    )\n",
    "Map\n",
    "\n",
    "#dev.off()"
   ]
  },
  {
   "cell_type": "markdown",
   "metadata": {},
   "source": [
    "### Data"
   ]
  },
  {
   "cell_type": "code",
   "execution_count": 6,
   "metadata": {},
   "outputs": [
    {
     "data": {
      "text/html": [
       "'/Users/davidlinnardwheeler/Desktop/Desktop - David’s MacBook Pro/Research/VirginSoilPNW/NonAgriculturalSoils/Script'"
      ],
      "text/latex": [
       "'/Users/davidlinnardwheeler/Desktop/Desktop - David’s MacBook Pro/Research/VirginSoilPNW/NonAgriculturalSoils/Script'"
      ],
      "text/markdown": [
       "'/Users/davidlinnardwheeler/Desktop/Desktop - David’s MacBook Pro/Research/VirginSoilPNW/NonAgriculturalSoils/Script'"
      ],
      "text/plain": [
       "[1] \"/Users/davidlinnardwheeler/Desktop/Desktop - David’s MacBook Pro/Research/VirginSoilPNW/NonAgriculturalSoils/Script\""
      ]
     },
     "metadata": {},
     "output_type": "display_data"
    }
   ],
   "source": [
    "getwd()"
   ]
  },
  {
   "cell_type": "code",
   "execution_count": 25,
   "metadata": {},
   "outputs": [],
   "source": [
    "#df = read.csv('C:/Users/gcson/OneDrive - Washington State University (email.wsu.edu)/Desktop/SoilFingerPrints/Data/SoilFingerPrintsData.csv')\n",
    "df<-read.csv(\"/Users/davidlinnardwheeler/Desktop/Desktop - David’s MacBook Pro/Research/VirginSoilPNW/NonAgriculturalSoils/Data/SoilFingerPrintsData.csv\")"
   ]
  },
  {
   "cell_type": "code",
   "execution_count": 26,
   "metadata": {},
   "outputs": [
    {
     "name": "stdout",
     "output_type": "stream",
     "text": [
      "'data.frame':\t22 obs. of  34 variables:\n",
      " $ ID                    : int  1 2 4 5 6 7 8 9 10 11 ...\n",
      " $ Label                 : chr  \"1-0-1-2\" \"0-0-1-2\" \"1-0-2-1\" \"0-0-2-1\" ...\n",
      " $ Location              : chr  \"Columbia Basin\" \"Columbia Basin\" \"Columbia Basin\" \"Columbia Basin\" ...\n",
      " $ Pair                  : int  1 1 2 2 3 3 4 4 5 6 ...\n",
      " $ FieldType             : chr  \"Non-virgin field\" \"Virgin field\" \"Non-virgin field\" \"Virgin field\" ...\n",
      " $ Block                 : int  2 2 1 1 5 5 2 2 4 5 ...\n",
      " $ Wt_Tuber.g.           : num  1587 207 1096 610 814 ...\n",
      " $ Weight_GT20           : num  1538 160 1077 610 802 ...\n",
      " $ Count_Tuber           : int  15 11 9 5 12 14 9 7 10 22 ...\n",
      " $ Count_GT20            : int  12 2 8 5 11 11 9 7 6 15 ...\n",
      " $ Sen_7.29.21           : int  10 20 5 0 0 0 10 8 15 8 ...\n",
      " $ Sen_8.4.21            : int  8 25 10 0 0 0 10 15 15 10 ...\n",
      " $ Sen_8.11.21           : int  10 20 15 0 0 2 10 15 15 15 ...\n",
      " $ Sen_8.18.21           : int  15 30 15 0 5 10 15 20 25 15 ...\n",
      " $ Sen_8.25.21           : int  10 30 8 0 5 8 8 35 35 10 ...\n",
      " $ Sen_9.1.21            : int  15 40 15 0 10 10 15 35 35 10 ...\n",
      " $ Sen_9.8.21            : int  30 40 35 2 5 10 30 50 40 15 ...\n",
      " $ Sen_9.23.21           : int  40 50 70 5 5 10 35 70 45 15 ...\n",
      " $ BD_count_Tuber        : chr  \"0/9\" \"0/3\" \"0/6\" \"0/5\" ...\n",
      " $ BD_Per_Tuber          : num  0 0 0 0 0 0 0 50 0 0 ...\n",
      " $ Vd_count_Tuber        : chr  \"0/9\" \"0/3\" \"0/6\" \"0/5\" ...\n",
      " $ Vd_Per_Tuber          : num  0 0 0 0 0 10 12.5 0 0 0 ...\n",
      " $ BD_Stem               : int  0 0 0 0 0 0 0 0 0 0 ...\n",
      " $ Vd_Stem               : num  0 0 0 0 0 0 0 0 0 0 ...\n",
      " $ DESCRIPTION..Study.ID.: int  1 2 4 5 6 7 8 9 10 11 ...\n",
      " $ Pyth_Avg_Soil         : int  11 56 109 60 157 0 179 223 5 5 ...\n",
      " $ ResPyth_Avg_Soil      : int  0 45 22 33 29 0 0 6 5 0 ...\n",
      " $ ResPyth_Per_Soil      : int  0 80 20 55 19 0 0 3 100 0 ...\n",
      " $ ResPyth_binary        : int  0 1 1 1 1 0 0 1 1 0 ...\n",
      " $ Fus_Avg_Soil          : int  110 613 709 110 1668 650 774 351 272 161 ...\n",
      " $ Vd_Tot_Soil           : int  0 0 0 0 2 0 6 4 0 0 ...\n",
      " $ BD_Tot_Soil           : int  0 0 0 0 0 0 0 0 0 0 ...\n",
      " $ Sample.ID             : int  1 2 4 5 6 7 8 9 10 11 ...\n",
      " $ POXC                  : num  178 282 364 189 316 ...\n"
     ]
    }
   ],
   "source": [
    "str(df)"
   ]
  },
  {
   "cell_type": "markdown",
   "metadata": {},
   "source": [
    "* Change to factor"
   ]
  },
  {
   "cell_type": "code",
   "execution_count": 27,
   "metadata": {},
   "outputs": [
    {
     "name": "stdout",
     "output_type": "stream",
     "text": [
      "'data.frame':\t22 obs. of  34 variables:\n",
      " $ ID                    : Factor w/ 22 levels \"1\",\"2\",\"4\",\"5\",..: 1 2 3 4 5 6 7 8 9 10 ...\n",
      " $ Label                 : chr  \"1-0-1-2\" \"0-0-1-2\" \"1-0-2-1\" \"0-0-2-1\" ...\n",
      " $ Location              : chr  \"Columbia Basin\" \"Columbia Basin\" \"Columbia Basin\" \"Columbia Basin\" ...\n",
      " $ Pair                  : Factor w/ 11 levels \"1\",\"2\",\"3\",\"4\",..: 1 1 2 2 3 3 4 4 5 6 ...\n",
      " $ FieldType             : Factor w/ 2 levels \"Non-virgin field\",..: 1 2 1 2 2 1 2 1 2 2 ...\n",
      " $ Block                 : Factor w/ 6 levels \"1\",\"2\",\"3\",\"4\",..: 2 2 1 1 5 5 2 2 4 5 ...\n",
      " $ Wt_Tuber.g.           : num  1587 207 1096 610 814 ...\n",
      " $ Weight_GT20           : num  1538 160 1077 610 802 ...\n",
      " $ Count_Tuber           : int  15 11 9 5 12 14 9 7 10 22 ...\n",
      " $ Count_GT20            : int  12 2 8 5 11 11 9 7 6 15 ...\n",
      " $ Sen_7.29.21           : int  10 20 5 0 0 0 10 8 15 8 ...\n",
      " $ Sen_8.4.21            : int  8 25 10 0 0 0 10 15 15 10 ...\n",
      " $ Sen_8.11.21           : int  10 20 15 0 0 2 10 15 15 15 ...\n",
      " $ Sen_8.18.21           : int  15 30 15 0 5 10 15 20 25 15 ...\n",
      " $ Sen_8.25.21           : int  10 30 8 0 5 8 8 35 35 10 ...\n",
      " $ Sen_9.1.21            : int  15 40 15 0 10 10 15 35 35 10 ...\n",
      " $ Sen_9.8.21            : int  30 40 35 2 5 10 30 50 40 15 ...\n",
      " $ Sen_9.23.21           : int  40 50 70 5 5 10 35 70 45 15 ...\n",
      " $ BD_count_Tuber        : chr  \"0/9\" \"0/3\" \"0/6\" \"0/5\" ...\n",
      " $ BD_Per_Tuber          : num  0 0 0 0 0 0 0 50 0 0 ...\n",
      " $ Vd_count_Tuber        : chr  \"0/9\" \"0/3\" \"0/6\" \"0/5\" ...\n",
      " $ Vd_Per_Tuber          : num  0 0 0 0 0 10 12.5 0 0 0 ...\n",
      " $ BD_Stem               : int  0 0 0 0 0 0 0 0 0 0 ...\n",
      " $ Vd_Stem               : num  0 0 0 0 0 0 0 0 0 0 ...\n",
      " $ DESCRIPTION..Study.ID.: int  1 2 4 5 6 7 8 9 10 11 ...\n",
      " $ Pyth_Avg_Soil         : int  11 56 109 60 157 0 179 223 5 5 ...\n",
      " $ ResPyth_Avg_Soil      : int  0 45 22 33 29 0 0 6 5 0 ...\n",
      " $ ResPyth_Per_Soil      : int  0 80 20 55 19 0 0 3 100 0 ...\n",
      " $ ResPyth_binary        : int  0 1 1 1 1 0 0 1 1 0 ...\n",
      " $ Fus_Avg_Soil          : int  110 613 709 110 1668 650 774 351 272 161 ...\n",
      " $ Vd_Tot_Soil           : int  0 0 0 0 2 0 6 4 0 0 ...\n",
      " $ BD_Tot_Soil           : int  0 0 0 0 0 0 0 0 0 0 ...\n",
      " $ Sample.ID             : int  1 2 4 5 6 7 8 9 10 11 ...\n",
      " $ POXC                  : num  178 282 364 189 316 ...\n"
     ]
    }
   ],
   "source": [
    "df[c(\"ID\", \"Pair\", \"FieldType\",\"Block\")] <- lapply(df[c(\"ID\", \"Pair\", \"FieldType\", \"Block\")],\n",
    "                                                factor)\n",
    "str(df)"
   ]
  },
  {
   "cell_type": "code",
   "execution_count": 28,
   "metadata": {},
   "outputs": [
    {
     "data": {
      "text/html": [
       "<table>\n",
       "<caption>A data.frame: 6 × 29</caption>\n",
       "<thead>\n",
       "\t<tr><th></th><th scope=col>ID</th><th scope=col>Location</th><th scope=col>Pair</th><th scope=col>FieldType</th><th scope=col>Block</th><th scope=col>Wt_Tuber.g.</th><th scope=col>Weight_GT20</th><th scope=col>Count_Tuber</th><th scope=col>Count_GT20</th><th scope=col>Sen_7.29.21</th><th scope=col>⋯</th><th scope=col>BD_Stem</th><th scope=col>Vd_Stem</th><th scope=col>Pyth_Avg_Soil</th><th scope=col>ResPyth_Avg_Soil</th><th scope=col>ResPyth_Per_Soil</th><th scope=col>ResPyth_binary</th><th scope=col>Fus_Avg_Soil</th><th scope=col>Vd_Tot_Soil</th><th scope=col>BD_Tot_Soil</th><th scope=col>POXC</th></tr>\n",
       "\t<tr><th></th><th scope=col>&lt;fct&gt;</th><th scope=col>&lt;chr&gt;</th><th scope=col>&lt;fct&gt;</th><th scope=col>&lt;fct&gt;</th><th scope=col>&lt;fct&gt;</th><th scope=col>&lt;dbl&gt;</th><th scope=col>&lt;dbl&gt;</th><th scope=col>&lt;int&gt;</th><th scope=col>&lt;int&gt;</th><th scope=col>&lt;int&gt;</th><th scope=col>⋯</th><th scope=col>&lt;int&gt;</th><th scope=col>&lt;dbl&gt;</th><th scope=col>&lt;int&gt;</th><th scope=col>&lt;int&gt;</th><th scope=col>&lt;int&gt;</th><th scope=col>&lt;int&gt;</th><th scope=col>&lt;int&gt;</th><th scope=col>&lt;int&gt;</th><th scope=col>&lt;int&gt;</th><th scope=col>&lt;dbl&gt;</th></tr>\n",
       "</thead>\n",
       "<tbody>\n",
       "\t<tr><th scope=row>1</th><td>1</td><td>Columbia Basin</td><td>1</td><td>Non-virgin field</td><td>2</td><td>1586.65</td><td>1537.88</td><td>15</td><td>12</td><td>10</td><td>⋯</td><td>0</td><td>0</td><td> 11</td><td> 0</td><td> 0</td><td>0</td><td> 110</td><td>0</td><td>0</td><td>177.7824</td></tr>\n",
       "\t<tr><th scope=row>2</th><td>2</td><td>Columbia Basin</td><td>1</td><td>Virgin field    </td><td>2</td><td> 207.26</td><td> 160.03</td><td>11</td><td> 2</td><td>20</td><td>⋯</td><td>0</td><td>0</td><td> 56</td><td>45</td><td>80</td><td>1</td><td> 613</td><td>0</td><td>0</td><td>281.7720</td></tr>\n",
       "\t<tr><th scope=row>3</th><td>4</td><td>Columbia Basin</td><td>2</td><td>Non-virgin field</td><td>1</td><td>1096.27</td><td>1077.21</td><td> 9</td><td> 8</td><td> 5</td><td>⋯</td><td>0</td><td>0</td><td>109</td><td>22</td><td>20</td><td>1</td><td> 709</td><td>0</td><td>0</td><td>364.1400</td></tr>\n",
       "\t<tr><th scope=row>4</th><td>5</td><td>Columbia Basin</td><td>2</td><td>Virgin field    </td><td>1</td><td> 610.05</td><td> 610.50</td><td> 5</td><td> 5</td><td> 0</td><td>⋯</td><td>0</td><td>0</td><td> 60</td><td>33</td><td>55</td><td>1</td><td> 110</td><td>0</td><td>0</td><td>189.1080</td></tr>\n",
       "\t<tr><th scope=row>5</th><td>6</td><td>Columbia Basin</td><td>3</td><td>Virgin field    </td><td>5</td><td> 814.12</td><td> 801.73</td><td>12</td><td>11</td><td> 0</td><td>⋯</td><td>0</td><td>0</td><td>157</td><td>29</td><td>19</td><td>1</td><td>1668</td><td>2</td><td>0</td><td>315.7488</td></tr>\n",
       "\t<tr><th scope=row>6</th><td>7</td><td>Columbia Basin</td><td>3</td><td>Non-virgin field</td><td>5</td><td>1038.14</td><td>1009.35</td><td>14</td><td>11</td><td> 0</td><td>⋯</td><td>0</td><td>0</td><td>  0</td><td> 0</td><td> 0</td><td>0</td><td> 650</td><td>0</td><td>0</td><td>267.3576</td></tr>\n",
       "</tbody>\n",
       "</table>\n"
      ],
      "text/latex": [
       "A data.frame: 6 × 29\n",
       "\\begin{tabular}{r|lllllllllllllllllllll}\n",
       "  & ID & Location & Pair & FieldType & Block & Wt\\_Tuber.g. & Weight\\_GT20 & Count\\_Tuber & Count\\_GT20 & Sen\\_7.29.21 & ⋯ & BD\\_Stem & Vd\\_Stem & Pyth\\_Avg\\_Soil & ResPyth\\_Avg\\_Soil & ResPyth\\_Per\\_Soil & ResPyth\\_binary & Fus\\_Avg\\_Soil & Vd\\_Tot\\_Soil & BD\\_Tot\\_Soil & POXC\\\\\n",
       "  & <fct> & <chr> & <fct> & <fct> & <fct> & <dbl> & <dbl> & <int> & <int> & <int> & ⋯ & <int> & <dbl> & <int> & <int> & <int> & <int> & <int> & <int> & <int> & <dbl>\\\\\n",
       "\\hline\n",
       "\t1 & 1 & Columbia Basin & 1 & Non-virgin field & 2 & 1586.65 & 1537.88 & 15 & 12 & 10 & ⋯ & 0 & 0 &  11 &  0 &  0 & 0 &  110 & 0 & 0 & 177.7824\\\\\n",
       "\t2 & 2 & Columbia Basin & 1 & Virgin field     & 2 &  207.26 &  160.03 & 11 &  2 & 20 & ⋯ & 0 & 0 &  56 & 45 & 80 & 1 &  613 & 0 & 0 & 281.7720\\\\\n",
       "\t3 & 4 & Columbia Basin & 2 & Non-virgin field & 1 & 1096.27 & 1077.21 &  9 &  8 &  5 & ⋯ & 0 & 0 & 109 & 22 & 20 & 1 &  709 & 0 & 0 & 364.1400\\\\\n",
       "\t4 & 5 & Columbia Basin & 2 & Virgin field     & 1 &  610.05 &  610.50 &  5 &  5 &  0 & ⋯ & 0 & 0 &  60 & 33 & 55 & 1 &  110 & 0 & 0 & 189.1080\\\\\n",
       "\t5 & 6 & Columbia Basin & 3 & Virgin field     & 5 &  814.12 &  801.73 & 12 & 11 &  0 & ⋯ & 0 & 0 & 157 & 29 & 19 & 1 & 1668 & 2 & 0 & 315.7488\\\\\n",
       "\t6 & 7 & Columbia Basin & 3 & Non-virgin field & 5 & 1038.14 & 1009.35 & 14 & 11 &  0 & ⋯ & 0 & 0 &   0 &  0 &  0 & 0 &  650 & 0 & 0 & 267.3576\\\\\n",
       "\\end{tabular}\n"
      ],
      "text/markdown": [
       "\n",
       "A data.frame: 6 × 29\n",
       "\n",
       "| <!--/--> | ID &lt;fct&gt; | Location &lt;chr&gt; | Pair &lt;fct&gt; | FieldType &lt;fct&gt; | Block &lt;fct&gt; | Wt_Tuber.g. &lt;dbl&gt; | Weight_GT20 &lt;dbl&gt; | Count_Tuber &lt;int&gt; | Count_GT20 &lt;int&gt; | Sen_7.29.21 &lt;int&gt; | ⋯ ⋯ | BD_Stem &lt;int&gt; | Vd_Stem &lt;dbl&gt; | Pyth_Avg_Soil &lt;int&gt; | ResPyth_Avg_Soil &lt;int&gt; | ResPyth_Per_Soil &lt;int&gt; | ResPyth_binary &lt;int&gt; | Fus_Avg_Soil &lt;int&gt; | Vd_Tot_Soil &lt;int&gt; | BD_Tot_Soil &lt;int&gt; | POXC &lt;dbl&gt; |\n",
       "|---|---|---|---|---|---|---|---|---|---|---|---|---|---|---|---|---|---|---|---|---|---|\n",
       "| 1 | 1 | Columbia Basin | 1 | Non-virgin field | 2 | 1586.65 | 1537.88 | 15 | 12 | 10 | ⋯ | 0 | 0 |  11 |  0 |  0 | 0 |  110 | 0 | 0 | 177.7824 |\n",
       "| 2 | 2 | Columbia Basin | 1 | Virgin field     | 2 |  207.26 |  160.03 | 11 |  2 | 20 | ⋯ | 0 | 0 |  56 | 45 | 80 | 1 |  613 | 0 | 0 | 281.7720 |\n",
       "| 3 | 4 | Columbia Basin | 2 | Non-virgin field | 1 | 1096.27 | 1077.21 |  9 |  8 |  5 | ⋯ | 0 | 0 | 109 | 22 | 20 | 1 |  709 | 0 | 0 | 364.1400 |\n",
       "| 4 | 5 | Columbia Basin | 2 | Virgin field     | 1 |  610.05 |  610.50 |  5 |  5 |  0 | ⋯ | 0 | 0 |  60 | 33 | 55 | 1 |  110 | 0 | 0 | 189.1080 |\n",
       "| 5 | 6 | Columbia Basin | 3 | Virgin field     | 5 |  814.12 |  801.73 | 12 | 11 |  0 | ⋯ | 0 | 0 | 157 | 29 | 19 | 1 | 1668 | 2 | 0 | 315.7488 |\n",
       "| 6 | 7 | Columbia Basin | 3 | Non-virgin field | 5 | 1038.14 | 1009.35 | 14 | 11 |  0 | ⋯ | 0 | 0 |   0 |  0 |  0 | 0 |  650 | 0 | 0 | 267.3576 |\n",
       "\n"
      ],
      "text/plain": [
       "  ID Location       Pair FieldType        Block Wt_Tuber.g. Weight_GT20\n",
       "1 1  Columbia Basin 1    Non-virgin field 2     1586.65     1537.88    \n",
       "2 2  Columbia Basin 1    Virgin field     2      207.26      160.03    \n",
       "3 4  Columbia Basin 2    Non-virgin field 1     1096.27     1077.21    \n",
       "4 5  Columbia Basin 2    Virgin field     1      610.05      610.50    \n",
       "5 6  Columbia Basin 3    Virgin field     5      814.12      801.73    \n",
       "6 7  Columbia Basin 3    Non-virgin field 5     1038.14     1009.35    \n",
       "  Count_Tuber Count_GT20 Sen_7.29.21 ⋯ BD_Stem Vd_Stem Pyth_Avg_Soil\n",
       "1 15          12         10          ⋯ 0       0        11          \n",
       "2 11           2         20          ⋯ 0       0        56          \n",
       "3  9           8          5          ⋯ 0       0       109          \n",
       "4  5           5          0          ⋯ 0       0        60          \n",
       "5 12          11          0          ⋯ 0       0       157          \n",
       "6 14          11          0          ⋯ 0       0         0          \n",
       "  ResPyth_Avg_Soil ResPyth_Per_Soil ResPyth_binary Fus_Avg_Soil Vd_Tot_Soil\n",
       "1  0                0               0               110         0          \n",
       "2 45               80               1               613         0          \n",
       "3 22               20               1               709         0          \n",
       "4 33               55               1               110         0          \n",
       "5 29               19               1              1668         2          \n",
       "6  0                0               0               650         0          \n",
       "  BD_Tot_Soil POXC    \n",
       "1 0           177.7824\n",
       "2 0           281.7720\n",
       "3 0           364.1400\n",
       "4 0           189.1080\n",
       "5 0           315.7488\n",
       "6 0           267.3576"
      ]
     },
     "metadata": {},
     "output_type": "display_data"
    }
   ],
   "source": [
    "df1 = df[, c(1, 3, 4:18, 20, 22, 23,24,26:32, 34)]\n",
    "head(df1)"
   ]
  },
  {
   "cell_type": "code",
   "execution_count": 29,
   "metadata": {},
   "outputs": [
    {
     "data": {
      "text/html": [
       "<dl>\n",
       "\t<dt>$ID</dt>\n",
       "\t\t<dd><style>\n",
       ".list-inline {list-style: none; margin:0; padding: 0}\n",
       ".list-inline>li {display: inline-block}\n",
       ".list-inline>li:not(:last-child)::after {content: \"\\00b7\"; padding: 0 .5ex}\n",
       "</style>\n",
       "<ol class=list-inline><li>1</li><li>2</li><li>4</li><li>5</li><li>6</li><li>7</li><li>8</li><li>9</li><li>10</li><li>11</li><li>12</li><li>13</li><li>14</li><li>15</li><li>16</li><li>17</li><li>18</li><li>19</li><li>20</li><li>21</li><li>22</li><li>23</li></ol>\n",
       "\n",
       "<details>\n",
       "\t<summary style=display:list-item;cursor:pointer>\n",
       "\t\t<strong>Levels</strong>:\n",
       "\t</summary>\n",
       "\t<style>\n",
       "\t.list-inline {list-style: none; margin:0; padding: 0}\n",
       "\t.list-inline>li {display: inline-block}\n",
       "\t.list-inline>li:not(:last-child)::after {content: \"\\00b7\"; padding: 0 .5ex}\n",
       "\t</style>\n",
       "\t<ol class=list-inline><li>'1'</li><li>'2'</li><li>'4'</li><li>'5'</li><li>'6'</li><li>'7'</li><li>'8'</li><li>'9'</li><li>'10'</li><li>'11'</li><li>'12'</li><li>'13'</li><li>'14'</li><li>'15'</li><li>'16'</li><li>'17'</li><li>'18'</li><li>'19'</li><li>'20'</li><li>'21'</li><li>'22'</li><li>'23'</li></ol>\n",
       "</details></dd>\n",
       "\t<dt>$Label</dt>\n",
       "\t\t<dd><style>\n",
       ".list-inline {list-style: none; margin:0; padding: 0}\n",
       ".list-inline>li {display: inline-block}\n",
       ".list-inline>li:not(:last-child)::after {content: \"\\00b7\"; padding: 0 .5ex}\n",
       "</style>\n",
       "<ol class=list-inline><li>'1-0-1-2'</li><li>'0-0-1-2'</li><li>'1-0-2-1'</li><li>'0-0-2-1'</li><li>'0-0-3-5'</li><li>'1-0-3-5'</li><li>'0-1-4-2'</li><li>'1-1-4-2'</li><li>'0-0-5-4'</li><li>'0-0-6-5'</li><li>'0-0-7-6'</li><li>'0-0-8-3'</li><li>'1-0-5-4'</li><li>'1-0-6-5'</li><li>'1-0-7-6'</li><li>'1-0-8-3'</li><li>'0-1-9-3'</li><li>'1-1-9-3'</li><li>'0-1-10-1'</li><li>'1-1-10-1'</li><li>'0-1-11-4'</li><li>'1-1-11-4'</li></ol>\n",
       "</dd>\n",
       "\t<dt>$Location</dt>\n",
       "\t\t<dd><style>\n",
       ".list-inline {list-style: none; margin:0; padding: 0}\n",
       ".list-inline>li {display: inline-block}\n",
       ".list-inline>li:not(:last-child)::after {content: \"\\00b7\"; padding: 0 .5ex}\n",
       "</style>\n",
       "<ol class=list-inline><li>'Columbia Basin'</li><li>'Skagit Valley'</li></ol>\n",
       "</dd>\n",
       "\t<dt>$Pair</dt>\n",
       "\t\t<dd><style>\n",
       ".list-inline {list-style: none; margin:0; padding: 0}\n",
       ".list-inline>li {display: inline-block}\n",
       ".list-inline>li:not(:last-child)::after {content: \"\\00b7\"; padding: 0 .5ex}\n",
       "</style>\n",
       "<ol class=list-inline><li>1</li><li>2</li><li>3</li><li>4</li><li>5</li><li>6</li><li>7</li><li>8</li><li>9</li><li>10</li><li>11</li></ol>\n",
       "\n",
       "<details>\n",
       "\t<summary style=display:list-item;cursor:pointer>\n",
       "\t\t<strong>Levels</strong>:\n",
       "\t</summary>\n",
       "\t<style>\n",
       "\t.list-inline {list-style: none; margin:0; padding: 0}\n",
       "\t.list-inline>li {display: inline-block}\n",
       "\t.list-inline>li:not(:last-child)::after {content: \"\\00b7\"; padding: 0 .5ex}\n",
       "\t</style>\n",
       "\t<ol class=list-inline><li>'1'</li><li>'2'</li><li>'3'</li><li>'4'</li><li>'5'</li><li>'6'</li><li>'7'</li><li>'8'</li><li>'9'</li><li>'10'</li><li>'11'</li></ol>\n",
       "</details></dd>\n",
       "\t<dt>$FieldType</dt>\n",
       "\t\t<dd><style>\n",
       ".list-inline {list-style: none; margin:0; padding: 0}\n",
       ".list-inline>li {display: inline-block}\n",
       ".list-inline>li:not(:last-child)::after {content: \"\\00b7\"; padding: 0 .5ex}\n",
       "</style>\n",
       "<ol class=list-inline><li>Non-virgin field</li><li>Virgin field</li></ol>\n",
       "\n",
       "<details>\n",
       "\t<summary style=display:list-item;cursor:pointer>\n",
       "\t\t<strong>Levels</strong>:\n",
       "\t</summary>\n",
       "\t<style>\n",
       "\t.list-inline {list-style: none; margin:0; padding: 0}\n",
       "\t.list-inline>li {display: inline-block}\n",
       "\t.list-inline>li:not(:last-child)::after {content: \"\\00b7\"; padding: 0 .5ex}\n",
       "\t</style>\n",
       "\t<ol class=list-inline><li>'Non-virgin field'</li><li>'Virgin field'</li></ol>\n",
       "</details></dd>\n",
       "\t<dt>$Block</dt>\n",
       "\t\t<dd><style>\n",
       ".list-inline {list-style: none; margin:0; padding: 0}\n",
       ".list-inline>li {display: inline-block}\n",
       ".list-inline>li:not(:last-child)::after {content: \"\\00b7\"; padding: 0 .5ex}\n",
       "</style>\n",
       "<ol class=list-inline><li>2</li><li>1</li><li>5</li><li>4</li><li>6</li><li>3</li></ol>\n",
       "\n",
       "<details>\n",
       "\t<summary style=display:list-item;cursor:pointer>\n",
       "\t\t<strong>Levels</strong>:\n",
       "\t</summary>\n",
       "\t<style>\n",
       "\t.list-inline {list-style: none; margin:0; padding: 0}\n",
       "\t.list-inline>li {display: inline-block}\n",
       "\t.list-inline>li:not(:last-child)::after {content: \"\\00b7\"; padding: 0 .5ex}\n",
       "\t</style>\n",
       "\t<ol class=list-inline><li>'1'</li><li>'2'</li><li>'3'</li><li>'4'</li><li>'5'</li><li>'6'</li></ol>\n",
       "</details></dd>\n",
       "\t<dt>$Wt_Tuber.g.</dt>\n",
       "\t\t<dd><style>\n",
       ".list-inline {list-style: none; margin:0; padding: 0}\n",
       ".list-inline>li {display: inline-block}\n",
       ".list-inline>li:not(:last-child)::after {content: \"\\00b7\"; padding: 0 .5ex}\n",
       "</style>\n",
       "<ol class=list-inline><li>1586.65</li><li>207.26</li><li>1096.27</li><li>610.05</li><li>814.12</li><li>1038.14</li><li>1378.06</li><li>859.18</li><li>394.53</li><li>1546.06</li><li>1300.45</li><li>566.92</li><li>929.24</li><li>617.91</li><li>662</li><li>698.16</li><li>1162.44</li><li>510.1</li><li>1100.35</li><li>1042.63</li><li>1034.51</li><li>934.47</li></ol>\n",
       "</dd>\n",
       "\t<dt>$Weight_GT20</dt>\n",
       "\t\t<dd><style>\n",
       ".list-inline {list-style: none; margin:0; padding: 0}\n",
       ".list-inline>li {display: inline-block}\n",
       ".list-inline>li:not(:last-child)::after {content: \"\\00b7\"; padding: 0 .5ex}\n",
       "</style>\n",
       "<ol class=list-inline><li>1537.88</li><li>160.03</li><li>1077.21</li><li>610.5</li><li>801.73</li><li>1009.35</li><li>1378.06</li><li>859.18</li><li>327.56</li><li>1451.85</li><li>1247.21</li><li>557.47</li><li>991.91</li><li>665.87</li><li>624.84</li><li>694.08</li><li>1033.32</li><li>457.23</li><li>1027.7</li><li>1003.21</li><li>982.02</li><li>766.5</li></ol>\n",
       "</dd>\n",
       "\t<dt>$Count_Tuber</dt>\n",
       "\t\t<dd><style>\n",
       ".list-inline {list-style: none; margin:0; padding: 0}\n",
       ".list-inline>li {display: inline-block}\n",
       ".list-inline>li:not(:last-child)::after {content: \"\\00b7\"; padding: 0 .5ex}\n",
       "</style>\n",
       "<ol class=list-inline><li>15</li><li>11</li><li>9</li><li>5</li><li>12</li><li>14</li><li>7</li><li>10</li><li>22</li><li>16</li><li>13</li><li>8</li><li>26</li><li>17</li><li>21</li><li>29</li></ol>\n",
       "</dd>\n",
       "\t<dt>$Count_GT20</dt>\n",
       "\t\t<dd><style>\n",
       ".list-inline {list-style: none; margin:0; padding: 0}\n",
       ".list-inline>li {display: inline-block}\n",
       ".list-inline>li:not(:last-child)::after {content: \"\\00b7\"; padding: 0 .5ex}\n",
       "</style>\n",
       "<ol class=list-inline><li>12</li><li>2</li><li>8</li><li>5</li><li>11</li><li>9</li><li>7</li><li>6</li><li>15</li><li>10</li><li>16</li></ol>\n",
       "</dd>\n",
       "\t<dt>$Sen_7.29.21</dt>\n",
       "\t\t<dd><style>\n",
       ".list-inline {list-style: none; margin:0; padding: 0}\n",
       ".list-inline>li {display: inline-block}\n",
       ".list-inline>li:not(:last-child)::after {content: \"\\00b7\"; padding: 0 .5ex}\n",
       "</style>\n",
       "<ol class=list-inline><li>10</li><li>20</li><li>5</li><li>0</li><li>8</li><li>15</li></ol>\n",
       "</dd>\n",
       "\t<dt>$Sen_8.4.21</dt>\n",
       "\t\t<dd><style>\n",
       ".list-inline {list-style: none; margin:0; padding: 0}\n",
       ".list-inline>li {display: inline-block}\n",
       ".list-inline>li:not(:last-child)::after {content: \"\\00b7\"; padding: 0 .5ex}\n",
       "</style>\n",
       "<ol class=list-inline><li>8</li><li>25</li><li>10</li><li>0</li><li>15</li><li>2</li></ol>\n",
       "</dd>\n",
       "\t<dt>$Sen_8.11.21</dt>\n",
       "\t\t<dd><style>\n",
       ".list-inline {list-style: none; margin:0; padding: 0}\n",
       ".list-inline>li {display: inline-block}\n",
       ".list-inline>li:not(:last-child)::after {content: \"\\00b7\"; padding: 0 .5ex}\n",
       "</style>\n",
       "<ol class=list-inline><li>10</li><li>20</li><li>15</li><li>0</li><li>2</li><li>5</li><li>8</li></ol>\n",
       "</dd>\n",
       "\t<dt>$Sen_8.18.21</dt>\n",
       "\t\t<dd><style>\n",
       ".list-inline {list-style: none; margin:0; padding: 0}\n",
       ".list-inline>li {display: inline-block}\n",
       ".list-inline>li:not(:last-child)::after {content: \"\\00b7\"; padding: 0 .5ex}\n",
       "</style>\n",
       "<ol class=list-inline><li>15</li><li>30</li><li>0</li><li>5</li><li>10</li><li>20</li><li>25</li></ol>\n",
       "</dd>\n",
       "\t<dt>$Sen_8.25.21</dt>\n",
       "\t\t<dd><style>\n",
       ".list-inline {list-style: none; margin:0; padding: 0}\n",
       ".list-inline>li {display: inline-block}\n",
       ".list-inline>li:not(:last-child)::after {content: \"\\00b7\"; padding: 0 .5ex}\n",
       "</style>\n",
       "<ol class=list-inline><li>10</li><li>30</li><li>8</li><li>0</li><li>5</li><li>35</li><li>15</li></ol>\n",
       "</dd>\n",
       "\t<dt>$Sen_9.1.21</dt>\n",
       "\t\t<dd><style>\n",
       ".list-inline {list-style: none; margin:0; padding: 0}\n",
       ".list-inline>li {display: inline-block}\n",
       ".list-inline>li:not(:last-child)::after {content: \"\\00b7\"; padding: 0 .5ex}\n",
       "</style>\n",
       "<ol class=list-inline><li>15</li><li>40</li><li>0</li><li>10</li><li>35</li><li>25</li><li>5</li><li>20</li></ol>\n",
       "</dd>\n",
       "\t<dt>$Sen_9.8.21</dt>\n",
       "\t\t<dd><style>\n",
       ".list-inline {list-style: none; margin:0; padding: 0}\n",
       ".list-inline>li {display: inline-block}\n",
       ".list-inline>li:not(:last-child)::after {content: \"\\00b7\"; padding: 0 .5ex}\n",
       "</style>\n",
       "<ol class=list-inline><li>30</li><li>40</li><li>35</li><li>2</li><li>5</li><li>10</li><li>50</li><li>15</li><li>100</li><li>0</li><li>20</li><li>25</li></ol>\n",
       "</dd>\n",
       "\t<dt>$Sen_9.23.21</dt>\n",
       "\t\t<dd><style>\n",
       ".list-inline {list-style: none; margin:0; padding: 0}\n",
       ".list-inline>li {display: inline-block}\n",
       ".list-inline>li:not(:last-child)::after {content: \"\\00b7\"; padding: 0 .5ex}\n",
       "</style>\n",
       "<ol class=list-inline><li>40</li><li>50</li><li>70</li><li>5</li><li>10</li><li>35</li><li>45</li><li>15</li><li>20</li><li>100</li><li>30</li><li>80</li></ol>\n",
       "</dd>\n",
       "\t<dt>$BD_count_Tuber</dt>\n",
       "\t\t<dd><style>\n",
       ".list-inline {list-style: none; margin:0; padding: 0}\n",
       ".list-inline>li {display: inline-block}\n",
       ".list-inline>li:not(:last-child)::after {content: \"\\00b7\"; padding: 0 .5ex}\n",
       "</style>\n",
       "<ol class=list-inline><li>'0/9'</li><li>'0/3'</li><li>'0/6'</li><li>'0/5'</li><li>'0/10'</li><li>'0/8'</li><li>'6-Mar'</li><li>'0/11'</li><li>'7-Jan'</li><li>'0/7'</li><li>'4-Jan'</li><li>'9-Jan'</li></ol>\n",
       "</dd>\n",
       "\t<dt>$BD_Per_Tuber</dt>\n",
       "\t\t<dd><style>\n",
       ".list-inline {list-style: none; margin:0; padding: 0}\n",
       ".list-inline>li {display: inline-block}\n",
       ".list-inline>li:not(:last-child)::after {content: \"\\00b7\"; padding: 0 .5ex}\n",
       "</style>\n",
       "<ol class=list-inline><li>0</li><li>50</li><li>14.29</li><li>25</li><li>11.11</li></ol>\n",
       "</dd>\n",
       "\t<dt>$Vd_count_Tuber</dt>\n",
       "\t\t<dd><style>\n",
       ".list-inline {list-style: none; margin:0; padding: 0}\n",
       ".list-inline>li {display: inline-block}\n",
       ".list-inline>li:not(:last-child)::after {content: \"\\00b7\"; padding: 0 .5ex}\n",
       "</style>\n",
       "<ol class=list-inline><li>'0/9'</li><li>'0/3'</li><li>'0/6'</li><li>'0/5'</li><li>'10-Jan'</li><li>'8-Jan'</li><li>'0/11'</li><li>'0/8'</li><li>'0/7'</li><li>'4-Jan'</li><li>'0/10'</li></ol>\n",
       "</dd>\n",
       "\t<dt>$Vd_Per_Tuber</dt>\n",
       "\t\t<dd><style>\n",
       ".list-inline {list-style: none; margin:0; padding: 0}\n",
       ".list-inline>li {display: inline-block}\n",
       ".list-inline>li:not(:last-child)::after {content: \"\\00b7\"; padding: 0 .5ex}\n",
       "</style>\n",
       "<ol class=list-inline><li>0</li><li>10</li><li>12.5</li><li>25</li></ol>\n",
       "</dd>\n",
       "\t<dt>$BD_Stem</dt>\n",
       "\t\t<dd>0</dd>\n",
       "\t<dt>$Vd_Stem</dt>\n",
       "\t\t<dd><style>\n",
       ".list-inline {list-style: none; margin:0; padding: 0}\n",
       ".list-inline>li {display: inline-block}\n",
       ".list-inline>li:not(:last-child)::after {content: \"\\00b7\"; padding: 0 .5ex}\n",
       "</style>\n",
       "<ol class=list-inline><li>0</li><li>0.6</li></ol>\n",
       "</dd>\n",
       "\t<dt>$DESCRIPTION..Study.ID.</dt>\n",
       "\t\t<dd><style>\n",
       ".list-inline {list-style: none; margin:0; padding: 0}\n",
       ".list-inline>li {display: inline-block}\n",
       ".list-inline>li:not(:last-child)::after {content: \"\\00b7\"; padding: 0 .5ex}\n",
       "</style>\n",
       "<ol class=list-inline><li>1</li><li>2</li><li>4</li><li>5</li><li>6</li><li>7</li><li>8</li><li>9</li><li>10</li><li>11</li><li>12</li><li>13</li><li>14</li><li>15</li><li>16</li><li>17</li><li>18</li><li>19</li><li>20</li><li>21</li><li>22</li><li>23</li></ol>\n",
       "</dd>\n",
       "\t<dt>$Pyth_Avg_Soil</dt>\n",
       "\t\t<dd><style>\n",
       ".list-inline {list-style: none; margin:0; padding: 0}\n",
       ".list-inline>li {display: inline-block}\n",
       ".list-inline>li:not(:last-child)::after {content: \"\\00b7\"; padding: 0 .5ex}\n",
       "</style>\n",
       "<ol class=list-inline><li>11</li><li>56</li><li>109</li><li>60</li><li>157</li><li>0</li><li>179</li><li>223</li><li>5</li><li>80</li><li>22</li><li>21</li><li>53</li><li>94</li><li>27</li><li>343</li><li>99</li><li>276</li><li>82</li><li>234</li></ol>\n",
       "</dd>\n",
       "\t<dt>$ResPyth_Avg_Soil</dt>\n",
       "\t\t<dd><style>\n",
       ".list-inline {list-style: none; margin:0; padding: 0}\n",
       ".list-inline>li {display: inline-block}\n",
       ".list-inline>li:not(:last-child)::after {content: \"\\00b7\"; padding: 0 .5ex}\n",
       "</style>\n",
       "<ol class=list-inline><li>0</li><li>45</li><li>22</li><li>33</li><li>29</li><li>6</li><li>5</li><li>11</li></ol>\n",
       "</dd>\n",
       "\t<dt>$ResPyth_Per_Soil</dt>\n",
       "\t\t<dd><style>\n",
       ".list-inline {list-style: none; margin:0; padding: 0}\n",
       ".list-inline>li {display: inline-block}\n",
       ".list-inline>li:not(:last-child)::after {content: \"\\00b7\"; padding: 0 .5ex}\n",
       "</style>\n",
       "<ol class=list-inline><li>0</li><li>80</li><li>20</li><li>55</li><li>19</li><li>3</li><li>100</li><li>13</li><li>25</li><li>6</li></ol>\n",
       "</dd>\n",
       "\t<dt>$ResPyth_binary</dt>\n",
       "\t\t<dd><style>\n",
       ".list-inline {list-style: none; margin:0; padding: 0}\n",
       ".list-inline>li {display: inline-block}\n",
       ".list-inline>li:not(:last-child)::after {content: \"\\00b7\"; padding: 0 .5ex}\n",
       "</style>\n",
       "<ol class=list-inline><li>0</li><li>1</li></ol>\n",
       "</dd>\n",
       "\t<dt>$Fus_Avg_Soil</dt>\n",
       "\t\t<dd><style>\n",
       ".list-inline {list-style: none; margin:0; padding: 0}\n",
       ".list-inline>li {display: inline-block}\n",
       ".list-inline>li:not(:last-child)::after {content: \"\\00b7\"; padding: 0 .5ex}\n",
       "</style>\n",
       "<ol class=list-inline><li>110</li><li>613</li><li>709</li><li>1668</li><li>650</li><li>774</li><li>351</li><li>272</li><li>161</li><li>908</li><li>54</li><li>267</li><li>963</li><li>1724</li><li>428</li><li>1278</li><li>697</li><li>2703</li><li>1286</li><li>1318</li><li>858</li></ol>\n",
       "</dd>\n",
       "\t<dt>$Vd_Tot_Soil</dt>\n",
       "\t\t<dd><style>\n",
       ".list-inline {list-style: none; margin:0; padding: 0}\n",
       ".list-inline>li {display: inline-block}\n",
       ".list-inline>li:not(:last-child)::after {content: \"\\00b7\"; padding: 0 .5ex}\n",
       "</style>\n",
       "<ol class=list-inline><li>0</li><li>2</li><li>6</li><li>4</li></ol>\n",
       "</dd>\n",
       "\t<dt>$BD_Tot_Soil</dt>\n",
       "\t\t<dd><style>\n",
       ".list-inline {list-style: none; margin:0; padding: 0}\n",
       ".list-inline>li {display: inline-block}\n",
       ".list-inline>li:not(:last-child)::after {content: \"\\00b7\"; padding: 0 .5ex}\n",
       "</style>\n",
       "<ol class=list-inline><li>0</li><li>2</li></ol>\n",
       "</dd>\n",
       "\t<dt>$Sample.ID</dt>\n",
       "\t\t<dd><style>\n",
       ".list-inline {list-style: none; margin:0; padding: 0}\n",
       ".list-inline>li {display: inline-block}\n",
       ".list-inline>li:not(:last-child)::after {content: \"\\00b7\"; padding: 0 .5ex}\n",
       "</style>\n",
       "<ol class=list-inline><li>1</li><li>2</li><li>4</li><li>5</li><li>6</li><li>7</li><li>8</li><li>9</li><li>10</li><li>11</li><li>12</li><li>13</li><li>14</li><li>15</li><li>16</li><li>17</li><li>18</li><li>19</li><li>20</li><li>21</li><li>22</li><li>23</li></ol>\n",
       "</dd>\n",
       "\t<dt>$POXC</dt>\n",
       "\t\t<dd><style>\n",
       ".list-inline {list-style: none; margin:0; padding: 0}\n",
       ".list-inline>li {display: inline-block}\n",
       ".list-inline>li:not(:last-child)::after {content: \"\\00b7\"; padding: 0 .5ex}\n",
       "</style>\n",
       "<ol class=list-inline><li>177.7824</li><li>281.772</li><li>364.14</li><li>189.108</li><li>315.7488</li><li>267.3576</li><li>535.0536</li><li>411.5016</li><li>208.6704</li><li>255.0024</li><li>323.9856</li><li>307.512</li><li>270.4464</li><li>400.176</li><li>379.584</li><li>326.0448</li><li>822.312</li><li>600.948</li><li>466.0704</li><li>456.804</li><li>597.8592</li><li>592.0632</li></ol>\n",
       "</dd>\n",
       "</dl>\n"
      ],
      "text/latex": [
       "\\begin{description}\n",
       "\\item[\\$ID] \\begin{enumerate*}\n",
       "\\item 1\n",
       "\\item 2\n",
       "\\item 4\n",
       "\\item 5\n",
       "\\item 6\n",
       "\\item 7\n",
       "\\item 8\n",
       "\\item 9\n",
       "\\item 10\n",
       "\\item 11\n",
       "\\item 12\n",
       "\\item 13\n",
       "\\item 14\n",
       "\\item 15\n",
       "\\item 16\n",
       "\\item 17\n",
       "\\item 18\n",
       "\\item 19\n",
       "\\item 20\n",
       "\\item 21\n",
       "\\item 22\n",
       "\\item 23\n",
       "\\end{enumerate*}\n",
       "\n",
       "\\emph{Levels}: \\begin{enumerate*}\n",
       "\\item '1'\n",
       "\\item '2'\n",
       "\\item '4'\n",
       "\\item '5'\n",
       "\\item '6'\n",
       "\\item '7'\n",
       "\\item '8'\n",
       "\\item '9'\n",
       "\\item '10'\n",
       "\\item '11'\n",
       "\\item '12'\n",
       "\\item '13'\n",
       "\\item '14'\n",
       "\\item '15'\n",
       "\\item '16'\n",
       "\\item '17'\n",
       "\\item '18'\n",
       "\\item '19'\n",
       "\\item '20'\n",
       "\\item '21'\n",
       "\\item '22'\n",
       "\\item '23'\n",
       "\\end{enumerate*}\n",
       "\n",
       "\\item[\\$Label] \\begin{enumerate*}\n",
       "\\item '1-0-1-2'\n",
       "\\item '0-0-1-2'\n",
       "\\item '1-0-2-1'\n",
       "\\item '0-0-2-1'\n",
       "\\item '0-0-3-5'\n",
       "\\item '1-0-3-5'\n",
       "\\item '0-1-4-2'\n",
       "\\item '1-1-4-2'\n",
       "\\item '0-0-5-4'\n",
       "\\item '0-0-6-5'\n",
       "\\item '0-0-7-6'\n",
       "\\item '0-0-8-3'\n",
       "\\item '1-0-5-4'\n",
       "\\item '1-0-6-5'\n",
       "\\item '1-0-7-6'\n",
       "\\item '1-0-8-3'\n",
       "\\item '0-1-9-3'\n",
       "\\item '1-1-9-3'\n",
       "\\item '0-1-10-1'\n",
       "\\item '1-1-10-1'\n",
       "\\item '0-1-11-4'\n",
       "\\item '1-1-11-4'\n",
       "\\end{enumerate*}\n",
       "\n",
       "\\item[\\$Location] \\begin{enumerate*}\n",
       "\\item 'Columbia Basin'\n",
       "\\item 'Skagit Valley'\n",
       "\\end{enumerate*}\n",
       "\n",
       "\\item[\\$Pair] \\begin{enumerate*}\n",
       "\\item 1\n",
       "\\item 2\n",
       "\\item 3\n",
       "\\item 4\n",
       "\\item 5\n",
       "\\item 6\n",
       "\\item 7\n",
       "\\item 8\n",
       "\\item 9\n",
       "\\item 10\n",
       "\\item 11\n",
       "\\end{enumerate*}\n",
       "\n",
       "\\emph{Levels}: \\begin{enumerate*}\n",
       "\\item '1'\n",
       "\\item '2'\n",
       "\\item '3'\n",
       "\\item '4'\n",
       "\\item '5'\n",
       "\\item '6'\n",
       "\\item '7'\n",
       "\\item '8'\n",
       "\\item '9'\n",
       "\\item '10'\n",
       "\\item '11'\n",
       "\\end{enumerate*}\n",
       "\n",
       "\\item[\\$FieldType] \\begin{enumerate*}\n",
       "\\item Non-virgin field\n",
       "\\item Virgin field\n",
       "\\end{enumerate*}\n",
       "\n",
       "\\emph{Levels}: \\begin{enumerate*}\n",
       "\\item 'Non-virgin field'\n",
       "\\item 'Virgin field'\n",
       "\\end{enumerate*}\n",
       "\n",
       "\\item[\\$Block] \\begin{enumerate*}\n",
       "\\item 2\n",
       "\\item 1\n",
       "\\item 5\n",
       "\\item 4\n",
       "\\item 6\n",
       "\\item 3\n",
       "\\end{enumerate*}\n",
       "\n",
       "\\emph{Levels}: \\begin{enumerate*}\n",
       "\\item '1'\n",
       "\\item '2'\n",
       "\\item '3'\n",
       "\\item '4'\n",
       "\\item '5'\n",
       "\\item '6'\n",
       "\\end{enumerate*}\n",
       "\n",
       "\\item[\\$Wt\\_Tuber.g.] \\begin{enumerate*}\n",
       "\\item 1586.65\n",
       "\\item 207.26\n",
       "\\item 1096.27\n",
       "\\item 610.05\n",
       "\\item 814.12\n",
       "\\item 1038.14\n",
       "\\item 1378.06\n",
       "\\item 859.18\n",
       "\\item 394.53\n",
       "\\item 1546.06\n",
       "\\item 1300.45\n",
       "\\item 566.92\n",
       "\\item 929.24\n",
       "\\item 617.91\n",
       "\\item 662\n",
       "\\item 698.16\n",
       "\\item 1162.44\n",
       "\\item 510.1\n",
       "\\item 1100.35\n",
       "\\item 1042.63\n",
       "\\item 1034.51\n",
       "\\item 934.47\n",
       "\\end{enumerate*}\n",
       "\n",
       "\\item[\\$Weight\\_GT20] \\begin{enumerate*}\n",
       "\\item 1537.88\n",
       "\\item 160.03\n",
       "\\item 1077.21\n",
       "\\item 610.5\n",
       "\\item 801.73\n",
       "\\item 1009.35\n",
       "\\item 1378.06\n",
       "\\item 859.18\n",
       "\\item 327.56\n",
       "\\item 1451.85\n",
       "\\item 1247.21\n",
       "\\item 557.47\n",
       "\\item 991.91\n",
       "\\item 665.87\n",
       "\\item 624.84\n",
       "\\item 694.08\n",
       "\\item 1033.32\n",
       "\\item 457.23\n",
       "\\item 1027.7\n",
       "\\item 1003.21\n",
       "\\item 982.02\n",
       "\\item 766.5\n",
       "\\end{enumerate*}\n",
       "\n",
       "\\item[\\$Count\\_Tuber] \\begin{enumerate*}\n",
       "\\item 15\n",
       "\\item 11\n",
       "\\item 9\n",
       "\\item 5\n",
       "\\item 12\n",
       "\\item 14\n",
       "\\item 7\n",
       "\\item 10\n",
       "\\item 22\n",
       "\\item 16\n",
       "\\item 13\n",
       "\\item 8\n",
       "\\item 26\n",
       "\\item 17\n",
       "\\item 21\n",
       "\\item 29\n",
       "\\end{enumerate*}\n",
       "\n",
       "\\item[\\$Count\\_GT20] \\begin{enumerate*}\n",
       "\\item 12\n",
       "\\item 2\n",
       "\\item 8\n",
       "\\item 5\n",
       "\\item 11\n",
       "\\item 9\n",
       "\\item 7\n",
       "\\item 6\n",
       "\\item 15\n",
       "\\item 10\n",
       "\\item 16\n",
       "\\end{enumerate*}\n",
       "\n",
       "\\item[\\$Sen\\_7.29.21] \\begin{enumerate*}\n",
       "\\item 10\n",
       "\\item 20\n",
       "\\item 5\n",
       "\\item 0\n",
       "\\item 8\n",
       "\\item 15\n",
       "\\end{enumerate*}\n",
       "\n",
       "\\item[\\$Sen\\_8.4.21] \\begin{enumerate*}\n",
       "\\item 8\n",
       "\\item 25\n",
       "\\item 10\n",
       "\\item 0\n",
       "\\item 15\n",
       "\\item 2\n",
       "\\end{enumerate*}\n",
       "\n",
       "\\item[\\$Sen\\_8.11.21] \\begin{enumerate*}\n",
       "\\item 10\n",
       "\\item 20\n",
       "\\item 15\n",
       "\\item 0\n",
       "\\item 2\n",
       "\\item 5\n",
       "\\item 8\n",
       "\\end{enumerate*}\n",
       "\n",
       "\\item[\\$Sen\\_8.18.21] \\begin{enumerate*}\n",
       "\\item 15\n",
       "\\item 30\n",
       "\\item 0\n",
       "\\item 5\n",
       "\\item 10\n",
       "\\item 20\n",
       "\\item 25\n",
       "\\end{enumerate*}\n",
       "\n",
       "\\item[\\$Sen\\_8.25.21] \\begin{enumerate*}\n",
       "\\item 10\n",
       "\\item 30\n",
       "\\item 8\n",
       "\\item 0\n",
       "\\item 5\n",
       "\\item 35\n",
       "\\item 15\n",
       "\\end{enumerate*}\n",
       "\n",
       "\\item[\\$Sen\\_9.1.21] \\begin{enumerate*}\n",
       "\\item 15\n",
       "\\item 40\n",
       "\\item 0\n",
       "\\item 10\n",
       "\\item 35\n",
       "\\item 25\n",
       "\\item 5\n",
       "\\item 20\n",
       "\\end{enumerate*}\n",
       "\n",
       "\\item[\\$Sen\\_9.8.21] \\begin{enumerate*}\n",
       "\\item 30\n",
       "\\item 40\n",
       "\\item 35\n",
       "\\item 2\n",
       "\\item 5\n",
       "\\item 10\n",
       "\\item 50\n",
       "\\item 15\n",
       "\\item 100\n",
       "\\item 0\n",
       "\\item 20\n",
       "\\item 25\n",
       "\\end{enumerate*}\n",
       "\n",
       "\\item[\\$Sen\\_9.23.21] \\begin{enumerate*}\n",
       "\\item 40\n",
       "\\item 50\n",
       "\\item 70\n",
       "\\item 5\n",
       "\\item 10\n",
       "\\item 35\n",
       "\\item 45\n",
       "\\item 15\n",
       "\\item 20\n",
       "\\item 100\n",
       "\\item 30\n",
       "\\item 80\n",
       "\\end{enumerate*}\n",
       "\n",
       "\\item[\\$BD\\_count\\_Tuber] \\begin{enumerate*}\n",
       "\\item '0/9'\n",
       "\\item '0/3'\n",
       "\\item '0/6'\n",
       "\\item '0/5'\n",
       "\\item '0/10'\n",
       "\\item '0/8'\n",
       "\\item '6-Mar'\n",
       "\\item '0/11'\n",
       "\\item '7-Jan'\n",
       "\\item '0/7'\n",
       "\\item '4-Jan'\n",
       "\\item '9-Jan'\n",
       "\\end{enumerate*}\n",
       "\n",
       "\\item[\\$BD\\_Per\\_Tuber] \\begin{enumerate*}\n",
       "\\item 0\n",
       "\\item 50\n",
       "\\item 14.29\n",
       "\\item 25\n",
       "\\item 11.11\n",
       "\\end{enumerate*}\n",
       "\n",
       "\\item[\\$Vd\\_count\\_Tuber] \\begin{enumerate*}\n",
       "\\item '0/9'\n",
       "\\item '0/3'\n",
       "\\item '0/6'\n",
       "\\item '0/5'\n",
       "\\item '10-Jan'\n",
       "\\item '8-Jan'\n",
       "\\item '0/11'\n",
       "\\item '0/8'\n",
       "\\item '0/7'\n",
       "\\item '4-Jan'\n",
       "\\item '0/10'\n",
       "\\end{enumerate*}\n",
       "\n",
       "\\item[\\$Vd\\_Per\\_Tuber] \\begin{enumerate*}\n",
       "\\item 0\n",
       "\\item 10\n",
       "\\item 12.5\n",
       "\\item 25\n",
       "\\end{enumerate*}\n",
       "\n",
       "\\item[\\$BD\\_Stem] 0\n",
       "\\item[\\$Vd\\_Stem] \\begin{enumerate*}\n",
       "\\item 0\n",
       "\\item 0.6\n",
       "\\end{enumerate*}\n",
       "\n",
       "\\item[\\$DESCRIPTION..Study.ID.] \\begin{enumerate*}\n",
       "\\item 1\n",
       "\\item 2\n",
       "\\item 4\n",
       "\\item 5\n",
       "\\item 6\n",
       "\\item 7\n",
       "\\item 8\n",
       "\\item 9\n",
       "\\item 10\n",
       "\\item 11\n",
       "\\item 12\n",
       "\\item 13\n",
       "\\item 14\n",
       "\\item 15\n",
       "\\item 16\n",
       "\\item 17\n",
       "\\item 18\n",
       "\\item 19\n",
       "\\item 20\n",
       "\\item 21\n",
       "\\item 22\n",
       "\\item 23\n",
       "\\end{enumerate*}\n",
       "\n",
       "\\item[\\$Pyth\\_Avg\\_Soil] \\begin{enumerate*}\n",
       "\\item 11\n",
       "\\item 56\n",
       "\\item 109\n",
       "\\item 60\n",
       "\\item 157\n",
       "\\item 0\n",
       "\\item 179\n",
       "\\item 223\n",
       "\\item 5\n",
       "\\item 80\n",
       "\\item 22\n",
       "\\item 21\n",
       "\\item 53\n",
       "\\item 94\n",
       "\\item 27\n",
       "\\item 343\n",
       "\\item 99\n",
       "\\item 276\n",
       "\\item 82\n",
       "\\item 234\n",
       "\\end{enumerate*}\n",
       "\n",
       "\\item[\\$ResPyth\\_Avg\\_Soil] \\begin{enumerate*}\n",
       "\\item 0\n",
       "\\item 45\n",
       "\\item 22\n",
       "\\item 33\n",
       "\\item 29\n",
       "\\item 6\n",
       "\\item 5\n",
       "\\item 11\n",
       "\\end{enumerate*}\n",
       "\n",
       "\\item[\\$ResPyth\\_Per\\_Soil] \\begin{enumerate*}\n",
       "\\item 0\n",
       "\\item 80\n",
       "\\item 20\n",
       "\\item 55\n",
       "\\item 19\n",
       "\\item 3\n",
       "\\item 100\n",
       "\\item 13\n",
       "\\item 25\n",
       "\\item 6\n",
       "\\end{enumerate*}\n",
       "\n",
       "\\item[\\$ResPyth\\_binary] \\begin{enumerate*}\n",
       "\\item 0\n",
       "\\item 1\n",
       "\\end{enumerate*}\n",
       "\n",
       "\\item[\\$Fus\\_Avg\\_Soil] \\begin{enumerate*}\n",
       "\\item 110\n",
       "\\item 613\n",
       "\\item 709\n",
       "\\item 1668\n",
       "\\item 650\n",
       "\\item 774\n",
       "\\item 351\n",
       "\\item 272\n",
       "\\item 161\n",
       "\\item 908\n",
       "\\item 54\n",
       "\\item 267\n",
       "\\item 963\n",
       "\\item 1724\n",
       "\\item 428\n",
       "\\item 1278\n",
       "\\item 697\n",
       "\\item 2703\n",
       "\\item 1286\n",
       "\\item 1318\n",
       "\\item 858\n",
       "\\end{enumerate*}\n",
       "\n",
       "\\item[\\$Vd\\_Tot\\_Soil] \\begin{enumerate*}\n",
       "\\item 0\n",
       "\\item 2\n",
       "\\item 6\n",
       "\\item 4\n",
       "\\end{enumerate*}\n",
       "\n",
       "\\item[\\$BD\\_Tot\\_Soil] \\begin{enumerate*}\n",
       "\\item 0\n",
       "\\item 2\n",
       "\\end{enumerate*}\n",
       "\n",
       "\\item[\\$Sample.ID] \\begin{enumerate*}\n",
       "\\item 1\n",
       "\\item 2\n",
       "\\item 4\n",
       "\\item 5\n",
       "\\item 6\n",
       "\\item 7\n",
       "\\item 8\n",
       "\\item 9\n",
       "\\item 10\n",
       "\\item 11\n",
       "\\item 12\n",
       "\\item 13\n",
       "\\item 14\n",
       "\\item 15\n",
       "\\item 16\n",
       "\\item 17\n",
       "\\item 18\n",
       "\\item 19\n",
       "\\item 20\n",
       "\\item 21\n",
       "\\item 22\n",
       "\\item 23\n",
       "\\end{enumerate*}\n",
       "\n",
       "\\item[\\$POXC] \\begin{enumerate*}\n",
       "\\item 177.7824\n",
       "\\item 281.772\n",
       "\\item 364.14\n",
       "\\item 189.108\n",
       "\\item 315.7488\n",
       "\\item 267.3576\n",
       "\\item 535.0536\n",
       "\\item 411.5016\n",
       "\\item 208.6704\n",
       "\\item 255.0024\n",
       "\\item 323.9856\n",
       "\\item 307.512\n",
       "\\item 270.4464\n",
       "\\item 400.176\n",
       "\\item 379.584\n",
       "\\item 326.0448\n",
       "\\item 822.312\n",
       "\\item 600.948\n",
       "\\item 466.0704\n",
       "\\item 456.804\n",
       "\\item 597.8592\n",
       "\\item 592.0632\n",
       "\\end{enumerate*}\n",
       "\n",
       "\\end{description}\n"
      ],
      "text/markdown": [
       "$ID\n",
       ":   1. 1\n",
       "2. 2\n",
       "3. 4\n",
       "4. 5\n",
       "5. 6\n",
       "6. 7\n",
       "7. 8\n",
       "8. 9\n",
       "9. 10\n",
       "10. 11\n",
       "11. 12\n",
       "12. 13\n",
       "13. 14\n",
       "14. 15\n",
       "15. 16\n",
       "16. 17\n",
       "17. 18\n",
       "18. 19\n",
       "19. 20\n",
       "20. 21\n",
       "21. 22\n",
       "22. 23\n",
       "\n",
       "\n",
       "\n",
       "**Levels**: 1. '1'\n",
       "2. '2'\n",
       "3. '4'\n",
       "4. '5'\n",
       "5. '6'\n",
       "6. '7'\n",
       "7. '8'\n",
       "8. '9'\n",
       "9. '10'\n",
       "10. '11'\n",
       "11. '12'\n",
       "12. '13'\n",
       "13. '14'\n",
       "14. '15'\n",
       "15. '16'\n",
       "16. '17'\n",
       "17. '18'\n",
       "18. '19'\n",
       "19. '20'\n",
       "20. '21'\n",
       "21. '22'\n",
       "22. '23'\n",
       "\n",
       "\n",
       "\n",
       "$Label\n",
       ":   1. '1-0-1-2'\n",
       "2. '0-0-1-2'\n",
       "3. '1-0-2-1'\n",
       "4. '0-0-2-1'\n",
       "5. '0-0-3-5'\n",
       "6. '1-0-3-5'\n",
       "7. '0-1-4-2'\n",
       "8. '1-1-4-2'\n",
       "9. '0-0-5-4'\n",
       "10. '0-0-6-5'\n",
       "11. '0-0-7-6'\n",
       "12. '0-0-8-3'\n",
       "13. '1-0-5-4'\n",
       "14. '1-0-6-5'\n",
       "15. '1-0-7-6'\n",
       "16. '1-0-8-3'\n",
       "17. '0-1-9-3'\n",
       "18. '1-1-9-3'\n",
       "19. '0-1-10-1'\n",
       "20. '1-1-10-1'\n",
       "21. '0-1-11-4'\n",
       "22. '1-1-11-4'\n",
       "\n",
       "\n",
       "\n",
       "$Location\n",
       ":   1. 'Columbia Basin'\n",
       "2. 'Skagit Valley'\n",
       "\n",
       "\n",
       "\n",
       "$Pair\n",
       ":   1. 1\n",
       "2. 2\n",
       "3. 3\n",
       "4. 4\n",
       "5. 5\n",
       "6. 6\n",
       "7. 7\n",
       "8. 8\n",
       "9. 9\n",
       "10. 10\n",
       "11. 11\n",
       "\n",
       "\n",
       "\n",
       "**Levels**: 1. '1'\n",
       "2. '2'\n",
       "3. '3'\n",
       "4. '4'\n",
       "5. '5'\n",
       "6. '6'\n",
       "7. '7'\n",
       "8. '8'\n",
       "9. '9'\n",
       "10. '10'\n",
       "11. '11'\n",
       "\n",
       "\n",
       "\n",
       "$FieldType\n",
       ":   1. Non-virgin field\n",
       "2. Virgin field\n",
       "\n",
       "\n",
       "\n",
       "**Levels**: 1. 'Non-virgin field'\n",
       "2. 'Virgin field'\n",
       "\n",
       "\n",
       "\n",
       "$Block\n",
       ":   1. 2\n",
       "2. 1\n",
       "3. 5\n",
       "4. 4\n",
       "5. 6\n",
       "6. 3\n",
       "\n",
       "\n",
       "\n",
       "**Levels**: 1. '1'\n",
       "2. '2'\n",
       "3. '3'\n",
       "4. '4'\n",
       "5. '5'\n",
       "6. '6'\n",
       "\n",
       "\n",
       "\n",
       "$Wt_Tuber.g.\n",
       ":   1. 1586.65\n",
       "2. 207.26\n",
       "3. 1096.27\n",
       "4. 610.05\n",
       "5. 814.12\n",
       "6. 1038.14\n",
       "7. 1378.06\n",
       "8. 859.18\n",
       "9. 394.53\n",
       "10. 1546.06\n",
       "11. 1300.45\n",
       "12. 566.92\n",
       "13. 929.24\n",
       "14. 617.91\n",
       "15. 662\n",
       "16. 698.16\n",
       "17. 1162.44\n",
       "18. 510.1\n",
       "19. 1100.35\n",
       "20. 1042.63\n",
       "21. 1034.51\n",
       "22. 934.47\n",
       "\n",
       "\n",
       "\n",
       "$Weight_GT20\n",
       ":   1. 1537.88\n",
       "2. 160.03\n",
       "3. 1077.21\n",
       "4. 610.5\n",
       "5. 801.73\n",
       "6. 1009.35\n",
       "7. 1378.06\n",
       "8. 859.18\n",
       "9. 327.56\n",
       "10. 1451.85\n",
       "11. 1247.21\n",
       "12. 557.47\n",
       "13. 991.91\n",
       "14. 665.87\n",
       "15. 624.84\n",
       "16. 694.08\n",
       "17. 1033.32\n",
       "18. 457.23\n",
       "19. 1027.7\n",
       "20. 1003.21\n",
       "21. 982.02\n",
       "22. 766.5\n",
       "\n",
       "\n",
       "\n",
       "$Count_Tuber\n",
       ":   1. 15\n",
       "2. 11\n",
       "3. 9\n",
       "4. 5\n",
       "5. 12\n",
       "6. 14\n",
       "7. 7\n",
       "8. 10\n",
       "9. 22\n",
       "10. 16\n",
       "11. 13\n",
       "12. 8\n",
       "13. 26\n",
       "14. 17\n",
       "15. 21\n",
       "16. 29\n",
       "\n",
       "\n",
       "\n",
       "$Count_GT20\n",
       ":   1. 12\n",
       "2. 2\n",
       "3. 8\n",
       "4. 5\n",
       "5. 11\n",
       "6. 9\n",
       "7. 7\n",
       "8. 6\n",
       "9. 15\n",
       "10. 10\n",
       "11. 16\n",
       "\n",
       "\n",
       "\n",
       "$Sen_7.29.21\n",
       ":   1. 10\n",
       "2. 20\n",
       "3. 5\n",
       "4. 0\n",
       "5. 8\n",
       "6. 15\n",
       "\n",
       "\n",
       "\n",
       "$Sen_8.4.21\n",
       ":   1. 8\n",
       "2. 25\n",
       "3. 10\n",
       "4. 0\n",
       "5. 15\n",
       "6. 2\n",
       "\n",
       "\n",
       "\n",
       "$Sen_8.11.21\n",
       ":   1. 10\n",
       "2. 20\n",
       "3. 15\n",
       "4. 0\n",
       "5. 2\n",
       "6. 5\n",
       "7. 8\n",
       "\n",
       "\n",
       "\n",
       "$Sen_8.18.21\n",
       ":   1. 15\n",
       "2. 30\n",
       "3. 0\n",
       "4. 5\n",
       "5. 10\n",
       "6. 20\n",
       "7. 25\n",
       "\n",
       "\n",
       "\n",
       "$Sen_8.25.21\n",
       ":   1. 10\n",
       "2. 30\n",
       "3. 8\n",
       "4. 0\n",
       "5. 5\n",
       "6. 35\n",
       "7. 15\n",
       "\n",
       "\n",
       "\n",
       "$Sen_9.1.21\n",
       ":   1. 15\n",
       "2. 40\n",
       "3. 0\n",
       "4. 10\n",
       "5. 35\n",
       "6. 25\n",
       "7. 5\n",
       "8. 20\n",
       "\n",
       "\n",
       "\n",
       "$Sen_9.8.21\n",
       ":   1. 30\n",
       "2. 40\n",
       "3. 35\n",
       "4. 2\n",
       "5. 5\n",
       "6. 10\n",
       "7. 50\n",
       "8. 15\n",
       "9. 100\n",
       "10. 0\n",
       "11. 20\n",
       "12. 25\n",
       "\n",
       "\n",
       "\n",
       "$Sen_9.23.21\n",
       ":   1. 40\n",
       "2. 50\n",
       "3. 70\n",
       "4. 5\n",
       "5. 10\n",
       "6. 35\n",
       "7. 45\n",
       "8. 15\n",
       "9. 20\n",
       "10. 100\n",
       "11. 30\n",
       "12. 80\n",
       "\n",
       "\n",
       "\n",
       "$BD_count_Tuber\n",
       ":   1. '0/9'\n",
       "2. '0/3'\n",
       "3. '0/6'\n",
       "4. '0/5'\n",
       "5. '0/10'\n",
       "6. '0/8'\n",
       "7. '6-Mar'\n",
       "8. '0/11'\n",
       "9. '7-Jan'\n",
       "10. '0/7'\n",
       "11. '4-Jan'\n",
       "12. '9-Jan'\n",
       "\n",
       "\n",
       "\n",
       "$BD_Per_Tuber\n",
       ":   1. 0\n",
       "2. 50\n",
       "3. 14.29\n",
       "4. 25\n",
       "5. 11.11\n",
       "\n",
       "\n",
       "\n",
       "$Vd_count_Tuber\n",
       ":   1. '0/9'\n",
       "2. '0/3'\n",
       "3. '0/6'\n",
       "4. '0/5'\n",
       "5. '10-Jan'\n",
       "6. '8-Jan'\n",
       "7. '0/11'\n",
       "8. '0/8'\n",
       "9. '0/7'\n",
       "10. '4-Jan'\n",
       "11. '0/10'\n",
       "\n",
       "\n",
       "\n",
       "$Vd_Per_Tuber\n",
       ":   1. 0\n",
       "2. 10\n",
       "3. 12.5\n",
       "4. 25\n",
       "\n",
       "\n",
       "\n",
       "$BD_Stem\n",
       ":   0\n",
       "$Vd_Stem\n",
       ":   1. 0\n",
       "2. 0.6\n",
       "\n",
       "\n",
       "\n",
       "$DESCRIPTION..Study.ID.\n",
       ":   1. 1\n",
       "2. 2\n",
       "3. 4\n",
       "4. 5\n",
       "5. 6\n",
       "6. 7\n",
       "7. 8\n",
       "8. 9\n",
       "9. 10\n",
       "10. 11\n",
       "11. 12\n",
       "12. 13\n",
       "13. 14\n",
       "14. 15\n",
       "15. 16\n",
       "16. 17\n",
       "17. 18\n",
       "18. 19\n",
       "19. 20\n",
       "20. 21\n",
       "21. 22\n",
       "22. 23\n",
       "\n",
       "\n",
       "\n",
       "$Pyth_Avg_Soil\n",
       ":   1. 11\n",
       "2. 56\n",
       "3. 109\n",
       "4. 60\n",
       "5. 157\n",
       "6. 0\n",
       "7. 179\n",
       "8. 223\n",
       "9. 5\n",
       "10. 80\n",
       "11. 22\n",
       "12. 21\n",
       "13. 53\n",
       "14. 94\n",
       "15. 27\n",
       "16. 343\n",
       "17. 99\n",
       "18. 276\n",
       "19. 82\n",
       "20. 234\n",
       "\n",
       "\n",
       "\n",
       "$ResPyth_Avg_Soil\n",
       ":   1. 0\n",
       "2. 45\n",
       "3. 22\n",
       "4. 33\n",
       "5. 29\n",
       "6. 6\n",
       "7. 5\n",
       "8. 11\n",
       "\n",
       "\n",
       "\n",
       "$ResPyth_Per_Soil\n",
       ":   1. 0\n",
       "2. 80\n",
       "3. 20\n",
       "4. 55\n",
       "5. 19\n",
       "6. 3\n",
       "7. 100\n",
       "8. 13\n",
       "9. 25\n",
       "10. 6\n",
       "\n",
       "\n",
       "\n",
       "$ResPyth_binary\n",
       ":   1. 0\n",
       "2. 1\n",
       "\n",
       "\n",
       "\n",
       "$Fus_Avg_Soil\n",
       ":   1. 110\n",
       "2. 613\n",
       "3. 709\n",
       "4. 1668\n",
       "5. 650\n",
       "6. 774\n",
       "7. 351\n",
       "8. 272\n",
       "9. 161\n",
       "10. 908\n",
       "11. 54\n",
       "12. 267\n",
       "13. 963\n",
       "14. 1724\n",
       "15. 428\n",
       "16. 1278\n",
       "17. 697\n",
       "18. 2703\n",
       "19. 1286\n",
       "20. 1318\n",
       "21. 858\n",
       "\n",
       "\n",
       "\n",
       "$Vd_Tot_Soil\n",
       ":   1. 0\n",
       "2. 2\n",
       "3. 6\n",
       "4. 4\n",
       "\n",
       "\n",
       "\n",
       "$BD_Tot_Soil\n",
       ":   1. 0\n",
       "2. 2\n",
       "\n",
       "\n",
       "\n",
       "$Sample.ID\n",
       ":   1. 1\n",
       "2. 2\n",
       "3. 4\n",
       "4. 5\n",
       "5. 6\n",
       "6. 7\n",
       "7. 8\n",
       "8. 9\n",
       "9. 10\n",
       "10. 11\n",
       "11. 12\n",
       "12. 13\n",
       "13. 14\n",
       "14. 15\n",
       "15. 16\n",
       "16. 17\n",
       "17. 18\n",
       "18. 19\n",
       "19. 20\n",
       "20. 21\n",
       "21. 22\n",
       "22. 23\n",
       "\n",
       "\n",
       "\n",
       "$POXC\n",
       ":   1. 177.7824\n",
       "2. 281.772\n",
       "3. 364.14\n",
       "4. 189.108\n",
       "5. 315.7488\n",
       "6. 267.3576\n",
       "7. 535.0536\n",
       "8. 411.5016\n",
       "9. 208.6704\n",
       "10. 255.0024\n",
       "11. 323.9856\n",
       "12. 307.512\n",
       "13. 270.4464\n",
       "14. 400.176\n",
       "15. 379.584\n",
       "16. 326.0448\n",
       "17. 822.312\n",
       "18. 600.948\n",
       "19. 466.0704\n",
       "20. 456.804\n",
       "21. 597.8592\n",
       "22. 592.0632\n",
       "\n",
       "\n",
       "\n",
       "\n",
       "\n"
      ],
      "text/plain": [
       "$ID\n",
       " [1] 1  2  4  5  6  7  8  9  10 11 12 13 14 15 16 17 18 19 20 21 22 23\n",
       "Levels: 1 2 4 5 6 7 8 9 10 11 12 13 14 15 16 17 18 19 20 21 22 23\n",
       "\n",
       "$Label\n",
       " [1] \"1-0-1-2\"  \"0-0-1-2\"  \"1-0-2-1\"  \"0-0-2-1\"  \"0-0-3-5\"  \"1-0-3-5\" \n",
       " [7] \"0-1-4-2\"  \"1-1-4-2\"  \"0-0-5-4\"  \"0-0-6-5\"  \"0-0-7-6\"  \"0-0-8-3\" \n",
       "[13] \"1-0-5-4\"  \"1-0-6-5\"  \"1-0-7-6\"  \"1-0-8-3\"  \"0-1-9-3\"  \"1-1-9-3\" \n",
       "[19] \"0-1-10-1\" \"1-1-10-1\" \"0-1-11-4\" \"1-1-11-4\"\n",
       "\n",
       "$Location\n",
       "[1] \"Columbia Basin\" \"Skagit Valley\" \n",
       "\n",
       "$Pair\n",
       " [1] 1  2  3  4  5  6  7  8  9  10 11\n",
       "Levels: 1 2 3 4 5 6 7 8 9 10 11\n",
       "\n",
       "$FieldType\n",
       "[1] Non-virgin field Virgin field    \n",
       "Levels: Non-virgin field Virgin field\n",
       "\n",
       "$Block\n",
       "[1] 2 1 5 4 6 3\n",
       "Levels: 1 2 3 4 5 6\n",
       "\n",
       "$Wt_Tuber.g.\n",
       " [1] 1586.65  207.26 1096.27  610.05  814.12 1038.14 1378.06  859.18  394.53\n",
       "[10] 1546.06 1300.45  566.92  929.24  617.91  662.00  698.16 1162.44  510.10\n",
       "[19] 1100.35 1042.63 1034.51  934.47\n",
       "\n",
       "$Weight_GT20\n",
       " [1] 1537.88  160.03 1077.21  610.50  801.73 1009.35 1378.06  859.18  327.56\n",
       "[10] 1451.85 1247.21  557.47  991.91  665.87  624.84  694.08 1033.32  457.23\n",
       "[19] 1027.70 1003.21  982.02  766.50\n",
       "\n",
       "$Count_Tuber\n",
       " [1] 15 11  9  5 12 14  7 10 22 16 13  8 26 17 21 29\n",
       "\n",
       "$Count_GT20\n",
       " [1] 12  2  8  5 11  9  7  6 15 10 16\n",
       "\n",
       "$Sen_7.29.21\n",
       "[1] 10 20  5  0  8 15\n",
       "\n",
       "$Sen_8.4.21\n",
       "[1]  8 25 10  0 15  2\n",
       "\n",
       "$Sen_8.11.21\n",
       "[1] 10 20 15  0  2  5  8\n",
       "\n",
       "$Sen_8.18.21\n",
       "[1] 15 30  0  5 10 20 25\n",
       "\n",
       "$Sen_8.25.21\n",
       "[1] 10 30  8  0  5 35 15\n",
       "\n",
       "$Sen_9.1.21\n",
       "[1] 15 40  0 10 35 25  5 20\n",
       "\n",
       "$Sen_9.8.21\n",
       " [1]  30  40  35   2   5  10  50  15 100   0  20  25\n",
       "\n",
       "$Sen_9.23.21\n",
       " [1]  40  50  70   5  10  35  45  15  20 100  30  80\n",
       "\n",
       "$BD_count_Tuber\n",
       " [1] \"0/9\"   \"0/3\"   \"0/6\"   \"0/5\"   \"0/10\"  \"0/8\"   \"6-Mar\" \"0/11\"  \"7-Jan\"\n",
       "[10] \"0/7\"   \"4-Jan\" \"9-Jan\"\n",
       "\n",
       "$BD_Per_Tuber\n",
       "[1]  0.00 50.00 14.29 25.00 11.11\n",
       "\n",
       "$Vd_count_Tuber\n",
       " [1] \"0/9\"    \"0/3\"    \"0/6\"    \"0/5\"    \"10-Jan\" \"8-Jan\"  \"0/11\"   \"0/8\"   \n",
       " [9] \"0/7\"    \"4-Jan\"  \"0/10\"  \n",
       "\n",
       "$Vd_Per_Tuber\n",
       "[1]  0.0 10.0 12.5 25.0\n",
       "\n",
       "$BD_Stem\n",
       "[1] 0\n",
       "\n",
       "$Vd_Stem\n",
       "[1] 0.0 0.6\n",
       "\n",
       "$DESCRIPTION..Study.ID.\n",
       " [1]  1  2  4  5  6  7  8  9 10 11 12 13 14 15 16 17 18 19 20 21 22 23\n",
       "\n",
       "$Pyth_Avg_Soil\n",
       " [1]  11  56 109  60 157   0 179 223   5  80  22  21  53  94  27 343  99 276  82\n",
       "[20] 234\n",
       "\n",
       "$ResPyth_Avg_Soil\n",
       "[1]  0 45 22 33 29  6  5 11\n",
       "\n",
       "$ResPyth_Per_Soil\n",
       " [1]   0  80  20  55  19   3 100  13  25   6\n",
       "\n",
       "$ResPyth_binary\n",
       "[1] 0 1\n",
       "\n",
       "$Fus_Avg_Soil\n",
       " [1]  110  613  709 1668  650  774  351  272  161  908   54  267  963 1724  428\n",
       "[16] 1278  697 2703 1286 1318  858\n",
       "\n",
       "$Vd_Tot_Soil\n",
       "[1] 0 2 6 4\n",
       "\n",
       "$BD_Tot_Soil\n",
       "[1] 0 2\n",
       "\n",
       "$Sample.ID\n",
       " [1]  1  2  4  5  6  7  8  9 10 11 12 13 14 15 16 17 18 19 20 21 22 23\n",
       "\n",
       "$POXC\n",
       " [1] 177.7824 281.7720 364.1400 189.1080 315.7488 267.3576 535.0536 411.5016\n",
       " [9] 208.6704 255.0024 323.9856 307.5120 270.4464 400.1760 379.5840 326.0448\n",
       "[17] 822.3120 600.9480 466.0704 456.8040 597.8592 592.0632\n"
      ]
     },
     "metadata": {},
     "output_type": "display_data"
    }
   ],
   "source": [
    "lapply(df, unique)"
   ]
  },
  {
   "cell_type": "markdown",
   "metadata": {},
   "source": [
    "### Microplot study"
   ]
  },
  {
   "cell_type": "markdown",
   "metadata": {},
   "source": [
    "#### AUSPC"
   ]
  },
  {
   "cell_type": "markdown",
   "metadata": {},
   "source": [
    "- Inspect names"
   ]
  },
  {
   "cell_type": "code",
   "execution_count": 30,
   "metadata": {},
   "outputs": [
    {
     "data": {
      "text/html": [
       "<style>\n",
       ".list-inline {list-style: none; margin:0; padding: 0}\n",
       ".list-inline>li {display: inline-block}\n",
       ".list-inline>li:not(:last-child)::after {content: \"\\00b7\"; padding: 0 .5ex}\n",
       "</style>\n",
       "<ol class=list-inline><li>'ID'</li><li>'Location'</li><li>'Pair'</li><li>'FieldType'</li><li>'Block'</li><li>'Wt_Tuber.g.'</li><li>'Weight_GT20'</li><li>'Count_Tuber'</li><li>'Count_GT20'</li><li>'Sen_7.29.21'</li><li>'Sen_8.4.21'</li><li>'Sen_8.11.21'</li><li>'Sen_8.18.21'</li><li>'Sen_8.25.21'</li><li>'Sen_9.1.21'</li><li>'Sen_9.8.21'</li><li>'Sen_9.23.21'</li><li>'BD_Per_Tuber'</li><li>'Vd_Per_Tuber'</li><li>'BD_Stem'</li><li>'Vd_Stem'</li><li>'Pyth_Avg_Soil'</li><li>'ResPyth_Avg_Soil'</li><li>'ResPyth_Per_Soil'</li><li>'ResPyth_binary'</li><li>'Fus_Avg_Soil'</li><li>'Vd_Tot_Soil'</li><li>'BD_Tot_Soil'</li><li>'POXC'</li></ol>\n"
      ],
      "text/latex": [
       "\\begin{enumerate*}\n",
       "\\item 'ID'\n",
       "\\item 'Location'\n",
       "\\item 'Pair'\n",
       "\\item 'FieldType'\n",
       "\\item 'Block'\n",
       "\\item 'Wt\\_Tuber.g.'\n",
       "\\item 'Weight\\_GT20'\n",
       "\\item 'Count\\_Tuber'\n",
       "\\item 'Count\\_GT20'\n",
       "\\item 'Sen\\_7.29.21'\n",
       "\\item 'Sen\\_8.4.21'\n",
       "\\item 'Sen\\_8.11.21'\n",
       "\\item 'Sen\\_8.18.21'\n",
       "\\item 'Sen\\_8.25.21'\n",
       "\\item 'Sen\\_9.1.21'\n",
       "\\item 'Sen\\_9.8.21'\n",
       "\\item 'Sen\\_9.23.21'\n",
       "\\item 'BD\\_Per\\_Tuber'\n",
       "\\item 'Vd\\_Per\\_Tuber'\n",
       "\\item 'BD\\_Stem'\n",
       "\\item 'Vd\\_Stem'\n",
       "\\item 'Pyth\\_Avg\\_Soil'\n",
       "\\item 'ResPyth\\_Avg\\_Soil'\n",
       "\\item 'ResPyth\\_Per\\_Soil'\n",
       "\\item 'ResPyth\\_binary'\n",
       "\\item 'Fus\\_Avg\\_Soil'\n",
       "\\item 'Vd\\_Tot\\_Soil'\n",
       "\\item 'BD\\_Tot\\_Soil'\n",
       "\\item 'POXC'\n",
       "\\end{enumerate*}\n"
      ],
      "text/markdown": [
       "1. 'ID'\n",
       "2. 'Location'\n",
       "3. 'Pair'\n",
       "4. 'FieldType'\n",
       "5. 'Block'\n",
       "6. 'Wt_Tuber.g.'\n",
       "7. 'Weight_GT20'\n",
       "8. 'Count_Tuber'\n",
       "9. 'Count_GT20'\n",
       "10. 'Sen_7.29.21'\n",
       "11. 'Sen_8.4.21'\n",
       "12. 'Sen_8.11.21'\n",
       "13. 'Sen_8.18.21'\n",
       "14. 'Sen_8.25.21'\n",
       "15. 'Sen_9.1.21'\n",
       "16. 'Sen_9.8.21'\n",
       "17. 'Sen_9.23.21'\n",
       "18. 'BD_Per_Tuber'\n",
       "19. 'Vd_Per_Tuber'\n",
       "20. 'BD_Stem'\n",
       "21. 'Vd_Stem'\n",
       "22. 'Pyth_Avg_Soil'\n",
       "23. 'ResPyth_Avg_Soil'\n",
       "24. 'ResPyth_Per_Soil'\n",
       "25. 'ResPyth_binary'\n",
       "26. 'Fus_Avg_Soil'\n",
       "27. 'Vd_Tot_Soil'\n",
       "28. 'BD_Tot_Soil'\n",
       "29. 'POXC'\n",
       "\n",
       "\n"
      ],
      "text/plain": [
       " [1] \"ID\"               \"Location\"         \"Pair\"             \"FieldType\"       \n",
       " [5] \"Block\"            \"Wt_Tuber.g.\"      \"Weight_GT20\"      \"Count_Tuber\"     \n",
       " [9] \"Count_GT20\"       \"Sen_7.29.21\"      \"Sen_8.4.21\"       \"Sen_8.11.21\"     \n",
       "[13] \"Sen_8.18.21\"      \"Sen_8.25.21\"      \"Sen_9.1.21\"       \"Sen_9.8.21\"      \n",
       "[17] \"Sen_9.23.21\"      \"BD_Per_Tuber\"     \"Vd_Per_Tuber\"     \"BD_Stem\"         \n",
       "[21] \"Vd_Stem\"          \"Pyth_Avg_Soil\"    \"ResPyth_Avg_Soil\" \"ResPyth_Per_Soil\"\n",
       "[25] \"ResPyth_binary\"   \"Fus_Avg_Soil\"     \"Vd_Tot_Soil\"      \"BD_Tot_Soil\"     \n",
       "[29] \"POXC\"            "
      ]
     },
     "metadata": {},
     "output_type": "display_data"
    }
   ],
   "source": [
    "names(df1)"
   ]
  },
  {
   "cell_type": "markdown",
   "metadata": {},
   "source": [
    "- Extract days of the month when data were collected"
   ]
  },
  {
   "cell_type": "code",
   "execution_count": 31,
   "metadata": {},
   "outputs": [
    {
     "data": {
      "text/html": [
       "<style>\n",
       ".list-inline {list-style: none; margin:0; padding: 0}\n",
       ".list-inline>li {display: inline-block}\n",
       ".list-inline>li:not(:last-child)::after {content: \"\\00b7\"; padding: 0 .5ex}\n",
       "</style>\n",
       "<ol class=list-inline><li>'29'</li><li>'4'</li><li>'11'</li><li>'18'</li><li>'25'</li><li>'1'</li><li>'8'</li><li>'23'</li></ol>\n"
      ],
      "text/latex": [
       "\\begin{enumerate*}\n",
       "\\item '29'\n",
       "\\item '4'\n",
       "\\item '11'\n",
       "\\item '18'\n",
       "\\item '25'\n",
       "\\item '1'\n",
       "\\item '8'\n",
       "\\item '23'\n",
       "\\end{enumerate*}\n"
      ],
      "text/markdown": [
       "1. '29'\n",
       "2. '4'\n",
       "3. '11'\n",
       "4. '18'\n",
       "5. '25'\n",
       "6. '1'\n",
       "7. '8'\n",
       "8. '23'\n",
       "\n",
       "\n"
      ],
      "text/plain": [
       "[1] \"29\" \"4\"  \"11\" \"18\" \"25\" \"1\"  \"8\"  \"23\""
      ]
     },
     "metadata": {},
     "output_type": "display_data"
    }
   ],
   "source": [
    "ts <- gsub(\"(?:[^.]+\\\\.){1}([^.]+).*\", \"\\\\1\",\n",
    "    names(df1)[(grepl(\"Sen\", names(df1)))])\n",
    "ts"
   ]
  },
  {
   "cell_type": "markdown",
   "metadata": {},
   "source": [
    "- Convert to numbers"
   ]
  },
  {
   "cell_type": "code",
   "execution_count": 32,
   "metadata": {},
   "outputs": [
    {
     "data": {
      "text/html": [
       "<style>\n",
       ".list-inline {list-style: none; margin:0; padding: 0}\n",
       ".list-inline>li {display: inline-block}\n",
       ".list-inline>li:not(:last-child)::after {content: \"\\00b7\"; padding: 0 .5ex}\n",
       "</style>\n",
       "<ol class=list-inline><li>29</li><li>4</li><li>11</li><li>18</li><li>25</li><li>1</li><li>8</li><li>23</li></ol>\n"
      ],
      "text/latex": [
       "\\begin{enumerate*}\n",
       "\\item 29\n",
       "\\item 4\n",
       "\\item 11\n",
       "\\item 18\n",
       "\\item 25\n",
       "\\item 1\n",
       "\\item 8\n",
       "\\item 23\n",
       "\\end{enumerate*}\n"
      ],
      "text/markdown": [
       "1. 29\n",
       "2. 4\n",
       "3. 11\n",
       "4. 18\n",
       "5. 25\n",
       "6. 1\n",
       "7. 8\n",
       "8. 23\n",
       "\n",
       "\n"
      ],
      "text/plain": [
       "[1] 29  4 11 18 25  1  8 23"
      ]
     },
     "metadata": {},
     "output_type": "display_data"
    }
   ],
   "source": [
    "ts <- as.numeric(ts)\n",
    "ts"
   ]
  },
  {
   "cell_type": "code",
   "execution_count": 33,
   "metadata": {},
   "outputs": [
    {
     "data": {
      "text/html": [
       "<style>\n",
       ".list-inline {list-style: none; margin:0; padding: 0}\n",
       ".list-inline>li {display: inline-block}\n",
       ".list-inline>li:not(:last-child)::after {content: \"\\00b7\"; padding: 0 .5ex}\n",
       "</style>\n",
       "<ol class=list-inline><li>1</li><li>7</li><li>14</li><li>21</li><li>28</li><li>33</li><li>40</li><li>55</li></ol>\n"
      ],
      "text/latex": [
       "\\begin{enumerate*}\n",
       "\\item 1\n",
       "\\item 7\n",
       "\\item 14\n",
       "\\item 21\n",
       "\\item 28\n",
       "\\item 33\n",
       "\\item 40\n",
       "\\item 55\n",
       "\\end{enumerate*}\n"
      ],
      "text/markdown": [
       "1. 1\n",
       "2. 7\n",
       "3. 14\n",
       "4. 21\n",
       "5. 28\n",
       "6. 33\n",
       "7. 40\n",
       "8. 55\n",
       "\n",
       "\n"
      ],
      "text/plain": [
       "[1]  1  7 14 21 28 33 40 55"
      ]
     },
     "metadata": {},
     "output_type": "display_data"
    }
   ],
   "source": [
    "ts[2:5] = ts[2:5] +31\n",
    "ts[6:8] = ts[6:8]+60#= ts[2]+30\n",
    "ts = ts-28\n",
    "ts"
   ]
  },
  {
   "cell_type": "markdown",
   "metadata": {},
   "source": [
    "- Rename columns"
   ]
  },
  {
   "cell_type": "code",
   "execution_count": 34,
   "metadata": {},
   "outputs": [],
   "source": [
    "names(df1)[(grepl(\"Sen\", names(df1)))] <- ts"
   ]
  },
  {
   "cell_type": "markdown",
   "metadata": {},
   "source": [
    "- Sanity check"
   ]
  },
  {
   "cell_type": "code",
   "execution_count": 35,
   "metadata": {},
   "outputs": [
    {
     "data": {
      "text/html": [
       "<table>\n",
       "<caption>A data.frame: 6 × 29</caption>\n",
       "<thead>\n",
       "\t<tr><th></th><th scope=col>ID</th><th scope=col>Location</th><th scope=col>Pair</th><th scope=col>FieldType</th><th scope=col>Block</th><th scope=col>Wt_Tuber.g.</th><th scope=col>Weight_GT20</th><th scope=col>Count_Tuber</th><th scope=col>Count_GT20</th><th scope=col>1</th><th scope=col>⋯</th><th scope=col>BD_Stem</th><th scope=col>Vd_Stem</th><th scope=col>Pyth_Avg_Soil</th><th scope=col>ResPyth_Avg_Soil</th><th scope=col>ResPyth_Per_Soil</th><th scope=col>ResPyth_binary</th><th scope=col>Fus_Avg_Soil</th><th scope=col>Vd_Tot_Soil</th><th scope=col>BD_Tot_Soil</th><th scope=col>POXC</th></tr>\n",
       "\t<tr><th></th><th scope=col>&lt;fct&gt;</th><th scope=col>&lt;chr&gt;</th><th scope=col>&lt;fct&gt;</th><th scope=col>&lt;fct&gt;</th><th scope=col>&lt;fct&gt;</th><th scope=col>&lt;dbl&gt;</th><th scope=col>&lt;dbl&gt;</th><th scope=col>&lt;int&gt;</th><th scope=col>&lt;int&gt;</th><th scope=col>&lt;int&gt;</th><th scope=col>⋯</th><th scope=col>&lt;int&gt;</th><th scope=col>&lt;dbl&gt;</th><th scope=col>&lt;int&gt;</th><th scope=col>&lt;int&gt;</th><th scope=col>&lt;int&gt;</th><th scope=col>&lt;int&gt;</th><th scope=col>&lt;int&gt;</th><th scope=col>&lt;int&gt;</th><th scope=col>&lt;int&gt;</th><th scope=col>&lt;dbl&gt;</th></tr>\n",
       "</thead>\n",
       "<tbody>\n",
       "\t<tr><th scope=row>1</th><td>1</td><td>Columbia Basin</td><td>1</td><td>Non-virgin field</td><td>2</td><td>1586.65</td><td>1537.88</td><td>15</td><td>12</td><td>10</td><td>⋯</td><td>0</td><td>0</td><td> 11</td><td> 0</td><td> 0</td><td>0</td><td> 110</td><td>0</td><td>0</td><td>177.7824</td></tr>\n",
       "\t<tr><th scope=row>2</th><td>2</td><td>Columbia Basin</td><td>1</td><td>Virgin field    </td><td>2</td><td> 207.26</td><td> 160.03</td><td>11</td><td> 2</td><td>20</td><td>⋯</td><td>0</td><td>0</td><td> 56</td><td>45</td><td>80</td><td>1</td><td> 613</td><td>0</td><td>0</td><td>281.7720</td></tr>\n",
       "\t<tr><th scope=row>3</th><td>4</td><td>Columbia Basin</td><td>2</td><td>Non-virgin field</td><td>1</td><td>1096.27</td><td>1077.21</td><td> 9</td><td> 8</td><td> 5</td><td>⋯</td><td>0</td><td>0</td><td>109</td><td>22</td><td>20</td><td>1</td><td> 709</td><td>0</td><td>0</td><td>364.1400</td></tr>\n",
       "\t<tr><th scope=row>4</th><td>5</td><td>Columbia Basin</td><td>2</td><td>Virgin field    </td><td>1</td><td> 610.05</td><td> 610.50</td><td> 5</td><td> 5</td><td> 0</td><td>⋯</td><td>0</td><td>0</td><td> 60</td><td>33</td><td>55</td><td>1</td><td> 110</td><td>0</td><td>0</td><td>189.1080</td></tr>\n",
       "\t<tr><th scope=row>5</th><td>6</td><td>Columbia Basin</td><td>3</td><td>Virgin field    </td><td>5</td><td> 814.12</td><td> 801.73</td><td>12</td><td>11</td><td> 0</td><td>⋯</td><td>0</td><td>0</td><td>157</td><td>29</td><td>19</td><td>1</td><td>1668</td><td>2</td><td>0</td><td>315.7488</td></tr>\n",
       "\t<tr><th scope=row>6</th><td>7</td><td>Columbia Basin</td><td>3</td><td>Non-virgin field</td><td>5</td><td>1038.14</td><td>1009.35</td><td>14</td><td>11</td><td> 0</td><td>⋯</td><td>0</td><td>0</td><td>  0</td><td> 0</td><td> 0</td><td>0</td><td> 650</td><td>0</td><td>0</td><td>267.3576</td></tr>\n",
       "</tbody>\n",
       "</table>\n"
      ],
      "text/latex": [
       "A data.frame: 6 × 29\n",
       "\\begin{tabular}{r|lllllllllllllllllllll}\n",
       "  & ID & Location & Pair & FieldType & Block & Wt\\_Tuber.g. & Weight\\_GT20 & Count\\_Tuber & Count\\_GT20 & 1 & ⋯ & BD\\_Stem & Vd\\_Stem & Pyth\\_Avg\\_Soil & ResPyth\\_Avg\\_Soil & ResPyth\\_Per\\_Soil & ResPyth\\_binary & Fus\\_Avg\\_Soil & Vd\\_Tot\\_Soil & BD\\_Tot\\_Soil & POXC\\\\\n",
       "  & <fct> & <chr> & <fct> & <fct> & <fct> & <dbl> & <dbl> & <int> & <int> & <int> & ⋯ & <int> & <dbl> & <int> & <int> & <int> & <int> & <int> & <int> & <int> & <dbl>\\\\\n",
       "\\hline\n",
       "\t1 & 1 & Columbia Basin & 1 & Non-virgin field & 2 & 1586.65 & 1537.88 & 15 & 12 & 10 & ⋯ & 0 & 0 &  11 &  0 &  0 & 0 &  110 & 0 & 0 & 177.7824\\\\\n",
       "\t2 & 2 & Columbia Basin & 1 & Virgin field     & 2 &  207.26 &  160.03 & 11 &  2 & 20 & ⋯ & 0 & 0 &  56 & 45 & 80 & 1 &  613 & 0 & 0 & 281.7720\\\\\n",
       "\t3 & 4 & Columbia Basin & 2 & Non-virgin field & 1 & 1096.27 & 1077.21 &  9 &  8 &  5 & ⋯ & 0 & 0 & 109 & 22 & 20 & 1 &  709 & 0 & 0 & 364.1400\\\\\n",
       "\t4 & 5 & Columbia Basin & 2 & Virgin field     & 1 &  610.05 &  610.50 &  5 &  5 &  0 & ⋯ & 0 & 0 &  60 & 33 & 55 & 1 &  110 & 0 & 0 & 189.1080\\\\\n",
       "\t5 & 6 & Columbia Basin & 3 & Virgin field     & 5 &  814.12 &  801.73 & 12 & 11 &  0 & ⋯ & 0 & 0 & 157 & 29 & 19 & 1 & 1668 & 2 & 0 & 315.7488\\\\\n",
       "\t6 & 7 & Columbia Basin & 3 & Non-virgin field & 5 & 1038.14 & 1009.35 & 14 & 11 &  0 & ⋯ & 0 & 0 &   0 &  0 &  0 & 0 &  650 & 0 & 0 & 267.3576\\\\\n",
       "\\end{tabular}\n"
      ],
      "text/markdown": [
       "\n",
       "A data.frame: 6 × 29\n",
       "\n",
       "| <!--/--> | ID &lt;fct&gt; | Location &lt;chr&gt; | Pair &lt;fct&gt; | FieldType &lt;fct&gt; | Block &lt;fct&gt; | Wt_Tuber.g. &lt;dbl&gt; | Weight_GT20 &lt;dbl&gt; | Count_Tuber &lt;int&gt; | Count_GT20 &lt;int&gt; | 1 &lt;int&gt; | ⋯ ⋯ | BD_Stem &lt;int&gt; | Vd_Stem &lt;dbl&gt; | Pyth_Avg_Soil &lt;int&gt; | ResPyth_Avg_Soil &lt;int&gt; | ResPyth_Per_Soil &lt;int&gt; | ResPyth_binary &lt;int&gt; | Fus_Avg_Soil &lt;int&gt; | Vd_Tot_Soil &lt;int&gt; | BD_Tot_Soil &lt;int&gt; | POXC &lt;dbl&gt; |\n",
       "|---|---|---|---|---|---|---|---|---|---|---|---|---|---|---|---|---|---|---|---|---|---|\n",
       "| 1 | 1 | Columbia Basin | 1 | Non-virgin field | 2 | 1586.65 | 1537.88 | 15 | 12 | 10 | ⋯ | 0 | 0 |  11 |  0 |  0 | 0 |  110 | 0 | 0 | 177.7824 |\n",
       "| 2 | 2 | Columbia Basin | 1 | Virgin field     | 2 |  207.26 |  160.03 | 11 |  2 | 20 | ⋯ | 0 | 0 |  56 | 45 | 80 | 1 |  613 | 0 | 0 | 281.7720 |\n",
       "| 3 | 4 | Columbia Basin | 2 | Non-virgin field | 1 | 1096.27 | 1077.21 |  9 |  8 |  5 | ⋯ | 0 | 0 | 109 | 22 | 20 | 1 |  709 | 0 | 0 | 364.1400 |\n",
       "| 4 | 5 | Columbia Basin | 2 | Virgin field     | 1 |  610.05 |  610.50 |  5 |  5 |  0 | ⋯ | 0 | 0 |  60 | 33 | 55 | 1 |  110 | 0 | 0 | 189.1080 |\n",
       "| 5 | 6 | Columbia Basin | 3 | Virgin field     | 5 |  814.12 |  801.73 | 12 | 11 |  0 | ⋯ | 0 | 0 | 157 | 29 | 19 | 1 | 1668 | 2 | 0 | 315.7488 |\n",
       "| 6 | 7 | Columbia Basin | 3 | Non-virgin field | 5 | 1038.14 | 1009.35 | 14 | 11 |  0 | ⋯ | 0 | 0 |   0 |  0 |  0 | 0 |  650 | 0 | 0 | 267.3576 |\n",
       "\n"
      ],
      "text/plain": [
       "  ID Location       Pair FieldType        Block Wt_Tuber.g. Weight_GT20\n",
       "1 1  Columbia Basin 1    Non-virgin field 2     1586.65     1537.88    \n",
       "2 2  Columbia Basin 1    Virgin field     2      207.26      160.03    \n",
       "3 4  Columbia Basin 2    Non-virgin field 1     1096.27     1077.21    \n",
       "4 5  Columbia Basin 2    Virgin field     1      610.05      610.50    \n",
       "5 6  Columbia Basin 3    Virgin field     5      814.12      801.73    \n",
       "6 7  Columbia Basin 3    Non-virgin field 5     1038.14     1009.35    \n",
       "  Count_Tuber Count_GT20 1  ⋯ BD_Stem Vd_Stem Pyth_Avg_Soil ResPyth_Avg_Soil\n",
       "1 15          12         10 ⋯ 0       0        11            0              \n",
       "2 11           2         20 ⋯ 0       0        56           45              \n",
       "3  9           8          5 ⋯ 0       0       109           22              \n",
       "4  5           5          0 ⋯ 0       0        60           33              \n",
       "5 12          11          0 ⋯ 0       0       157           29              \n",
       "6 14          11          0 ⋯ 0       0         0            0              \n",
       "  ResPyth_Per_Soil ResPyth_binary Fus_Avg_Soil Vd_Tot_Soil BD_Tot_Soil POXC    \n",
       "1  0               0               110         0           0           177.7824\n",
       "2 80               1               613         0           0           281.7720\n",
       "3 20               1               709         0           0           364.1400\n",
       "4 55               1               110         0           0           189.1080\n",
       "5 19               1              1668         2           0           315.7488\n",
       "6  0               0               650         0           0           267.3576"
      ]
     },
     "metadata": {},
     "output_type": "display_data"
    }
   ],
   "source": [
    "head(df1)"
   ]
  },
  {
   "cell_type": "code",
   "execution_count": 36,
   "metadata": {},
   "outputs": [
    {
     "data": {
      "text/html": [
       "<style>\n",
       ".list-inline {list-style: none; margin:0; padding: 0}\n",
       ".list-inline>li {display: inline-block}\n",
       ".list-inline>li:not(:last-child)::after {content: \"\\00b7\"; padding: 0 .5ex}\n",
       "</style>\n",
       "<ol class=list-inline><li>'ID'</li><li>'Location'</li><li>'Pair'</li><li>'FieldType'</li><li>'Block'</li><li>'Wt_Tuber.g.'</li><li>'Weight_GT20'</li><li>'Count_Tuber'</li><li>'Count_GT20'</li><li>'1'</li><li>'7'</li><li>'14'</li><li>'21'</li><li>'28'</li><li>'33'</li><li>'40'</li><li>'55'</li><li>'BD_Per_Tuber'</li><li>'Vd_Per_Tuber'</li><li>'BD_Stem'</li><li>'Vd_Stem'</li><li>'Pyth_Avg_Soil'</li><li>'ResPyth_Avg_Soil'</li><li>'ResPyth_Per_Soil'</li><li>'ResPyth_binary'</li><li>'Fus_Avg_Soil'</li><li>'Vd_Tot_Soil'</li><li>'BD_Tot_Soil'</li><li>'POXC'</li></ol>\n"
      ],
      "text/latex": [
       "\\begin{enumerate*}\n",
       "\\item 'ID'\n",
       "\\item 'Location'\n",
       "\\item 'Pair'\n",
       "\\item 'FieldType'\n",
       "\\item 'Block'\n",
       "\\item 'Wt\\_Tuber.g.'\n",
       "\\item 'Weight\\_GT20'\n",
       "\\item 'Count\\_Tuber'\n",
       "\\item 'Count\\_GT20'\n",
       "\\item '1'\n",
       "\\item '7'\n",
       "\\item '14'\n",
       "\\item '21'\n",
       "\\item '28'\n",
       "\\item '33'\n",
       "\\item '40'\n",
       "\\item '55'\n",
       "\\item 'BD\\_Per\\_Tuber'\n",
       "\\item 'Vd\\_Per\\_Tuber'\n",
       "\\item 'BD\\_Stem'\n",
       "\\item 'Vd\\_Stem'\n",
       "\\item 'Pyth\\_Avg\\_Soil'\n",
       "\\item 'ResPyth\\_Avg\\_Soil'\n",
       "\\item 'ResPyth\\_Per\\_Soil'\n",
       "\\item 'ResPyth\\_binary'\n",
       "\\item 'Fus\\_Avg\\_Soil'\n",
       "\\item 'Vd\\_Tot\\_Soil'\n",
       "\\item 'BD\\_Tot\\_Soil'\n",
       "\\item 'POXC'\n",
       "\\end{enumerate*}\n"
      ],
      "text/markdown": [
       "1. 'ID'\n",
       "2. 'Location'\n",
       "3. 'Pair'\n",
       "4. 'FieldType'\n",
       "5. 'Block'\n",
       "6. 'Wt_Tuber.g.'\n",
       "7. 'Weight_GT20'\n",
       "8. 'Count_Tuber'\n",
       "9. 'Count_GT20'\n",
       "10. '1'\n",
       "11. '7'\n",
       "12. '14'\n",
       "13. '21'\n",
       "14. '28'\n",
       "15. '33'\n",
       "16. '40'\n",
       "17. '55'\n",
       "18. 'BD_Per_Tuber'\n",
       "19. 'Vd_Per_Tuber'\n",
       "20. 'BD_Stem'\n",
       "21. 'Vd_Stem'\n",
       "22. 'Pyth_Avg_Soil'\n",
       "23. 'ResPyth_Avg_Soil'\n",
       "24. 'ResPyth_Per_Soil'\n",
       "25. 'ResPyth_binary'\n",
       "26. 'Fus_Avg_Soil'\n",
       "27. 'Vd_Tot_Soil'\n",
       "28. 'BD_Tot_Soil'\n",
       "29. 'POXC'\n",
       "\n",
       "\n"
      ],
      "text/plain": [
       " [1] \"ID\"               \"Location\"         \"Pair\"             \"FieldType\"       \n",
       " [5] \"Block\"            \"Wt_Tuber.g.\"      \"Weight_GT20\"      \"Count_Tuber\"     \n",
       " [9] \"Count_GT20\"       \"1\"                \"7\"                \"14\"              \n",
       "[13] \"21\"               \"28\"               \"33\"               \"40\"              \n",
       "[17] \"55\"               \"BD_Per_Tuber\"     \"Vd_Per_Tuber\"     \"BD_Stem\"         \n",
       "[21] \"Vd_Stem\"          \"Pyth_Avg_Soil\"    \"ResPyth_Avg_Soil\" \"ResPyth_Per_Soil\"\n",
       "[25] \"ResPyth_binary\"   \"Fus_Avg_Soil\"     \"Vd_Tot_Soil\"      \"BD_Tot_Soil\"     \n",
       "[29] \"POXC\"            "
      ]
     },
     "metadata": {},
     "output_type": "display_data"
    }
   ],
   "source": [
    "names(df1)"
   ]
  },
  {
   "cell_type": "code",
   "execution_count": 37,
   "metadata": {},
   "outputs": [
    {
     "data": {
      "text/html": [
       "<table>\n",
       "<caption>A data.frame: 6 × 30</caption>\n",
       "<thead>\n",
       "\t<tr><th></th><th scope=col>ID</th><th scope=col>Location</th><th scope=col>Pair</th><th scope=col>FieldType</th><th scope=col>Block</th><th scope=col>Wt_Tuber.g.</th><th scope=col>Weight_GT20</th><th scope=col>Count_Tuber</th><th scope=col>Count_GT20</th><th scope=col>1</th><th scope=col>⋯</th><th scope=col>Vd_Stem</th><th scope=col>Pyth_Avg_Soil</th><th scope=col>ResPyth_Avg_Soil</th><th scope=col>ResPyth_Per_Soil</th><th scope=col>ResPyth_binary</th><th scope=col>Fus_Avg_Soil</th><th scope=col>Vd_Tot_Soil</th><th scope=col>BD_Tot_Soil</th><th scope=col>POXC</th><th scope=col>AUDPC</th></tr>\n",
       "\t<tr><th></th><th scope=col>&lt;fct&gt;</th><th scope=col>&lt;chr&gt;</th><th scope=col>&lt;fct&gt;</th><th scope=col>&lt;fct&gt;</th><th scope=col>&lt;fct&gt;</th><th scope=col>&lt;dbl&gt;</th><th scope=col>&lt;dbl&gt;</th><th scope=col>&lt;int&gt;</th><th scope=col>&lt;int&gt;</th><th scope=col>&lt;int&gt;</th><th scope=col>⋯</th><th scope=col>&lt;dbl&gt;</th><th scope=col>&lt;int&gt;</th><th scope=col>&lt;int&gt;</th><th scope=col>&lt;int&gt;</th><th scope=col>&lt;int&gt;</th><th scope=col>&lt;int&gt;</th><th scope=col>&lt;int&gt;</th><th scope=col>&lt;int&gt;</th><th scope=col>&lt;dbl&gt;</th><th scope=col>&lt;dbl&gt;</th></tr>\n",
       "</thead>\n",
       "<tbody>\n",
       "\t<tr><th scope=row>1</th><td>1</td><td>Columbia Basin</td><td>1</td><td>Non-virgin field</td><td>2</td><td>1586.65</td><td>1537.88</td><td>15</td><td>12</td><td>10</td><td>⋯</td><td>0</td><td> 11</td><td> 0</td><td> 0</td><td>0</td><td> 110</td><td>0</td><td>0</td><td>177.7824</td><td> 767.0</td></tr>\n",
       "\t<tr><th scope=row>2</th><td>2</td><td>Columbia Basin</td><td>1</td><td>Virgin field    </td><td>2</td><td> 207.26</td><td> 160.03</td><td>11</td><td> 2</td><td>20</td><td>⋯</td><td>0</td><td> 56</td><td>45</td><td>80</td><td>1</td><td> 613</td><td>0</td><td>0</td><td>281.7720</td><td>1551.0</td></tr>\n",
       "\t<tr><th scope=row>3</th><td>4</td><td>Columbia Basin</td><td>2</td><td>Non-virgin field</td><td>1</td><td>1096.27</td><td>1077.21</td><td> 9</td><td> 8</td><td> 5</td><td>⋯</td><td>0</td><td>109</td><td>22</td><td>20</td><td>1</td><td> 709</td><td>0</td><td>0</td><td>364.1400</td><td> 797.0</td></tr>\n",
       "\t<tr><th scope=row>4</th><td>5</td><td>Columbia Basin</td><td>2</td><td>Virgin field    </td><td>1</td><td> 610.05</td><td> 610.50</td><td> 5</td><td> 5</td><td> 0</td><td>⋯</td><td>0</td><td> 60</td><td>33</td><td>55</td><td>1</td><td> 110</td><td>0</td><td>0</td><td>189.1080</td><td>  30.0</td></tr>\n",
       "\t<tr><th scope=row>5</th><td>6</td><td>Columbia Basin</td><td>3</td><td>Virgin field    </td><td>5</td><td> 814.12</td><td> 801.73</td><td>12</td><td>11</td><td> 0</td><td>⋯</td><td>0</td><td>157</td><td>29</td><td>19</td><td>1</td><td>1668</td><td>2</td><td>0</td><td>315.7488</td><td> 240.5</td></tr>\n",
       "\t<tr><th scope=row>6</th><td>7</td><td>Columbia Basin</td><td>3</td><td>Non-virgin field</td><td>5</td><td>1038.14</td><td>1009.35</td><td>14</td><td>11</td><td> 0</td><td>⋯</td><td>0</td><td>  0</td><td> 0</td><td> 0</td><td>0</td><td> 650</td><td>0</td><td>0</td><td>267.3576</td><td> 340.0</td></tr>\n",
       "</tbody>\n",
       "</table>\n"
      ],
      "text/latex": [
       "A data.frame: 6 × 30\n",
       "\\begin{tabular}{r|lllllllllllllllllllll}\n",
       "  & ID & Location & Pair & FieldType & Block & Wt\\_Tuber.g. & Weight\\_GT20 & Count\\_Tuber & Count\\_GT20 & 1 & ⋯ & Vd\\_Stem & Pyth\\_Avg\\_Soil & ResPyth\\_Avg\\_Soil & ResPyth\\_Per\\_Soil & ResPyth\\_binary & Fus\\_Avg\\_Soil & Vd\\_Tot\\_Soil & BD\\_Tot\\_Soil & POXC & AUDPC\\\\\n",
       "  & <fct> & <chr> & <fct> & <fct> & <fct> & <dbl> & <dbl> & <int> & <int> & <int> & ⋯ & <dbl> & <int> & <int> & <int> & <int> & <int> & <int> & <int> & <dbl> & <dbl>\\\\\n",
       "\\hline\n",
       "\t1 & 1 & Columbia Basin & 1 & Non-virgin field & 2 & 1586.65 & 1537.88 & 15 & 12 & 10 & ⋯ & 0 &  11 &  0 &  0 & 0 &  110 & 0 & 0 & 177.7824 &  767.0\\\\\n",
       "\t2 & 2 & Columbia Basin & 1 & Virgin field     & 2 &  207.26 &  160.03 & 11 &  2 & 20 & ⋯ & 0 &  56 & 45 & 80 & 1 &  613 & 0 & 0 & 281.7720 & 1551.0\\\\\n",
       "\t3 & 4 & Columbia Basin & 2 & Non-virgin field & 1 & 1096.27 & 1077.21 &  9 &  8 &  5 & ⋯ & 0 & 109 & 22 & 20 & 1 &  709 & 0 & 0 & 364.1400 &  797.0\\\\\n",
       "\t4 & 5 & Columbia Basin & 2 & Virgin field     & 1 &  610.05 &  610.50 &  5 &  5 &  0 & ⋯ & 0 &  60 & 33 & 55 & 1 &  110 & 0 & 0 & 189.1080 &   30.0\\\\\n",
       "\t5 & 6 & Columbia Basin & 3 & Virgin field     & 5 &  814.12 &  801.73 & 12 & 11 &  0 & ⋯ & 0 & 157 & 29 & 19 & 1 & 1668 & 2 & 0 & 315.7488 &  240.5\\\\\n",
       "\t6 & 7 & Columbia Basin & 3 & Non-virgin field & 5 & 1038.14 & 1009.35 & 14 & 11 &  0 & ⋯ & 0 &   0 &  0 &  0 & 0 &  650 & 0 & 0 & 267.3576 &  340.0\\\\\n",
       "\\end{tabular}\n"
      ],
      "text/markdown": [
       "\n",
       "A data.frame: 6 × 30\n",
       "\n",
       "| <!--/--> | ID &lt;fct&gt; | Location &lt;chr&gt; | Pair &lt;fct&gt; | FieldType &lt;fct&gt; | Block &lt;fct&gt; | Wt_Tuber.g. &lt;dbl&gt; | Weight_GT20 &lt;dbl&gt; | Count_Tuber &lt;int&gt; | Count_GT20 &lt;int&gt; | 1 &lt;int&gt; | ⋯ ⋯ | Vd_Stem &lt;dbl&gt; | Pyth_Avg_Soil &lt;int&gt; | ResPyth_Avg_Soil &lt;int&gt; | ResPyth_Per_Soil &lt;int&gt; | ResPyth_binary &lt;int&gt; | Fus_Avg_Soil &lt;int&gt; | Vd_Tot_Soil &lt;int&gt; | BD_Tot_Soil &lt;int&gt; | POXC &lt;dbl&gt; | AUDPC &lt;dbl&gt; |\n",
       "|---|---|---|---|---|---|---|---|---|---|---|---|---|---|---|---|---|---|---|---|---|---|\n",
       "| 1 | 1 | Columbia Basin | 1 | Non-virgin field | 2 | 1586.65 | 1537.88 | 15 | 12 | 10 | ⋯ | 0 |  11 |  0 |  0 | 0 |  110 | 0 | 0 | 177.7824 |  767.0 |\n",
       "| 2 | 2 | Columbia Basin | 1 | Virgin field     | 2 |  207.26 |  160.03 | 11 |  2 | 20 | ⋯ | 0 |  56 | 45 | 80 | 1 |  613 | 0 | 0 | 281.7720 | 1551.0 |\n",
       "| 3 | 4 | Columbia Basin | 2 | Non-virgin field | 1 | 1096.27 | 1077.21 |  9 |  8 |  5 | ⋯ | 0 | 109 | 22 | 20 | 1 |  709 | 0 | 0 | 364.1400 |  797.0 |\n",
       "| 4 | 5 | Columbia Basin | 2 | Virgin field     | 1 |  610.05 |  610.50 |  5 |  5 |  0 | ⋯ | 0 |  60 | 33 | 55 | 1 |  110 | 0 | 0 | 189.1080 |   30.0 |\n",
       "| 5 | 6 | Columbia Basin | 3 | Virgin field     | 5 |  814.12 |  801.73 | 12 | 11 |  0 | ⋯ | 0 | 157 | 29 | 19 | 1 | 1668 | 2 | 0 | 315.7488 |  240.5 |\n",
       "| 6 | 7 | Columbia Basin | 3 | Non-virgin field | 5 | 1038.14 | 1009.35 | 14 | 11 |  0 | ⋯ | 0 |   0 |  0 |  0 | 0 |  650 | 0 | 0 | 267.3576 |  340.0 |\n",
       "\n"
      ],
      "text/plain": [
       "  ID Location       Pair FieldType        Block Wt_Tuber.g. Weight_GT20\n",
       "1 1  Columbia Basin 1    Non-virgin field 2     1586.65     1537.88    \n",
       "2 2  Columbia Basin 1    Virgin field     2      207.26      160.03    \n",
       "3 4  Columbia Basin 2    Non-virgin field 1     1096.27     1077.21    \n",
       "4 5  Columbia Basin 2    Virgin field     1      610.05      610.50    \n",
       "5 6  Columbia Basin 3    Virgin field     5      814.12      801.73    \n",
       "6 7  Columbia Basin 3    Non-virgin field 5     1038.14     1009.35    \n",
       "  Count_Tuber Count_GT20 1  ⋯ Vd_Stem Pyth_Avg_Soil ResPyth_Avg_Soil\n",
       "1 15          12         10 ⋯ 0        11            0              \n",
       "2 11           2         20 ⋯ 0        56           45              \n",
       "3  9           8          5 ⋯ 0       109           22              \n",
       "4  5           5          0 ⋯ 0        60           33              \n",
       "5 12          11          0 ⋯ 0       157           29              \n",
       "6 14          11          0 ⋯ 0         0            0              \n",
       "  ResPyth_Per_Soil ResPyth_binary Fus_Avg_Soil Vd_Tot_Soil BD_Tot_Soil POXC    \n",
       "1  0               0               110         0           0           177.7824\n",
       "2 80               1               613         0           0           281.7720\n",
       "3 20               1               709         0           0           364.1400\n",
       "4 55               1               110         0           0           189.1080\n",
       "5 19               1              1668         2           0           315.7488\n",
       "6  0               0               650         0           0           267.3576\n",
       "  AUDPC \n",
       "1  767.0\n",
       "2 1551.0\n",
       "3  797.0\n",
       "4   30.0\n",
       "5  240.5\n",
       "6  340.0"
      ]
     },
     "metadata": {},
     "output_type": "display_data"
    }
   ],
   "source": [
    "df1$AUDPC <- audpc(df1[,9:16],ts)\n",
    "head(df1)"
   ]
  },
  {
   "cell_type": "code",
   "execution_count": null,
   "metadata": {},
   "outputs": [],
   "source": []
  },
  {
   "cell_type": "markdown",
   "metadata": {},
   "source": [
    "##### Plot"
   ]
  },
  {
   "cell_type": "code",
   "execution_count": 38,
   "metadata": {},
   "outputs": [
    {
     "data": {
      "image/png": "[encoded data removed]",
      "text/plain": [
       "plot without title"
      ]
     },
     "metadata": {
      "image/png": {
       "height": 180,
       "width": 300
      }
     },
     "output_type": "display_data"
    }
   ],
   "source": [
    "options(repr.plot.width = 5, repr.plot.height = 3)\n",
    "#jpeg('AUDPC_soilprints.jpg',width=5,height=3,units='in',res=300)\n",
    "a = ggplot(data = df1, aes(x =FieldType, y = AUDPC, color = FieldType))+\n",
    "    geom_boxplot(width = 0.4)+\n",
    "    geom_jitter(alpha=0.8, pch =20,size =5, position=position_jitter(width=0.1))+\n",
    "    theme_bw()+\n",
    "    labs(x = 'Field Type', y=\"Senescence (AUSPC)\") +\n",
    "    theme(legend.position = \"none\")+\n",
    "    theme(axis.title.x= element_blank(),\n",
    "        axis.title.y = element_text(size =10, color ='black'),\n",
    "        axis.text.x = element_blank(),\n",
    "        axis.text.y = element_text(size =8, color = 'black'))+\n",
    "scale_color_manual(name = 'Field Type', labels = c('Non-virgin field', 'Virgin field'), \n",
    "                  values = c('orange', 'chartreuse4'))\n",
    "a\n",
    "#dev.off()"
   ]
  },
  {
   "cell_type": "code",
   "execution_count": null,
   "metadata": {},
   "outputs": [],
   "source": []
  },
  {
   "cell_type": "markdown",
   "metadata": {},
   "source": [
    "Plot differences"
   ]
  },
  {
   "cell_type": "code",
   "execution_count": 40,
   "metadata": {},
   "outputs": [
    {
     "data": {
      "text/html": [
       "<table>\n",
       "<caption>A data.frame: 6 × 4</caption>\n",
       "<thead>\n",
       "\t<tr><th></th><th scope=col>Pair</th><th scope=col>Location</th><th scope=col>Non-virgin field</th><th scope=col>Virgin field</th></tr>\n",
       "\t<tr><th></th><th scope=col>&lt;fct&gt;</th><th scope=col>&lt;chr&gt;</th><th scope=col>&lt;dbl&gt;</th><th scope=col>&lt;dbl&gt;</th></tr>\n",
       "</thead>\n",
       "<tbody>\n",
       "\t<tr><th scope=row>1</th><td>1</td><td>Columbia Basin</td><td> 767.0</td><td>1551.0</td></tr>\n",
       "\t<tr><th scope=row>2</th><td>2</td><td>Columbia Basin</td><td> 797.0</td><td>  30.0</td></tr>\n",
       "\t<tr><th scope=row>3</th><td>3</td><td>Columbia Basin</td><td> 340.0</td><td> 240.5</td></tr>\n",
       "\t<tr><th scope=row>4</th><td>4</td><td>Skagit Valley </td><td>1373.0</td><td> 760.0</td></tr>\n",
       "\t<tr><th scope=row>5</th><td>5</td><td>Columbia Basin</td><td> 160.0</td><td>1370.5</td></tr>\n",
       "\t<tr><th scope=row>6</th><td>6</td><td>Columbia Basin</td><td> 389.5</td><td> 644.5</td></tr>\n",
       "</tbody>\n",
       "</table>\n"
      ],
      "text/latex": [
       "A data.frame: 6 × 4\n",
       "\\begin{tabular}{r|llll}\n",
       "  & Pair & Location & Non-virgin field & Virgin field\\\\\n",
       "  & <fct> & <chr> & <dbl> & <dbl>\\\\\n",
       "\\hline\n",
       "\t1 & 1 & Columbia Basin &  767.0 & 1551.0\\\\\n",
       "\t2 & 2 & Columbia Basin &  797.0 &   30.0\\\\\n",
       "\t3 & 3 & Columbia Basin &  340.0 &  240.5\\\\\n",
       "\t4 & 4 & Skagit Valley  & 1373.0 &  760.0\\\\\n",
       "\t5 & 5 & Columbia Basin &  160.0 & 1370.5\\\\\n",
       "\t6 & 6 & Columbia Basin &  389.5 &  644.5\\\\\n",
       "\\end{tabular}\n"
      ],
      "text/markdown": [
       "\n",
       "A data.frame: 6 × 4\n",
       "\n",
       "| <!--/--> | Pair &lt;fct&gt; | Location &lt;chr&gt; | Non-virgin field &lt;dbl&gt; | Virgin field &lt;dbl&gt; |\n",
       "|---|---|---|---|---|\n",
       "| 1 | 1 | Columbia Basin |  767.0 | 1551.0 |\n",
       "| 2 | 2 | Columbia Basin |  797.0 |   30.0 |\n",
       "| 3 | 3 | Columbia Basin |  340.0 |  240.5 |\n",
       "| 4 | 4 | Skagit Valley  | 1373.0 |  760.0 |\n",
       "| 5 | 5 | Columbia Basin |  160.0 | 1370.5 |\n",
       "| 6 | 6 | Columbia Basin |  389.5 |  644.5 |\n",
       "\n"
      ],
      "text/plain": [
       "  Pair Location       Non-virgin field Virgin field\n",
       "1 1    Columbia Basin  767.0           1551.0      \n",
       "2 2    Columbia Basin  797.0             30.0      \n",
       "3 3    Columbia Basin  340.0            240.5      \n",
       "4 4    Skagit Valley  1373.0            760.0      \n",
       "5 5    Columbia Basin  160.0           1370.5      \n",
       "6 6    Columbia Basin  389.5            644.5      "
      ]
     },
     "metadata": {},
     "output_type": "display_data"
    }
   ],
   "source": [
    "df2 = df1 %>% select(FieldType, Pair, AUDPC, Location) %>% spread(FieldType, AUDPC)\n",
    "head(df2)"
   ]
  },
  {
   "cell_type": "code",
   "execution_count": 41,
   "metadata": {},
   "outputs": [
    {
     "data": {
      "text/html": [
       "<table>\n",
       "<caption>A data.frame: 11 × 5</caption>\n",
       "<thead>\n",
       "\t<tr><th scope=col>Pair</th><th scope=col>Location</th><th scope=col>non_virgin</th><th scope=col>virgin</th><th scope=col>diff</th></tr>\n",
       "\t<tr><th scope=col>&lt;fct&gt;</th><th scope=col>&lt;chr&gt;</th><th scope=col>&lt;dbl&gt;</th><th scope=col>&lt;dbl&gt;</th><th scope=col>&lt;dbl&gt;</th></tr>\n",
       "</thead>\n",
       "<tbody>\n",
       "\t<tr><td>1 </td><td>Columbia Basin</td><td> 767.0</td><td>1551.0</td><td> 784.0</td></tr>\n",
       "\t<tr><td>2 </td><td>Columbia Basin</td><td> 797.0</td><td>  30.0</td><td>-767.0</td></tr>\n",
       "\t<tr><td>3 </td><td>Columbia Basin</td><td> 340.0</td><td> 240.5</td><td> -99.5</td></tr>\n",
       "\t<tr><td>4 </td><td>Skagit Valley </td><td>1373.0</td><td> 760.0</td><td>-613.0</td></tr>\n",
       "\t<tr><td>5 </td><td>Columbia Basin</td><td> 160.0</td><td>1370.5</td><td>1210.5</td></tr>\n",
       "\t<tr><td>6 </td><td>Columbia Basin</td><td> 389.5</td><td> 644.5</td><td> 255.0</td></tr>\n",
       "\t<tr><td>7 </td><td>Columbia Basin</td><td> 242.0</td><td> 688.5</td><td> 446.5</td></tr>\n",
       "\t<tr><td>8 </td><td>Columbia Basin</td><td>  21.0</td><td>1428.0</td><td>1407.0</td></tr>\n",
       "\t<tr><td>9 </td><td>Skagit Valley </td><td>1170.5</td><td> 751.0</td><td>-419.5</td></tr>\n",
       "\t<tr><td>10</td><td>Skagit Valley </td><td> 803.0</td><td> 780.5</td><td> -22.5</td></tr>\n",
       "\t<tr><td>11</td><td>Skagit Valley </td><td> 761.0</td><td> 794.0</td><td>  33.0</td></tr>\n",
       "</tbody>\n",
       "</table>\n"
      ],
      "text/latex": [
       "A data.frame: 11 × 5\n",
       "\\begin{tabular}{lllll}\n",
       " Pair & Location & non\\_virgin & virgin & diff\\\\\n",
       " <fct> & <chr> & <dbl> & <dbl> & <dbl>\\\\\n",
       "\\hline\n",
       "\t 1  & Columbia Basin &  767.0 & 1551.0 &  784.0\\\\\n",
       "\t 2  & Columbia Basin &  797.0 &   30.0 & -767.0\\\\\n",
       "\t 3  & Columbia Basin &  340.0 &  240.5 &  -99.5\\\\\n",
       "\t 4  & Skagit Valley  & 1373.0 &  760.0 & -613.0\\\\\n",
       "\t 5  & Columbia Basin &  160.0 & 1370.5 & 1210.5\\\\\n",
       "\t 6  & Columbia Basin &  389.5 &  644.5 &  255.0\\\\\n",
       "\t 7  & Columbia Basin &  242.0 &  688.5 &  446.5\\\\\n",
       "\t 8  & Columbia Basin &   21.0 & 1428.0 & 1407.0\\\\\n",
       "\t 9  & Skagit Valley  & 1170.5 &  751.0 & -419.5\\\\\n",
       "\t 10 & Skagit Valley  &  803.0 &  780.5 &  -22.5\\\\\n",
       "\t 11 & Skagit Valley  &  761.0 &  794.0 &   33.0\\\\\n",
       "\\end{tabular}\n"
      ],
      "text/markdown": [
       "\n",
       "A data.frame: 11 × 5\n",
       "\n",
       "| Pair &lt;fct&gt; | Location &lt;chr&gt; | non_virgin &lt;dbl&gt; | virgin &lt;dbl&gt; | diff &lt;dbl&gt; |\n",
       "|---|---|---|---|---|\n",
       "| 1  | Columbia Basin |  767.0 | 1551.0 |  784.0 |\n",
       "| 2  | Columbia Basin |  797.0 |   30.0 | -767.0 |\n",
       "| 3  | Columbia Basin |  340.0 |  240.5 |  -99.5 |\n",
       "| 4  | Skagit Valley  | 1373.0 |  760.0 | -613.0 |\n",
       "| 5  | Columbia Basin |  160.0 | 1370.5 | 1210.5 |\n",
       "| 6  | Columbia Basin |  389.5 |  644.5 |  255.0 |\n",
       "| 7  | Columbia Basin |  242.0 |  688.5 |  446.5 |\n",
       "| 8  | Columbia Basin |   21.0 | 1428.0 | 1407.0 |\n",
       "| 9  | Skagit Valley  | 1170.5 |  751.0 | -419.5 |\n",
       "| 10 | Skagit Valley  |  803.0 |  780.5 |  -22.5 |\n",
       "| 11 | Skagit Valley  |  761.0 |  794.0 |   33.0 |\n",
       "\n"
      ],
      "text/plain": [
       "   Pair Location       non_virgin virgin diff  \n",
       "1  1    Columbia Basin  767.0     1551.0  784.0\n",
       "2  2    Columbia Basin  797.0       30.0 -767.0\n",
       "3  3    Columbia Basin  340.0      240.5  -99.5\n",
       "4  4    Skagit Valley  1373.0      760.0 -613.0\n",
       "5  5    Columbia Basin  160.0     1370.5 1210.5\n",
       "6  6    Columbia Basin  389.5      644.5  255.0\n",
       "7  7    Columbia Basin  242.0      688.5  446.5\n",
       "8  8    Columbia Basin   21.0     1428.0 1407.0\n",
       "9  9    Skagit Valley  1170.5      751.0 -419.5\n",
       "10 10   Skagit Valley   803.0      780.5  -22.5\n",
       "11 11   Skagit Valley   761.0      794.0   33.0"
      ]
     },
     "metadata": {},
     "output_type": "display_data"
    }
   ],
   "source": [
    "df2 = rename(df2, non_virgin = `Non-virgin field`, virgin = `Virgin field`)\n",
    "df2 = mutate(df2, diff = virgin - non_virgin)\n",
    "df2"
   ]
  },
  {
   "cell_type": "markdown",
   "metadata": {},
   "source": [
    "Plot"
   ]
  },
  {
   "cell_type": "code",
   "execution_count": 50,
   "metadata": {},
   "outputs": [
    {
     "data": {
      "text/html": [
       "<strong>pdf:</strong> 2"
      ],
      "text/latex": [
       "\\textbf{pdf:} 2"
      ],
      "text/markdown": [
       "**pdf:** 2"
      ],
      "text/plain": [
       "pdf \n",
       "  2 "
      ]
     },
     "metadata": {},
     "output_type": "display_data"
    }
   ],
   "source": [
    "options(repr.plot.width = 3, repr.plot.height = 3)\n",
    "jpeg('soilprints_AUDPC.jpg',width=3,height=3,units='in',res=300)\n",
    "carbon_difference = ggplot(data = df2, aes(x =Location, y = diff, color = Location))+\n",
    "    geom_boxplot(width = 0.4)+geom_hline(yintercept = 0)+\n",
    "    geom_jitter(alpha=0.8, pch =20,size =5, position=position_jitter(width=0.1, height = 0.3))+\n",
    "    theme_bw()+ ylim(-1500, 1500)+\n",
    "    labs(x = 'Location', y=expression(paste(\"Difference (AUDPC)\"))) +\n",
    "    theme(legend.position = \"none\")+\n",
    "    theme(axis.title.x= element_blank(),\n",
    "        axis.title.y = element_text(size =10, color ='black'),\n",
    "        axis.text.x = element_text(size =10, color ='black'),\n",
    "        axis.text.y = element_text(size =8, color = 'black'))+\n",
    "scale_color_manual(name = 'Location', labels = c('Columbia Basin', 'Skagit Valley'), \n",
    "                  values = c('darkgoldenrod1', 'darkgreen'))\n",
    "carbon_difference\n",
    "dev.off()"
   ]
  },
  {
   "cell_type": "markdown",
   "metadata": {},
   "source": [
    "##### Diagnostics"
   ]
  },
  {
   "cell_type": "code",
   "execution_count": 18,
   "metadata": {},
   "outputs": [],
   "source": [
    "d <- lm(AUDPC ~ FieldType + Block, data=df1)\n",
    "#plot(d, col = df1$FieldType)"
   ]
  },
  {
   "cell_type": "code",
   "execution_count": 28,
   "metadata": {},
   "outputs": [
    {
     "data": {
      "text/plain": [
       "\n",
       "\tPaired t-test\n",
       "\n",
       "data:  AUDPC by FieldType\n",
       "t = -0.56969, df = 10, p-value = 0.5815\n",
       "alternative hypothesis: true difference in means is not equal to 0\n",
       "95 percent confidence interval:\n",
       " -879.5398  521.3580\n",
       "sample estimates:\n",
       "mean of the differences \n",
       "              -179.0909 \n"
      ]
     },
     "metadata": {},
     "output_type": "display_data"
    }
   ],
   "source": [
    "t.test(AUDPC~ FieldType, \n",
    "       paired=T, \n",
    "       data=df1)"
   ]
  },
  {
   "cell_type": "markdown",
   "metadata": {},
   "source": [
    "####  Tuber weight"
   ]
  },
  {
   "cell_type": "markdown",
   "metadata": {},
   "source": [
    "##### Plot"
   ]
  },
  {
   "cell_type": "code",
   "execution_count": 32,
   "metadata": {},
   "outputs": [
    {
     "data": {
      "image/png": "[encoded data removed]",
      "text/plain": [
       "plot without title"
      ]
     },
     "metadata": {},
     "output_type": "display_data"
    }
   ],
   "source": [
    "options(repr.plot.width = 5, repr.plot.height = 3)\n",
    "#jpeg('TuberwtAll_soilprints.jpg',width=5,height=3,units='in',res=300)\n",
    "b= ggplot(data = df1, aes(x =FieldType, y = Wt_Tuber.g., color = FieldType))+\n",
    "    geom_boxplot(width = 0.4)+\n",
    "    geom_jitter(alpha=0.8, pch =20,size =5, position=position_jitter(width=0.1))+\n",
    "    theme_bw()+\n",
    "    labs(x = 'Field Type', y=\"Tuber weight (gm)\") +\n",
    "    theme(legend.position = \"none\")+\n",
    "    theme(axis.title.x= element_blank(),\n",
    "        axis.title.y = element_text(size =10, color ='black'),\n",
    "        axis.text.x = element_text(size =10, color ='black'),\n",
    "        axis.text.y = element_text(size =8, color = 'black'))+\n",
    "scale_color_manual(name = 'Field Type', labels = c('Non-virgin field', 'Virgin field'), \n",
    "                  values = c('orange', 'chartreuse4'))\n",
    "b\n",
    "#dev.off()"
   ]
  },
  {
   "cell_type": "markdown",
   "metadata": {},
   "source": [
    "##### Diagnostics"
   ]
  },
  {
   "cell_type": "code",
   "execution_count": 19,
   "metadata": {},
   "outputs": [],
   "source": [
    "d <- lm(Wt_Tuber.g. ~ FieldType + Block, data=df1)\n",
    "#plot(d, col = df1$FieldType)"
   ]
  },
  {
   "cell_type": "code",
   "execution_count": 34,
   "metadata": {},
   "outputs": [
    {
     "data": {
      "text/plain": [
       "\n",
       "\tPaired t-test\n",
       "\n",
       "data:  Wt_Tuber.g. by FieldType\n",
       "t = -0.063151, df = 10, p-value = 0.9509\n",
       "alternative hypothesis: true difference in means is not equal to 0\n",
       "95 percent confidence interval:\n",
       " -461.7789  436.3244\n",
       "sample estimates:\n",
       "mean of the differences \n",
       "              -12.72727 \n"
      ]
     },
     "metadata": {},
     "output_type": "display_data"
    }
   ],
   "source": [
    "t.test(Wt_Tuber.g.~ FieldType, \n",
    "       paired=T, \n",
    "       data=df1)"
   ]
  },
  {
   "cell_type": "markdown",
   "metadata": {},
   "source": [
    "#### Tuber count"
   ]
  },
  {
   "cell_type": "markdown",
   "metadata": {},
   "source": [
    "##### Plot"
   ]
  },
  {
   "cell_type": "code",
   "execution_count": 38,
   "metadata": {},
   "outputs": [
    {
     "data": {
      "image/png": "[encoded data removed]",
      "text/plain": [
       "plot without title"
      ]
     },
     "metadata": {},
     "output_type": "display_data"
    }
   ],
   "source": [
    "options(repr.plot.width = 5, repr.plot.height = 3)\n",
    "#jpeg('TuberCountAll_soilprints.jpg',width=5,height=3,units='in',res=300)\n",
    "c = ggplot(data = df1, aes(x =FieldType, y = Count_Tuber, color = FieldType))+\n",
    "    geom_boxplot(width = 0.4)+\n",
    "    geom_jitter(alpha=0.8, pch =20,size =5,position=position_jitter(width=0.1))+\n",
    "    theme_bw()+\n",
    "    labs(x = 'Field Type', y=\"Tuber count\") +\n",
    "    theme(legend.position = \"none\")+\n",
    "    theme(axis.title.x= element_blank(),\n",
    "        axis.title.y = element_text(size =10, color ='black'),\n",
    "        axis.text.x = element_text(size =10, color ='black'),\n",
    "        axis.text.y = element_text(size =8, color = 'black'))+\n",
    "scale_color_manual(name = 'Field Type', labels = c('Non-virgin field', 'Virgin field'), \n",
    "                  values = c('orange', 'chartreuse4'))\n",
    "c\n",
    "#dev.off()"
   ]
  },
  {
   "cell_type": "markdown",
   "metadata": {},
   "source": [
    "##### Diagnostics"
   ]
  },
  {
   "cell_type": "code",
   "execution_count": 20,
   "metadata": {},
   "outputs": [],
   "source": [
    "d <- lm(Count_Tuber ~ FieldType + Block, data=df1)\n",
    "#plot(d, col = df1$FieldType)"
   ]
  },
  {
   "cell_type": "code",
   "execution_count": 40,
   "metadata": {},
   "outputs": [
    {
     "data": {
      "text/plain": [
       "\n",
       "\tPaired t-test\n",
       "\n",
       "data:  Count_Tuber by FieldType\n",
       "t = -0.4189, df = 10, p-value = 0.6841\n",
       "alternative hypothesis: true difference in means is not equal to 0\n",
       "95 percent confidence interval:\n",
       " -5.170117  3.533754\n",
       "sample estimates:\n",
       "mean of the differences \n",
       "             -0.8181818 \n"
      ]
     },
     "metadata": {},
     "output_type": "display_data"
    }
   ],
   "source": [
    "t.test(Count_Tuber~ FieldType, \n",
    "       paired=T, \n",
    "       data=df1)"
   ]
  },
  {
   "cell_type": "markdown",
   "metadata": {},
   "source": [
    "#### Combine plots"
   ]
  },
  {
   "cell_type": "code",
   "execution_count": 54,
   "metadata": {},
   "outputs": [
    {
     "data": {
      "text/html": [
       "<strong>null device:</strong> 1"
      ],
      "text/latex": [
       "\\textbf{null device:} 1"
      ],
      "text/markdown": [
       "**null device:** 1"
      ],
      "text/plain": [
       "null device \n",
       "          1 "
      ]
     },
     "metadata": {},
     "output_type": "display_data"
    },
    {
     "data": {
      "image/png": "[encoded data removed]",
      "text/plain": [
       "plot without title"
      ]
     },
     "metadata": {},
     "output_type": "display_data"
    }
   ],
   "source": [
    "options(repr.plot.width = 7, repr.plot.height = 4)\n",
    "#jpeg('count_wt.jpg',width=7,height=4,units='in',res=300)\n",
    "plot = ggarrange(a,b,c, labels = c(\"A\", \"B\", \"C\"), ncol = 2, nrow = 2)\n",
    "plot\n",
    "dev.off()"
   ]
  },
  {
   "cell_type": "markdown",
   "metadata": {},
   "source": [
    "### Soil biological properties"
   ]
  },
  {
   "cell_type": "code",
   "execution_count": 41,
   "metadata": {},
   "outputs": [
    {
     "data": {
      "text/html": [
       "<ol class=list-inline>\n",
       "\t<li>'ID'</li>\n",
       "\t<li>'Pair'</li>\n",
       "\t<li>'FieldType'</li>\n",
       "\t<li>'Block'</li>\n",
       "\t<li>'Wt_Tuber.g.'</li>\n",
       "\t<li>'Weight_GT20'</li>\n",
       "\t<li>'Count_Tuber'</li>\n",
       "\t<li>'Count_GT20'</li>\n",
       "\t<li>'1'</li>\n",
       "\t<li>'7'</li>\n",
       "\t<li>'14'</li>\n",
       "\t<li>'21'</li>\n",
       "\t<li>'28'</li>\n",
       "\t<li>'33'</li>\n",
       "\t<li>'40'</li>\n",
       "\t<li>'55'</li>\n",
       "\t<li>'BD_Per_Tuber'</li>\n",
       "\t<li>'Vd_Per_Tuber'</li>\n",
       "\t<li>'BD_Stem'</li>\n",
       "\t<li>'Vd_Stem'</li>\n",
       "\t<li>'Pyth_Avg_Soil'</li>\n",
       "\t<li>'ResPyth_Avg_Soil'</li>\n",
       "\t<li>'ResPyth_Per_Soil'</li>\n",
       "\t<li>'ResPyth_binary'</li>\n",
       "\t<li>'Fus_Avg_Soil'</li>\n",
       "\t<li>'Vd_Tot_Soil'</li>\n",
       "\t<li>'BD_Tot_Soil'</li>\n",
       "\t<li>'AUDPC'</li>\n",
       "</ol>\n"
      ],
      "text/latex": [
       "\\begin{enumerate*}\n",
       "\\item 'ID'\n",
       "\\item 'Pair'\n",
       "\\item 'FieldType'\n",
       "\\item 'Block'\n",
       "\\item 'Wt\\_Tuber.g.'\n",
       "\\item 'Weight\\_GT20'\n",
       "\\item 'Count\\_Tuber'\n",
       "\\item 'Count\\_GT20'\n",
       "\\item '1'\n",
       "\\item '7'\n",
       "\\item '14'\n",
       "\\item '21'\n",
       "\\item '28'\n",
       "\\item '33'\n",
       "\\item '40'\n",
       "\\item '55'\n",
       "\\item 'BD\\_Per\\_Tuber'\n",
       "\\item 'Vd\\_Per\\_Tuber'\n",
       "\\item 'BD\\_Stem'\n",
       "\\item 'Vd\\_Stem'\n",
       "\\item 'Pyth\\_Avg\\_Soil'\n",
       "\\item 'ResPyth\\_Avg\\_Soil'\n",
       "\\item 'ResPyth\\_Per\\_Soil'\n",
       "\\item 'ResPyth\\_binary'\n",
       "\\item 'Fus\\_Avg\\_Soil'\n",
       "\\item 'Vd\\_Tot\\_Soil'\n",
       "\\item 'BD\\_Tot\\_Soil'\n",
       "\\item 'AUDPC'\n",
       "\\end{enumerate*}\n"
      ],
      "text/markdown": [
       "1. 'ID'\n",
       "2. 'Pair'\n",
       "3. 'FieldType'\n",
       "4. 'Block'\n",
       "5. 'Wt_Tuber.g.'\n",
       "6. 'Weight_GT20'\n",
       "7. 'Count_Tuber'\n",
       "8. 'Count_GT20'\n",
       "9. '1'\n",
       "10. '7'\n",
       "11. '14'\n",
       "12. '21'\n",
       "13. '28'\n",
       "14. '33'\n",
       "15. '40'\n",
       "16. '55'\n",
       "17. 'BD_Per_Tuber'\n",
       "18. 'Vd_Per_Tuber'\n",
       "19. 'BD_Stem'\n",
       "20. 'Vd_Stem'\n",
       "21. 'Pyth_Avg_Soil'\n",
       "22. 'ResPyth_Avg_Soil'\n",
       "23. 'ResPyth_Per_Soil'\n",
       "24. 'ResPyth_binary'\n",
       "25. 'Fus_Avg_Soil'\n",
       "26. 'Vd_Tot_Soil'\n",
       "27. 'BD_Tot_Soil'\n",
       "28. 'AUDPC'\n",
       "\n",
       "\n"
      ],
      "text/plain": [
       " [1] \"ID\"               \"Pair\"             \"FieldType\"        \"Block\"           \n",
       " [5] \"Wt_Tuber.g.\"      \"Weight_GT20\"      \"Count_Tuber\"      \"Count_GT20\"      \n",
       " [9] \"1\"                \"7\"                \"14\"               \"21\"              \n",
       "[13] \"28\"               \"33\"               \"40\"               \"55\"              \n",
       "[17] \"BD_Per_Tuber\"     \"Vd_Per_Tuber\"     \"BD_Stem\"          \"Vd_Stem\"         \n",
       "[21] \"Pyth_Avg_Soil\"    \"ResPyth_Avg_Soil\" \"ResPyth_Per_Soil\" \"ResPyth_binary\"  \n",
       "[25] \"Fus_Avg_Soil\"     \"Vd_Tot_Soil\"      \"BD_Tot_Soil\"      \"AUDPC\"           "
      ]
     },
     "metadata": {},
     "output_type": "display_data"
    }
   ],
   "source": [
    "names(df1)"
   ]
  },
  {
   "cell_type": "markdown",
   "metadata": {},
   "source": [
    "#### Pythium "
   ]
  },
  {
   "cell_type": "markdown",
   "metadata": {},
   "source": [
    "##### Plot"
   ]
  },
  {
   "cell_type": "code",
   "execution_count": 42,
   "metadata": {},
   "outputs": [
    {
     "data": {
      "image/png": "[encoded data removed]",
      "text/plain": [
       "plot without title"
      ]
     },
     "metadata": {},
     "output_type": "display_data"
    }
   ],
   "source": [
    "options(repr.plot.width = 5, repr.plot.height = 3)\n",
    "#jpeg('AUDPC_soilprints.jpg',width=5,height=3,units='in',res=300)\n",
    "v = ggplot(data = df1, aes(x =FieldType, y = Pyth_Avg_Soil, color = FieldType))+\n",
    "    geom_boxplot(width = 0.4)+\n",
    "    geom_jitter(alpha=0.8, pch =20,size =5, position=position_jitter(width=0.1))+\n",
    "    theme_bw()+\n",
    "    labs(x = 'Field Type', y=expression(paste(\"Average \",italic(\"Pythium\")))) +\n",
    "    theme(legend.position = \"none\")+\n",
    "    theme(axis.title.x= element_blank(),\n",
    "        axis.title.y = element_text(size =10, color ='black'),\n",
    "        axis.text.x = element_blank(),\n",
    "        axis.text.y = element_text(size =8, color = 'black'))+\n",
    "scale_color_manual(name = 'Field Type', labels = c('Non-virgin field', 'Virgin field'), \n",
    "                  values = c('orange', 'chartreuse4'))\n",
    "v\n",
    "#dev.off()"
   ]
  },
  {
   "cell_type": "markdown",
   "metadata": {},
   "source": [
    "#### Resistant Pythium"
   ]
  },
  {
   "cell_type": "markdown",
   "metadata": {},
   "source": [
    "##### Plot"
   ]
  },
  {
   "cell_type": "code",
   "execution_count": 43,
   "metadata": {},
   "outputs": [
    {
     "data": {
      "image/png": "[encoded data removed]",
      "text/plain": [
       "plot without title"
      ]
     },
     "metadata": {},
     "output_type": "display_data"
    }
   ],
   "source": [
    "options(repr.plot.width = 5, repr.plot.height = 3)\n",
    "#jpeg('AUDPC_soilprints.jpg',width=5,height=3,units='in',res=300)\n",
    "w = ggplot(data = df1, aes(x =FieldType, y = ResPyth_Avg_Soil, color = FieldType))+\n",
    "    geom_boxplot(width = 0.4)+\n",
    "    geom_jitter(alpha=0.8, pch =20,size =5, position=position_jitter(width=0.1))+\n",
    "    theme_bw()+\n",
    "    labs(x = 'Field Type', y=expression(paste(\"Average Res.  \",italic(\"Pythium\")))) +\n",
    "    theme(legend.position = \"none\")+\n",
    "    theme(axis.title.x= element_blank(),\n",
    "        axis.title.y = element_text(size =10, color ='black'),\n",
    "        axis.text.x = element_blank(),\n",
    "        axis.text.y = element_text(size =8, color = 'black'))+\n",
    "scale_color_manual(name = 'Field Type', labels = c('Non-virgin field', 'Virgin field'), \n",
    "                  values = c('orange', 'chartreuse4'))\n",
    "w\n",
    "#dev.off()"
   ]
  },
  {
   "cell_type": "markdown",
   "metadata": {},
   "source": [
    "#### Fusarium"
   ]
  },
  {
   "cell_type": "markdown",
   "metadata": {},
   "source": [
    "##### Plot"
   ]
  },
  {
   "cell_type": "code",
   "execution_count": 44,
   "metadata": {},
   "outputs": [
    {
     "data": {
      "image/png": "[encoded data removed]",
      "text/plain": [
       "plot without title"
      ]
     },
     "metadata": {},
     "output_type": "display_data"
    }
   ],
   "source": [
    "options(repr.plot.width = 5, repr.plot.height = 3)\n",
    "#jpeg('AUDPC_soilprints.jpg',width=5,height=3,units='in',res=300)\n",
    "x = ggplot(data = df1, aes(x =FieldType, y = Fus_Avg_Soil, color = FieldType))+\n",
    "    geom_boxplot(width = 0.4)+\n",
    "    geom_jitter(alpha=0.8, pch =20,size =5, position=position_jitter(width=0.1))+\n",
    "    theme_bw()+\n",
    "    labs(x = 'Field Type', y=expression(paste(\"Average \",italic(\"Fusarium\")))) +\n",
    "    theme(legend.position = \"none\")+\n",
    "    theme(axis.title.x= element_blank(),\n",
    "        axis.title.y = element_text(size =10, color ='black'),\n",
    "        axis.text.x = element_blank(),\n",
    "        axis.text.y = element_text(size =8, color = 'black'))+\n",
    "scale_color_manual(name = 'Field Type', labels = c('Non-virgin field', 'Virgin field'), \n",
    "                  values = c('orange', 'chartreuse4'))\n",
    "x\n",
    "#dev.off()"
   ]
  },
  {
   "cell_type": "markdown",
   "metadata": {},
   "source": [
    "#### Verticillium"
   ]
  },
  {
   "cell_type": "markdown",
   "metadata": {},
   "source": [
    "##### Plot"
   ]
  },
  {
   "cell_type": "code",
   "execution_count": 45,
   "metadata": {},
   "outputs": [
    {
     "data": {
      "image/png": "[encoded data removed]",
      "text/plain": [
       "plot without title"
      ]
     },
     "metadata": {},
     "output_type": "display_data"
    }
   ],
   "source": [
    "options(repr.plot.width = 5, repr.plot.height = 3)\n",
    "#jpeg('Vd_soilprints.jpg',width=5,height=3,units='in',res=300)\n",
    "y = ggplot(data = df1, aes(x =FieldType, y = Vd_Tot_Soil, color = FieldType))+\n",
    "    geom_boxplot(width = 0.4)+\n",
    "    geom_jitter(alpha=0.8, pch =20,size =5, position=position_jitter(width=0.1))+\n",
    "    theme_bw()+\n",
    "    labs(x = 'Field Type', y=expression(paste(\"Total \",italic(\"V. dahliae\")))) +\n",
    "    theme(legend.position = \"none\")+\n",
    "    theme(axis.title.x= element_blank(),\n",
    "        axis.title.y = element_text(size =10, color ='black'),\n",
    "        axis.text.x = element_text(size =10, color ='black'),\n",
    "        axis.text.y = element_text(size =8, color = 'black'))+\n",
    "scale_color_manual(name = 'Field Type', labels = c('Non-virgin field', 'Virgin field'), \n",
    "                  values = c('orange', 'chartreuse4'))\n",
    "y\n",
    "#dev.off()"
   ]
  },
  {
   "cell_type": "markdown",
   "metadata": {},
   "source": [
    "Plot differences"
   ]
  },
  {
   "cell_type": "code",
   "execution_count": 66,
   "metadata": {},
   "outputs": [
    {
     "data": {
      "text/html": [
       "<table>\n",
       "<caption>A data.frame: 6 × 4</caption>\n",
       "<thead>\n",
       "\t<tr><th></th><th scope=col>Pair</th><th scope=col>Location</th><th scope=col>Non-virgin field</th><th scope=col>Virgin field</th></tr>\n",
       "\t<tr><th></th><th scope=col>&lt;fct&gt;</th><th scope=col>&lt;chr&gt;</th><th scope=col>&lt;int&gt;</th><th scope=col>&lt;int&gt;</th></tr>\n",
       "</thead>\n",
       "<tbody>\n",
       "\t<tr><th scope=row>1</th><td>1</td><td>Columbia Basin</td><td>0</td><td>0</td></tr>\n",
       "\t<tr><th scope=row>2</th><td>2</td><td>Columbia Basin</td><td>0</td><td>0</td></tr>\n",
       "\t<tr><th scope=row>3</th><td>3</td><td>Columbia Basin</td><td>0</td><td>2</td></tr>\n",
       "\t<tr><th scope=row>4</th><td>4</td><td>Skagit Valley </td><td>4</td><td>6</td></tr>\n",
       "\t<tr><th scope=row>5</th><td>5</td><td>Columbia Basin</td><td>4</td><td>0</td></tr>\n",
       "\t<tr><th scope=row>6</th><td>6</td><td>Columbia Basin</td><td>0</td><td>0</td></tr>\n",
       "</tbody>\n",
       "</table>\n"
      ],
      "text/latex": [
       "A data.frame: 6 × 4\n",
       "\\begin{tabular}{r|llll}\n",
       "  & Pair & Location & Non-virgin field & Virgin field\\\\\n",
       "  & <fct> & <chr> & <int> & <int>\\\\\n",
       "\\hline\n",
       "\t1 & 1 & Columbia Basin & 0 & 0\\\\\n",
       "\t2 & 2 & Columbia Basin & 0 & 0\\\\\n",
       "\t3 & 3 & Columbia Basin & 0 & 2\\\\\n",
       "\t4 & 4 & Skagit Valley  & 4 & 6\\\\\n",
       "\t5 & 5 & Columbia Basin & 4 & 0\\\\\n",
       "\t6 & 6 & Columbia Basin & 0 & 0\\\\\n",
       "\\end{tabular}\n"
      ],
      "text/markdown": [
       "\n",
       "A data.frame: 6 × 4\n",
       "\n",
       "| <!--/--> | Pair &lt;fct&gt; | Location &lt;chr&gt; | Non-virgin field &lt;int&gt; | Virgin field &lt;int&gt; |\n",
       "|---|---|---|---|---|\n",
       "| 1 | 1 | Columbia Basin | 0 | 0 |\n",
       "| 2 | 2 | Columbia Basin | 0 | 0 |\n",
       "| 3 | 3 | Columbia Basin | 0 | 2 |\n",
       "| 4 | 4 | Skagit Valley  | 4 | 6 |\n",
       "| 5 | 5 | Columbia Basin | 4 | 0 |\n",
       "| 6 | 6 | Columbia Basin | 0 | 0 |\n",
       "\n"
      ],
      "text/plain": [
       "  Pair Location       Non-virgin field Virgin field\n",
       "1 1    Columbia Basin 0                0           \n",
       "2 2    Columbia Basin 0                0           \n",
       "3 3    Columbia Basin 0                2           \n",
       "4 4    Skagit Valley  4                6           \n",
       "5 5    Columbia Basin 4                0           \n",
       "6 6    Columbia Basin 0                0           "
      ]
     },
     "metadata": {},
     "output_type": "display_data"
    }
   ],
   "source": [
    "df2 = df1 %>% select(FieldType, Pair, Vd_Tot_Soil, Location) %>% spread(FieldType, Vd_Tot_Soil)\n",
    "head(df2)"
   ]
  },
  {
   "cell_type": "code",
   "execution_count": 67,
   "metadata": {},
   "outputs": [
    {
     "data": {
      "text/html": [
       "<table>\n",
       "<caption>A data.frame: 11 × 5</caption>\n",
       "<thead>\n",
       "\t<tr><th scope=col>Pair</th><th scope=col>Location</th><th scope=col>non_virgin</th><th scope=col>virgin</th><th scope=col>diff</th></tr>\n",
       "\t<tr><th scope=col>&lt;fct&gt;</th><th scope=col>&lt;chr&gt;</th><th scope=col>&lt;int&gt;</th><th scope=col>&lt;int&gt;</th><th scope=col>&lt;int&gt;</th></tr>\n",
       "</thead>\n",
       "<tbody>\n",
       "\t<tr><td>1 </td><td>Columbia Basin</td><td>0</td><td>0</td><td> 0</td></tr>\n",
       "\t<tr><td>2 </td><td>Columbia Basin</td><td>0</td><td>0</td><td> 0</td></tr>\n",
       "\t<tr><td>3 </td><td>Columbia Basin</td><td>0</td><td>2</td><td> 2</td></tr>\n",
       "\t<tr><td>4 </td><td>Skagit Valley </td><td>4</td><td>6</td><td> 2</td></tr>\n",
       "\t<tr><td>5 </td><td>Columbia Basin</td><td>4</td><td>0</td><td>-4</td></tr>\n",
       "\t<tr><td>6 </td><td>Columbia Basin</td><td>0</td><td>0</td><td> 0</td></tr>\n",
       "\t<tr><td>7 </td><td>Columbia Basin</td><td>0</td><td>0</td><td> 0</td></tr>\n",
       "\t<tr><td>8 </td><td>Columbia Basin</td><td>0</td><td>0</td><td> 0</td></tr>\n",
       "\t<tr><td>9 </td><td>Skagit Valley </td><td>4</td><td>0</td><td>-4</td></tr>\n",
       "\t<tr><td>10</td><td>Skagit Valley </td><td>2</td><td>4</td><td> 2</td></tr>\n",
       "\t<tr><td>11</td><td>Skagit Valley </td><td>0</td><td>0</td><td> 0</td></tr>\n",
       "</tbody>\n",
       "</table>\n"
      ],
      "text/latex": [
       "A data.frame: 11 × 5\n",
       "\\begin{tabular}{lllll}\n",
       " Pair & Location & non\\_virgin & virgin & diff\\\\\n",
       " <fct> & <chr> & <int> & <int> & <int>\\\\\n",
       "\\hline\n",
       "\t 1  & Columbia Basin & 0 & 0 &  0\\\\\n",
       "\t 2  & Columbia Basin & 0 & 0 &  0\\\\\n",
       "\t 3  & Columbia Basin & 0 & 2 &  2\\\\\n",
       "\t 4  & Skagit Valley  & 4 & 6 &  2\\\\\n",
       "\t 5  & Columbia Basin & 4 & 0 & -4\\\\\n",
       "\t 6  & Columbia Basin & 0 & 0 &  0\\\\\n",
       "\t 7  & Columbia Basin & 0 & 0 &  0\\\\\n",
       "\t 8  & Columbia Basin & 0 & 0 &  0\\\\\n",
       "\t 9  & Skagit Valley  & 4 & 0 & -4\\\\\n",
       "\t 10 & Skagit Valley  & 2 & 4 &  2\\\\\n",
       "\t 11 & Skagit Valley  & 0 & 0 &  0\\\\\n",
       "\\end{tabular}\n"
      ],
      "text/markdown": [
       "\n",
       "A data.frame: 11 × 5\n",
       "\n",
       "| Pair &lt;fct&gt; | Location &lt;chr&gt; | non_virgin &lt;int&gt; | virgin &lt;int&gt; | diff &lt;int&gt; |\n",
       "|---|---|---|---|---|\n",
       "| 1  | Columbia Basin | 0 | 0 |  0 |\n",
       "| 2  | Columbia Basin | 0 | 0 |  0 |\n",
       "| 3  | Columbia Basin | 0 | 2 |  2 |\n",
       "| 4  | Skagit Valley  | 4 | 6 |  2 |\n",
       "| 5  | Columbia Basin | 4 | 0 | -4 |\n",
       "| 6  | Columbia Basin | 0 | 0 |  0 |\n",
       "| 7  | Columbia Basin | 0 | 0 |  0 |\n",
       "| 8  | Columbia Basin | 0 | 0 |  0 |\n",
       "| 9  | Skagit Valley  | 4 | 0 | -4 |\n",
       "| 10 | Skagit Valley  | 2 | 4 |  2 |\n",
       "| 11 | Skagit Valley  | 0 | 0 |  0 |\n",
       "\n"
      ],
      "text/plain": [
       "   Pair Location       non_virgin virgin diff\n",
       "1  1    Columbia Basin 0          0       0  \n",
       "2  2    Columbia Basin 0          0       0  \n",
       "3  3    Columbia Basin 0          2       2  \n",
       "4  4    Skagit Valley  4          6       2  \n",
       "5  5    Columbia Basin 4          0      -4  \n",
       "6  6    Columbia Basin 0          0       0  \n",
       "7  7    Columbia Basin 0          0       0  \n",
       "8  8    Columbia Basin 0          0       0  \n",
       "9  9    Skagit Valley  4          0      -4  \n",
       "10 10   Skagit Valley  2          4       2  \n",
       "11 11   Skagit Valley  0          0       0  "
      ]
     },
     "metadata": {},
     "output_type": "display_data"
    }
   ],
   "source": [
    "df2 = rename(df2, non_virgin = `Non-virgin field`, virgin = `Virgin field`)\n",
    "df2 = mutate(df2, diff = virgin - non_virgin)\n",
    "df2"
   ]
  },
  {
   "cell_type": "markdown",
   "metadata": {},
   "source": [
    "Plot"
   ]
  },
  {
   "cell_type": "code",
   "execution_count": 68,
   "metadata": {},
   "outputs": [
    {
     "data": {
      "text/html": [
       "<style>\n",
       ".list-inline {list-style: none; margin:0; padding: 0}\n",
       ".list-inline>li {display: inline-block}\n",
       ".list-inline>li:not(:last-child)::after {content: \"\\00b7\"; padding: 0 .5ex}\n",
       "</style>\n",
       "<ol class=list-inline><li>-4</li><li>2</li></ol>\n"
      ],
      "text/latex": [
       "\\begin{enumerate*}\n",
       "\\item -4\n",
       "\\item 2\n",
       "\\end{enumerate*}\n"
      ],
      "text/markdown": [
       "1. -4\n",
       "2. 2\n",
       "\n",
       "\n"
      ],
      "text/plain": [
       "[1] -4  2"
      ]
     },
     "metadata": {},
     "output_type": "display_data"
    }
   ],
   "source": [
    "range(df2$diff)"
   ]
  },
  {
   "cell_type": "code",
   "execution_count": 72,
   "metadata": {},
   "outputs": [
    {
     "data": {
      "image/png": "[encoded data removed]",
      "text/plain": [
       "plot without title"
      ]
     },
     "metadata": {
      "image/png": {
       "height": 180,
       "width": 180
      }
     },
     "output_type": "display_data"
    }
   ],
   "source": [
    "options(repr.plot.width = 3, repr.plot.height = 3)\n",
    "#jpeg('soilprints_Vd.jpg',width=3,height=3,units='in',res=300)\n",
    "Vd_difference = ggplot(data = df2, aes(x =Location, y = diff, color = Location))+\n",
    "    geom_boxplot(width = 0.4)+geom_hline(yintercept = 0)+\n",
    "    geom_jitter(alpha=0.8, pch =20,size =5, position=position_jitter(width=0.1, height = 0.3))+\n",
    "    theme_bw()+ \n",
    "    ylim(5, -5)+\n",
    "    labs(x = 'Location', y=expression(paste(\"Difference \", italic(\"(V. dahliae)\")))) +\n",
    "    theme(legend.position = \"none\")+\n",
    "    theme(axis.title.x= element_blank(),\n",
    "        axis.title.y = element_text(size =10, color ='black'),\n",
    "        axis.text.x = element_text(size =10, color ='black'),\n",
    "        axis.text.y = element_text(size =8, color = 'black'))+\n",
    "scale_color_manual(name = 'Location', labels = c('Columbia Basin', 'Skagit Valley'), \n",
    "                  values = c('darkgoldenrod1', 'darkgreen'))\n",
    "Vd_difference\n",
    "#dev.off()"
   ]
  },
  {
   "cell_type": "markdown",
   "metadata": {},
   "source": [
    "#### Colletotrichum"
   ]
  },
  {
   "cell_type": "markdown",
   "metadata": {},
   "source": [
    "##### Plot"
   ]
  },
  {
   "cell_type": "code",
   "execution_count": 24,
   "metadata": {},
   "outputs": [
    {
     "data": {
      "image/png": "[encoded data removed]",
      "text/plain": [
       "plot without title"
      ]
     },
     "metadata": {},
     "output_type": "display_data"
    }
   ],
   "source": [
    "options(repr.plot.width = 5, repr.plot.height = 3)\n",
    "#jpeg('Vd_soilprints.jpg',width=5,height=3,units='in',res=300)\n",
    "z = ggplot(data = df1, aes(x =FieldType, y = BD_Tot_Soil, color = FieldType))+\n",
    "    geom_boxplot(width = 0.4)+\n",
    "    geom_jitter(alpha=0.8, pch =20,size =5, position=position_jitter(width=0.1, height = 0.3))+\n",
    "    theme_bw()+\n",
    "    labs(x = 'Field Type', y=expression(paste(\"Total \",italic(\"C. coccodes\")))) +\n",
    "    theme(legend.position = \"none\")+\n",
    "    theme(axis.title.x= element_blank(),\n",
    "        axis.title.y = element_text(size =10, color ='black'),\n",
    "        axis.text.x = element_text(size =10, color ='black'),\n",
    "        axis.text.y = element_text(size =8, color = 'black'))+\n",
    "scale_color_manual(name = 'Field Type', labels = c('Non-virgin field', 'Virgin field'), \n",
    "                  values = c('orange', 'chartreuse4'))\n",
    "z\n",
    "#dev.off()"
   ]
  },
  {
   "cell_type": "code",
   "execution_count": null,
   "metadata": {},
   "outputs": [],
   "source": []
  },
  {
   "cell_type": "markdown",
   "metadata": {},
   "source": [
    "Plot differences"
   ]
  },
  {
   "cell_type": "code",
   "execution_count": 60,
   "metadata": {},
   "outputs": [
    {
     "data": {
      "text/html": [
       "<table>\n",
       "<caption>A data.frame: 6 × 4</caption>\n",
       "<thead>\n",
       "\t<tr><th></th><th scope=col>Pair</th><th scope=col>Location</th><th scope=col>Non-virgin field</th><th scope=col>Virgin field</th></tr>\n",
       "\t<tr><th></th><th scope=col>&lt;fct&gt;</th><th scope=col>&lt;chr&gt;</th><th scope=col>&lt;int&gt;</th><th scope=col>&lt;int&gt;</th></tr>\n",
       "</thead>\n",
       "<tbody>\n",
       "\t<tr><th scope=row>1</th><td>1</td><td>Columbia Basin</td><td>0</td><td>0</td></tr>\n",
       "\t<tr><th scope=row>2</th><td>2</td><td>Columbia Basin</td><td>0</td><td>0</td></tr>\n",
       "\t<tr><th scope=row>3</th><td>3</td><td>Columbia Basin</td><td>0</td><td>0</td></tr>\n",
       "\t<tr><th scope=row>4</th><td>4</td><td>Skagit Valley </td><td>0</td><td>0</td></tr>\n",
       "\t<tr><th scope=row>5</th><td>5</td><td>Columbia Basin</td><td>0</td><td>0</td></tr>\n",
       "\t<tr><th scope=row>6</th><td>6</td><td>Columbia Basin</td><td>0</td><td>0</td></tr>\n",
       "</tbody>\n",
       "</table>\n"
      ],
      "text/latex": [
       "A data.frame: 6 × 4\n",
       "\\begin{tabular}{r|llll}\n",
       "  & Pair & Location & Non-virgin field & Virgin field\\\\\n",
       "  & <fct> & <chr> & <int> & <int>\\\\\n",
       "\\hline\n",
       "\t1 & 1 & Columbia Basin & 0 & 0\\\\\n",
       "\t2 & 2 & Columbia Basin & 0 & 0\\\\\n",
       "\t3 & 3 & Columbia Basin & 0 & 0\\\\\n",
       "\t4 & 4 & Skagit Valley  & 0 & 0\\\\\n",
       "\t5 & 5 & Columbia Basin & 0 & 0\\\\\n",
       "\t6 & 6 & Columbia Basin & 0 & 0\\\\\n",
       "\\end{tabular}\n"
      ],
      "text/markdown": [
       "\n",
       "A data.frame: 6 × 4\n",
       "\n",
       "| <!--/--> | Pair &lt;fct&gt; | Location &lt;chr&gt; | Non-virgin field &lt;int&gt; | Virgin field &lt;int&gt; |\n",
       "|---|---|---|---|---|\n",
       "| 1 | 1 | Columbia Basin | 0 | 0 |\n",
       "| 2 | 2 | Columbia Basin | 0 | 0 |\n",
       "| 3 | 3 | Columbia Basin | 0 | 0 |\n",
       "| 4 | 4 | Skagit Valley  | 0 | 0 |\n",
       "| 5 | 5 | Columbia Basin | 0 | 0 |\n",
       "| 6 | 6 | Columbia Basin | 0 | 0 |\n",
       "\n"
      ],
      "text/plain": [
       "  Pair Location       Non-virgin field Virgin field\n",
       "1 1    Columbia Basin 0                0           \n",
       "2 2    Columbia Basin 0                0           \n",
       "3 3    Columbia Basin 0                0           \n",
       "4 4    Skagit Valley  0                0           \n",
       "5 5    Columbia Basin 0                0           \n",
       "6 6    Columbia Basin 0                0           "
      ]
     },
     "metadata": {},
     "output_type": "display_data"
    }
   ],
   "source": [
    "df2 = df1 %>% select(FieldType, Pair, BD_Tot_Soil, Location) %>% spread(FieldType, BD_Tot_Soil)\n",
    "head(df2)"
   ]
  },
  {
   "cell_type": "code",
   "execution_count": 61,
   "metadata": {},
   "outputs": [
    {
     "data": {
      "text/html": [
       "<table>\n",
       "<caption>A data.frame: 11 × 5</caption>\n",
       "<thead>\n",
       "\t<tr><th scope=col>Pair</th><th scope=col>Location</th><th scope=col>non_virgin</th><th scope=col>virgin</th><th scope=col>diff</th></tr>\n",
       "\t<tr><th scope=col>&lt;fct&gt;</th><th scope=col>&lt;chr&gt;</th><th scope=col>&lt;int&gt;</th><th scope=col>&lt;int&gt;</th><th scope=col>&lt;int&gt;</th></tr>\n",
       "</thead>\n",
       "<tbody>\n",
       "\t<tr><td>1 </td><td>Columbia Basin</td><td>0</td><td>0</td><td>0</td></tr>\n",
       "\t<tr><td>2 </td><td>Columbia Basin</td><td>0</td><td>0</td><td>0</td></tr>\n",
       "\t<tr><td>3 </td><td>Columbia Basin</td><td>0</td><td>0</td><td>0</td></tr>\n",
       "\t<tr><td>4 </td><td>Skagit Valley </td><td>0</td><td>0</td><td>0</td></tr>\n",
       "\t<tr><td>5 </td><td>Columbia Basin</td><td>0</td><td>0</td><td>0</td></tr>\n",
       "\t<tr><td>6 </td><td>Columbia Basin</td><td>0</td><td>0</td><td>0</td></tr>\n",
       "\t<tr><td>7 </td><td>Columbia Basin</td><td>0</td><td>2</td><td>2</td></tr>\n",
       "\t<tr><td>8 </td><td>Columbia Basin</td><td>0</td><td>0</td><td>0</td></tr>\n",
       "\t<tr><td>9 </td><td>Skagit Valley </td><td>0</td><td>0</td><td>0</td></tr>\n",
       "\t<tr><td>10</td><td>Skagit Valley </td><td>0</td><td>0</td><td>0</td></tr>\n",
       "\t<tr><td>11</td><td>Skagit Valley </td><td>0</td><td>0</td><td>0</td></tr>\n",
       "</tbody>\n",
       "</table>\n"
      ],
      "text/latex": [
       "A data.frame: 11 × 5\n",
       "\\begin{tabular}{lllll}\n",
       " Pair & Location & non\\_virgin & virgin & diff\\\\\n",
       " <fct> & <chr> & <int> & <int> & <int>\\\\\n",
       "\\hline\n",
       "\t 1  & Columbia Basin & 0 & 0 & 0\\\\\n",
       "\t 2  & Columbia Basin & 0 & 0 & 0\\\\\n",
       "\t 3  & Columbia Basin & 0 & 0 & 0\\\\\n",
       "\t 4  & Skagit Valley  & 0 & 0 & 0\\\\\n",
       "\t 5  & Columbia Basin & 0 & 0 & 0\\\\\n",
       "\t 6  & Columbia Basin & 0 & 0 & 0\\\\\n",
       "\t 7  & Columbia Basin & 0 & 2 & 2\\\\\n",
       "\t 8  & Columbia Basin & 0 & 0 & 0\\\\\n",
       "\t 9  & Skagit Valley  & 0 & 0 & 0\\\\\n",
       "\t 10 & Skagit Valley  & 0 & 0 & 0\\\\\n",
       "\t 11 & Skagit Valley  & 0 & 0 & 0\\\\\n",
       "\\end{tabular}\n"
      ],
      "text/markdown": [
       "\n",
       "A data.frame: 11 × 5\n",
       "\n",
       "| Pair &lt;fct&gt; | Location &lt;chr&gt; | non_virgin &lt;int&gt; | virgin &lt;int&gt; | diff &lt;int&gt; |\n",
       "|---|---|---|---|---|\n",
       "| 1  | Columbia Basin | 0 | 0 | 0 |\n",
       "| 2  | Columbia Basin | 0 | 0 | 0 |\n",
       "| 3  | Columbia Basin | 0 | 0 | 0 |\n",
       "| 4  | Skagit Valley  | 0 | 0 | 0 |\n",
       "| 5  | Columbia Basin | 0 | 0 | 0 |\n",
       "| 6  | Columbia Basin | 0 | 0 | 0 |\n",
       "| 7  | Columbia Basin | 0 | 2 | 2 |\n",
       "| 8  | Columbia Basin | 0 | 0 | 0 |\n",
       "| 9  | Skagit Valley  | 0 | 0 | 0 |\n",
       "| 10 | Skagit Valley  | 0 | 0 | 0 |\n",
       "| 11 | Skagit Valley  | 0 | 0 | 0 |\n",
       "\n"
      ],
      "text/plain": [
       "   Pair Location       non_virgin virgin diff\n",
       "1  1    Columbia Basin 0          0      0   \n",
       "2  2    Columbia Basin 0          0      0   \n",
       "3  3    Columbia Basin 0          0      0   \n",
       "4  4    Skagit Valley  0          0      0   \n",
       "5  5    Columbia Basin 0          0      0   \n",
       "6  6    Columbia Basin 0          0      0   \n",
       "7  7    Columbia Basin 0          2      2   \n",
       "8  8    Columbia Basin 0          0      0   \n",
       "9  9    Skagit Valley  0          0      0   \n",
       "10 10   Skagit Valley  0          0      0   \n",
       "11 11   Skagit Valley  0          0      0   "
      ]
     },
     "metadata": {},
     "output_type": "display_data"
    }
   ],
   "source": [
    "df2 = rename(df2, non_virgin = `Non-virgin field`, virgin = `Virgin field`)\n",
    "df2 = mutate(df2, diff = virgin - non_virgin)\n",
    "df2"
   ]
  },
  {
   "cell_type": "markdown",
   "metadata": {},
   "source": [
    "Plot"
   ]
  },
  {
   "cell_type": "code",
   "execution_count": 62,
   "metadata": {},
   "outputs": [
    {
     "data": {
      "text/html": [
       "<style>\n",
       ".list-inline {list-style: none; margin:0; padding: 0}\n",
       ".list-inline>li {display: inline-block}\n",
       ".list-inline>li:not(:last-child)::after {content: \"\\00b7\"; padding: 0 .5ex}\n",
       "</style>\n",
       "<ol class=list-inline><li>0</li><li>2</li></ol>\n"
      ],
      "text/latex": [
       "\\begin{enumerate*}\n",
       "\\item 0\n",
       "\\item 2\n",
       "\\end{enumerate*}\n"
      ],
      "text/markdown": [
       "1. 0\n",
       "2. 2\n",
       "\n",
       "\n"
      ],
      "text/plain": [
       "[1] 0 2"
      ]
     },
     "metadata": {},
     "output_type": "display_data"
    }
   ],
   "source": [
    "range(df2$diff)"
   ]
  },
  {
   "cell_type": "code",
   "execution_count": 65,
   "metadata": {},
   "outputs": [
    {
     "data": {
      "text/html": [
       "<strong>pdf:</strong> 2"
      ],
      "text/latex": [
       "\\textbf{pdf:} 2"
      ],
      "text/markdown": [
       "**pdf:** 2"
      ],
      "text/plain": [
       "pdf \n",
       "  2 "
      ]
     },
     "metadata": {},
     "output_type": "display_data"
    }
   ],
   "source": [
    "options(repr.plot.width = 3, repr.plot.height = 3)\n",
    "#jpeg('soilprints_CC.jpg',width=3,height=3,units='in',res=300)\n",
    "CC_difference = ggplot(data = df2, aes(x =Location, y = diff, color = Location))+\n",
    "    geom_boxplot(width = 0.4)+geom_hline(yintercept = 0)+\n",
    "    geom_jitter(alpha=0.8, pch =20,size =5, position=position_jitter(width=0.1, height = 0.3))+\n",
    "    theme_bw()+ ylim(-3, 3)+\n",
    "    labs(x = 'Location', y=expression(paste(\"Difference \", italic(\"(C. coccodes)\")))) +\n",
    "    theme(legend.position = \"none\")+\n",
    "    theme(axis.title.x= element_blank(),\n",
    "        axis.title.y = element_text(size =10, color ='black'),\n",
    "        axis.text.x = element_text(size =10, color ='black'),\n",
    "        axis.text.y = element_text(size =8, color = 'black'))+\n",
    "scale_color_manual(name = 'Location', labels = c('Columbia Basin', 'Skagit Valley'), \n",
    "                  values = c('darkgoldenrod1', 'darkgreen'))\n",
    "CC_difference\n",
    "#dev.off()"
   ]
  },
  {
   "cell_type": "code",
   "execution_count": null,
   "metadata": {},
   "outputs": [],
   "source": []
  },
  {
   "cell_type": "code",
   "execution_count": null,
   "metadata": {},
   "outputs": [],
   "source": []
  },
  {
   "cell_type": "markdown",
   "metadata": {},
   "source": [
    "#### Combine plots"
   ]
  },
  {
   "cell_type": "markdown",
   "metadata": {},
   "source": [
    "* Soil plating"
   ]
  },
  {
   "cell_type": "code",
   "execution_count": 350,
   "metadata": {},
   "outputs": [
    {
     "data": {
      "text/html": [
       "<strong>jpeg:</strong> 3"
      ],
      "text/latex": [
       "\\textbf{jpeg:} 3"
      ],
      "text/markdown": [
       "**jpeg:** 3"
      ],
      "text/plain": [
       "jpeg \n",
       "   3 "
      ]
     },
     "metadata": {},
     "output_type": "display_data"
    },
    {
     "data": {
      "image/png": "[encoded data removed]",
      "text/plain": [
       "plot without title"
      ]
     },
     "metadata": {},
     "output_type": "display_data"
    }
   ],
   "source": [
    "options(repr.plot.width = 7, repr.plot.height = 6)\n",
    "#jpeg('soil_pathogens.jpg',width=7,height=6,units='in',res=300)\n",
    "plot = ggarrange(v,w,x,y,z, labels = c(\"A\", \"B\", \"C\", \"D\",\"E\"), ncol = 2, nrow = 3)\n",
    "plot\n",
    "dev.off()"
   ]
  },
  {
   "cell_type": "markdown",
   "metadata": {},
   "source": [
    "### Soil physical properties"
   ]
  },
  {
   "cell_type": "markdown",
   "metadata": {
    "tags": []
   },
   "source": [
    "#### Active carbon "
   ]
  },
  {
   "cell_type": "markdown",
   "metadata": {},
   "source": [
    "##### Plot"
   ]
  },
  {
   "cell_type": "code",
   "execution_count": 27,
   "metadata": {},
   "outputs": [
    {
     "data": {
      "image/png": "[encoded data removed]",
      "text/plain": [
       "plot without title"
      ]
     },
     "metadata": {},
     "output_type": "display_data"
    }
   ],
   "source": [
    "options(repr.plot.width = 5, repr.plot.height = 3)\n",
    "#jpeg('soilprints_carbon.jpg',width=5,height=3,units='in',res=300)\n",
    "carbon = ggplot(data = df1, aes(x =FieldType, y = POXC, color = FieldType))+\n",
    "    geom_boxplot(width = 0.4)+\n",
    "    geom_jitter(alpha=0.8, pch =20,size =5, position=position_jitter(width=0.1, height = 0.3))+\n",
    "    theme_bw()+\n",
    "    labs(x = 'Field Type', y=expression(paste(\"Active Carbon (mg/kg) \"))) +\n",
    "    theme(legend.position = \"none\")+\n",
    "    theme(axis.title.x= element_blank(),\n",
    "        axis.title.y = element_text(size =10, color ='black'),\n",
    "        axis.text.x = element_text(size =10, color ='black'),\n",
    "        axis.text.y = element_text(size =8, color = 'black'))+\n",
    "scale_color_manual(name = 'Field Type', labels = c('Non-virgin fields', 'Virgin fields'), \n",
    "                  values = c('orange', 'chartreuse4'))\n",
    "carbon\n",
    "#dev.off()"
   ]
  },
  {
   "cell_type": "markdown",
   "metadata": {},
   "source": [
    "##### Paired t-test"
   ]
  },
  {
   "cell_type": "code",
   "execution_count": 22,
   "metadata": {},
   "outputs": [
    {
     "data": {
      "text/plain": [
       "\n",
       "\tPaired t-test\n",
       "\n",
       "data:  POXC by FieldType\n",
       "t = -0.14531, df = 10, p-value = 0.8874\n",
       "alternative hypothesis: true difference in means is not equal to 0\n",
       "95 percent confidence interval:\n",
       " -83.52153  73.29491\n",
       "sample estimates:\n",
       "mean of the differences \n",
       "              -5.113309 \n"
      ]
     },
     "metadata": {},
     "output_type": "display_data"
    }
   ],
   "source": [
    "t.test(POXC~ FieldType, \n",
    "       paired=T, \n",
    "       data=df1)"
   ]
  },
  {
   "cell_type": "code",
   "execution_count": 28,
   "metadata": {},
   "outputs": [
    {
     "data": {
      "text/html": [
       "<table>\n",
       "<thead><tr><th scope=col>FieldType</th><th scope=col>Pair</th><th scope=col>POXC</th><th scope=col>Location</th></tr></thead>\n",
       "<tbody>\n",
       "\t<tr><td>Non-virgin field</td><td>1               </td><td>177.7824        </td><td>Columbia Basin  </td></tr>\n",
       "\t<tr><td>Virgin field    </td><td>1               </td><td>281.7720        </td><td>Columbia Basin  </td></tr>\n",
       "\t<tr><td>Non-virgin field</td><td>2               </td><td>364.1400        </td><td>Columbia Basin  </td></tr>\n",
       "\t<tr><td>Virgin field    </td><td>2               </td><td>189.1080        </td><td>Columbia Basin  </td></tr>\n",
       "\t<tr><td>Virgin field    </td><td>3               </td><td>315.7488        </td><td>Columbia Basin  </td></tr>\n",
       "\t<tr><td>Non-virgin field</td><td>3               </td><td>267.3576        </td><td>Columbia Basin  </td></tr>\n",
       "\t<tr><td>Virgin field    </td><td>4               </td><td>535.0536        </td><td>Skagit Valley   </td></tr>\n",
       "\t<tr><td>Non-virgin field</td><td>4               </td><td>411.5016        </td><td>Skagit Valley   </td></tr>\n",
       "\t<tr><td>Virgin field    </td><td>5               </td><td>208.6704        </td><td>Columbia Basin  </td></tr>\n",
       "\t<tr><td>Virgin field    </td><td>6               </td><td>255.0024        </td><td>Columbia Basin  </td></tr>\n",
       "\t<tr><td>Virgin field    </td><td>7               </td><td>323.9856        </td><td>Columbia Basin  </td></tr>\n",
       "\t<tr><td>Virgin field    </td><td>8               </td><td>307.5120        </td><td>Columbia Basin  </td></tr>\n",
       "\t<tr><td>Non-virgin field</td><td>5               </td><td>270.4464        </td><td>Columbia Basin  </td></tr>\n",
       "\t<tr><td>Non-virgin field</td><td>6               </td><td>400.1760        </td><td>Columbia Basin  </td></tr>\n",
       "\t<tr><td>Non-virgin field</td><td>7               </td><td>379.5840        </td><td>Columbia Basin  </td></tr>\n",
       "\t<tr><td>Non-virgin field</td><td>8               </td><td>326.0448        </td><td>Columbia Basin  </td></tr>\n",
       "\t<tr><td>Virgin field    </td><td>9               </td><td>822.3120        </td><td>Skagit Valley   </td></tr>\n",
       "\t<tr><td>Non-virgin field</td><td>9               </td><td>600.9480        </td><td>Skagit Valley   </td></tr>\n",
       "\t<tr><td>Virgin field    </td><td>10              </td><td>466.0704        </td><td>Skagit Valley   </td></tr>\n",
       "\t<tr><td>Non-virgin field</td><td>10              </td><td>456.8040        </td><td>Skagit Valley   </td></tr>\n",
       "\t<tr><td>Virgin field    </td><td>11              </td><td>597.8592        </td><td>Skagit Valley   </td></tr>\n",
       "\t<tr><td>Non-virgin field</td><td>11              </td><td>592.0632        </td><td>Skagit Valley   </td></tr>\n",
       "</tbody>\n",
       "</table>\n"
      ],
      "text/latex": [
       "\\begin{tabular}{r|llll}\n",
       " FieldType & Pair & POXC & Location\\\\\n",
       "\\hline\n",
       "\t Non-virgin field & 1                & 177.7824         & Columbia Basin  \\\\\n",
       "\t Virgin field     & 1                & 281.7720         & Columbia Basin  \\\\\n",
       "\t Non-virgin field & 2                & 364.1400         & Columbia Basin  \\\\\n",
       "\t Virgin field     & 2                & 189.1080         & Columbia Basin  \\\\\n",
       "\t Virgin field     & 3                & 315.7488         & Columbia Basin  \\\\\n",
       "\t Non-virgin field & 3                & 267.3576         & Columbia Basin  \\\\\n",
       "\t Virgin field     & 4                & 535.0536         & Skagit Valley   \\\\\n",
       "\t Non-virgin field & 4                & 411.5016         & Skagit Valley   \\\\\n",
       "\t Virgin field     & 5                & 208.6704         & Columbia Basin  \\\\\n",
       "\t Virgin field     & 6                & 255.0024         & Columbia Basin  \\\\\n",
       "\t Virgin field     & 7                & 323.9856         & Columbia Basin  \\\\\n",
       "\t Virgin field     & 8                & 307.5120         & Columbia Basin  \\\\\n",
       "\t Non-virgin field & 5                & 270.4464         & Columbia Basin  \\\\\n",
       "\t Non-virgin field & 6                & 400.1760         & Columbia Basin  \\\\\n",
       "\t Non-virgin field & 7                & 379.5840         & Columbia Basin  \\\\\n",
       "\t Non-virgin field & 8                & 326.0448         & Columbia Basin  \\\\\n",
       "\t Virgin field     & 9                & 822.3120         & Skagit Valley   \\\\\n",
       "\t Non-virgin field & 9                & 600.9480         & Skagit Valley   \\\\\n",
       "\t Virgin field     & 10               & 466.0704         & Skagit Valley   \\\\\n",
       "\t Non-virgin field & 10               & 456.8040         & Skagit Valley   \\\\\n",
       "\t Virgin field     & 11               & 597.8592         & Skagit Valley   \\\\\n",
       "\t Non-virgin field & 11               & 592.0632         & Skagit Valley   \\\\\n",
       "\\end{tabular}\n"
      ],
      "text/markdown": [
       "\n",
       "| FieldType | Pair | POXC | Location |\n",
       "|---|---|---|---|\n",
       "| Non-virgin field | 1                | 177.7824         | Columbia Basin   |\n",
       "| Virgin field     | 1                | 281.7720         | Columbia Basin   |\n",
       "| Non-virgin field | 2                | 364.1400         | Columbia Basin   |\n",
       "| Virgin field     | 2                | 189.1080         | Columbia Basin   |\n",
       "| Virgin field     | 3                | 315.7488         | Columbia Basin   |\n",
       "| Non-virgin field | 3                | 267.3576         | Columbia Basin   |\n",
       "| Virgin field     | 4                | 535.0536         | Skagit Valley    |\n",
       "| Non-virgin field | 4                | 411.5016         | Skagit Valley    |\n",
       "| Virgin field     | 5                | 208.6704         | Columbia Basin   |\n",
       "| Virgin field     | 6                | 255.0024         | Columbia Basin   |\n",
       "| Virgin field     | 7                | 323.9856         | Columbia Basin   |\n",
       "| Virgin field     | 8                | 307.5120         | Columbia Basin   |\n",
       "| Non-virgin field | 5                | 270.4464         | Columbia Basin   |\n",
       "| Non-virgin field | 6                | 400.1760         | Columbia Basin   |\n",
       "| Non-virgin field | 7                | 379.5840         | Columbia Basin   |\n",
       "| Non-virgin field | 8                | 326.0448         | Columbia Basin   |\n",
       "| Virgin field     | 9                | 822.3120         | Skagit Valley    |\n",
       "| Non-virgin field | 9                | 600.9480         | Skagit Valley    |\n",
       "| Virgin field     | 10               | 466.0704         | Skagit Valley    |\n",
       "| Non-virgin field | 10               | 456.8040         | Skagit Valley    |\n",
       "| Virgin field     | 11               | 597.8592         | Skagit Valley    |\n",
       "| Non-virgin field | 11               | 592.0632         | Skagit Valley    |\n",
       "\n"
      ],
      "text/plain": [
       "   FieldType        Pair POXC     Location      \n",
       "1  Non-virgin field 1    177.7824 Columbia Basin\n",
       "2  Virgin field     1    281.7720 Columbia Basin\n",
       "3  Non-virgin field 2    364.1400 Columbia Basin\n",
       "4  Virgin field     2    189.1080 Columbia Basin\n",
       "5  Virgin field     3    315.7488 Columbia Basin\n",
       "6  Non-virgin field 3    267.3576 Columbia Basin\n",
       "7  Virgin field     4    535.0536 Skagit Valley \n",
       "8  Non-virgin field 4    411.5016 Skagit Valley \n",
       "9  Virgin field     5    208.6704 Columbia Basin\n",
       "10 Virgin field     6    255.0024 Columbia Basin\n",
       "11 Virgin field     7    323.9856 Columbia Basin\n",
       "12 Virgin field     8    307.5120 Columbia Basin\n",
       "13 Non-virgin field 5    270.4464 Columbia Basin\n",
       "14 Non-virgin field 6    400.1760 Columbia Basin\n",
       "15 Non-virgin field 7    379.5840 Columbia Basin\n",
       "16 Non-virgin field 8    326.0448 Columbia Basin\n",
       "17 Virgin field     9    822.3120 Skagit Valley \n",
       "18 Non-virgin field 9    600.9480 Skagit Valley \n",
       "19 Virgin field     10   466.0704 Skagit Valley \n",
       "20 Non-virgin field 10   456.8040 Skagit Valley \n",
       "21 Virgin field     11   597.8592 Skagit Valley \n",
       "22 Non-virgin field 11   592.0632 Skagit Valley "
      ]
     },
     "metadata": {},
     "output_type": "display_data"
    }
   ],
   "source": [
    "df1 %>% select(FieldType, Pair, POXC, Location)"
   ]
  },
  {
   "cell_type": "markdown",
   "metadata": {},
   "source": [
    "##### plot differences"
   ]
  },
  {
   "cell_type": "code",
   "execution_count": 23,
   "metadata": {},
   "outputs": [
    {
     "data": {
      "text/html": [
       "<table>\n",
       "<thead><tr><th scope=col>Pair</th><th scope=col>Location</th><th scope=col>Non-virgin field</th><th scope=col>Virgin field</th></tr></thead>\n",
       "<tbody>\n",
       "\t<tr><td>1             </td><td>Columbia Basin</td><td>177.7824      </td><td>281.7720      </td></tr>\n",
       "\t<tr><td>2             </td><td>Columbia Basin</td><td>364.1400      </td><td>189.1080      </td></tr>\n",
       "\t<tr><td>3             </td><td>Columbia Basin</td><td>267.3576      </td><td>315.7488      </td></tr>\n",
       "\t<tr><td>4             </td><td>Skagit Valley </td><td>411.5016      </td><td>535.0536      </td></tr>\n",
       "\t<tr><td>5             </td><td>Columbia Basin</td><td>270.4464      </td><td>208.6704      </td></tr>\n",
       "\t<tr><td>6             </td><td>Columbia Basin</td><td>400.1760      </td><td>255.0024      </td></tr>\n",
       "</tbody>\n",
       "</table>\n"
      ],
      "text/latex": [
       "\\begin{tabular}{r|llll}\n",
       " Pair & Location & Non-virgin field & Virgin field\\\\\n",
       "\\hline\n",
       "\t 1              & Columbia Basin & 177.7824       & 281.7720      \\\\\n",
       "\t 2              & Columbia Basin & 364.1400       & 189.1080      \\\\\n",
       "\t 3              & Columbia Basin & 267.3576       & 315.7488      \\\\\n",
       "\t 4              & Skagit Valley  & 411.5016       & 535.0536      \\\\\n",
       "\t 5              & Columbia Basin & 270.4464       & 208.6704      \\\\\n",
       "\t 6              & Columbia Basin & 400.1760       & 255.0024      \\\\\n",
       "\\end{tabular}\n"
      ],
      "text/markdown": [
       "\n",
       "| Pair | Location | Non-virgin field | Virgin field |\n",
       "|---|---|---|---|\n",
       "| 1              | Columbia Basin | 177.7824       | 281.7720       |\n",
       "| 2              | Columbia Basin | 364.1400       | 189.1080       |\n",
       "| 3              | Columbia Basin | 267.3576       | 315.7488       |\n",
       "| 4              | Skagit Valley  | 411.5016       | 535.0536       |\n",
       "| 5              | Columbia Basin | 270.4464       | 208.6704       |\n",
       "| 6              | Columbia Basin | 400.1760       | 255.0024       |\n",
       "\n"
      ],
      "text/plain": [
       "  Pair Location       Non-virgin field Virgin field\n",
       "1 1    Columbia Basin 177.7824         281.7720    \n",
       "2 2    Columbia Basin 364.1400         189.1080    \n",
       "3 3    Columbia Basin 267.3576         315.7488    \n",
       "4 4    Skagit Valley  411.5016         535.0536    \n",
       "5 5    Columbia Basin 270.4464         208.6704    \n",
       "6 6    Columbia Basin 400.1760         255.0024    "
      ]
     },
     "metadata": {},
     "output_type": "display_data"
    }
   ],
   "source": [
    "df2 = df1 %>% select(FieldType, Pair, POXC, Location) %>% spread(FieldType, POXC)\n",
    "head(df2)"
   ]
  },
  {
   "cell_type": "code",
   "execution_count": 24,
   "metadata": {},
   "outputs": [
    {
     "data": {
      "text/html": [
       "<table>\n",
       "<thead><tr><th scope=col>Pair</th><th scope=col>Location</th><th scope=col>non_virgin</th><th scope=col>virgin</th><th scope=col>diff</th></tr></thead>\n",
       "<tbody>\n",
       "\t<tr><td>1             </td><td>Columbia Basin</td><td>177.7824      </td><td>281.7720      </td><td> 103.9896     </td></tr>\n",
       "\t<tr><td>2             </td><td>Columbia Basin</td><td>364.1400      </td><td>189.1080      </td><td>-175.0320     </td></tr>\n",
       "\t<tr><td>3             </td><td>Columbia Basin</td><td>267.3576      </td><td>315.7488      </td><td>  48.3912     </td></tr>\n",
       "\t<tr><td>4             </td><td>Skagit Valley </td><td>411.5016      </td><td>535.0536      </td><td> 123.5520     </td></tr>\n",
       "\t<tr><td>5             </td><td>Columbia Basin</td><td>270.4464      </td><td>208.6704      </td><td> -61.7760     </td></tr>\n",
       "\t<tr><td>6             </td><td>Columbia Basin</td><td>400.1760      </td><td>255.0024      </td><td>-145.1736     </td></tr>\n",
       "\t<tr><td>7             </td><td>Columbia Basin</td><td>379.5840      </td><td>323.9856      </td><td> -55.5984     </td></tr>\n",
       "\t<tr><td>8             </td><td>Columbia Basin</td><td>326.0448      </td><td>307.5120      </td><td> -18.5328     </td></tr>\n",
       "\t<tr><td>9             </td><td>Skagit Valley </td><td>600.9480      </td><td>822.3120      </td><td> 221.3640     </td></tr>\n",
       "\t<tr><td>10            </td><td>Skagit Valley </td><td>456.8040      </td><td>466.0704      </td><td>   9.2664     </td></tr>\n",
       "\t<tr><td>11            </td><td>Skagit Valley </td><td>592.0632      </td><td>597.8592      </td><td>   5.7960     </td></tr>\n",
       "</tbody>\n",
       "</table>\n"
      ],
      "text/latex": [
       "\\begin{tabular}{r|lllll}\n",
       " Pair & Location & non\\_virgin & virgin & diff\\\\\n",
       "\\hline\n",
       "\t 1              & Columbia Basin & 177.7824       & 281.7720       &  103.9896     \\\\\n",
       "\t 2              & Columbia Basin & 364.1400       & 189.1080       & -175.0320     \\\\\n",
       "\t 3              & Columbia Basin & 267.3576       & 315.7488       &   48.3912     \\\\\n",
       "\t 4              & Skagit Valley  & 411.5016       & 535.0536       &  123.5520     \\\\\n",
       "\t 5              & Columbia Basin & 270.4464       & 208.6704       &  -61.7760     \\\\\n",
       "\t 6              & Columbia Basin & 400.1760       & 255.0024       & -145.1736     \\\\\n",
       "\t 7              & Columbia Basin & 379.5840       & 323.9856       &  -55.5984     \\\\\n",
       "\t 8              & Columbia Basin & 326.0448       & 307.5120       &  -18.5328     \\\\\n",
       "\t 9              & Skagit Valley  & 600.9480       & 822.3120       &  221.3640     \\\\\n",
       "\t 10             & Skagit Valley  & 456.8040       & 466.0704       &    9.2664     \\\\\n",
       "\t 11             & Skagit Valley  & 592.0632       & 597.8592       &    5.7960     \\\\\n",
       "\\end{tabular}\n"
      ],
      "text/markdown": [
       "\n",
       "| Pair | Location | non_virgin | virgin | diff |\n",
       "|---|---|---|---|---|\n",
       "| 1              | Columbia Basin | 177.7824       | 281.7720       |  103.9896      |\n",
       "| 2              | Columbia Basin | 364.1400       | 189.1080       | -175.0320      |\n",
       "| 3              | Columbia Basin | 267.3576       | 315.7488       |   48.3912      |\n",
       "| 4              | Skagit Valley  | 411.5016       | 535.0536       |  123.5520      |\n",
       "| 5              | Columbia Basin | 270.4464       | 208.6704       |  -61.7760      |\n",
       "| 6              | Columbia Basin | 400.1760       | 255.0024       | -145.1736      |\n",
       "| 7              | Columbia Basin | 379.5840       | 323.9856       |  -55.5984      |\n",
       "| 8              | Columbia Basin | 326.0448       | 307.5120       |  -18.5328      |\n",
       "| 9              | Skagit Valley  | 600.9480       | 822.3120       |  221.3640      |\n",
       "| 10             | Skagit Valley  | 456.8040       | 466.0704       |    9.2664      |\n",
       "| 11             | Skagit Valley  | 592.0632       | 597.8592       |    5.7960      |\n",
       "\n"
      ],
      "text/plain": [
       "   Pair Location       non_virgin virgin   diff     \n",
       "1  1    Columbia Basin 177.7824   281.7720  103.9896\n",
       "2  2    Columbia Basin 364.1400   189.1080 -175.0320\n",
       "3  3    Columbia Basin 267.3576   315.7488   48.3912\n",
       "4  4    Skagit Valley  411.5016   535.0536  123.5520\n",
       "5  5    Columbia Basin 270.4464   208.6704  -61.7760\n",
       "6  6    Columbia Basin 400.1760   255.0024 -145.1736\n",
       "7  7    Columbia Basin 379.5840   323.9856  -55.5984\n",
       "8  8    Columbia Basin 326.0448   307.5120  -18.5328\n",
       "9  9    Skagit Valley  600.9480   822.3120  221.3640\n",
       "10 10   Skagit Valley  456.8040   466.0704    9.2664\n",
       "11 11   Skagit Valley  592.0632   597.8592    5.7960"
      ]
     },
     "metadata": {},
     "output_type": "display_data"
    }
   ],
   "source": [
    "df2 = rename(df2, non_virgin = `Non-virgin field`, virgin = `Virgin field`)\n",
    "df2 = mutate(df2, diff = virgin - non_virgin)\n",
    "df2"
   ]
  },
  {
   "cell_type": "code",
   "execution_count": 46,
   "metadata": {},
   "outputs": [
    {
     "data": {
      "text/html": [
       "<strong>png:</strong> 2"
      ],
      "text/latex": [
       "\\textbf{png:} 2"
      ],
      "text/markdown": [
       "**png:** 2"
      ],
      "text/plain": [
       "png \n",
       "  2 "
      ]
     },
     "metadata": {},
     "output_type": "display_data"
    }
   ],
   "source": [
    "options(repr.plot.width = 3, repr.plot.height = 3)\n",
    "jpeg('soilprints_carbon.jpg',width=3,height=3,units='in',res=300)\n",
    "carbon_difference = ggplot(data = df2, aes(x =Location, y = diff, color = Location))+\n",
    "    geom_boxplot(width = 0.4)+geom_hline(yintercept = 0)+\n",
    "    geom_jitter(alpha=0.8, pch =20,size =5, position=position_jitter(width=0.1, height = 0.3))+\n",
    "    theme_bw()+ ylim(-250, 250)+\n",
    "    labs(x = 'Location', y=expression(paste(\"Difference (Active Carbon)\"))) +\n",
    "    theme(legend.position = \"none\")+\n",
    "    theme(axis.title.x= element_blank(),\n",
    "        axis.title.y = element_text(size =10, color ='black'),\n",
    "        axis.text.x = element_text(size =10, color ='black'),\n",
    "        axis.text.y = element_text(size =8, color = 'black'))+\n",
    "scale_color_manual(name = 'Location', labels = c('Columbia Basin', 'Skagit Valley'), \n",
    "                  values = c('darkgoldenrod1', 'darkgreen'))\n",
    "carbon_difference\n",
    "dev.off()"
   ]
  },
  {
   "cell_type": "code",
   "execution_count": 26,
   "metadata": {},
   "outputs": [
    {
     "data": {
      "image/png": "[encoded data removed]",
      "text/plain": [
       "plot without title"
      ]
     },
     "metadata": {},
     "output_type": "display_data"
    }
   ],
   "source": [
    "options(repr.plot.width = 5, repr.plot.height = 3)\n",
    "#jpeg('difference_carbon.jpg',width=5,height=3,units='in',res=300)\n",
    "difference = ggplot(df2, aes(x = Pair, y = diff)) + geom_point(aes(color = Location)) + geom_hline(yintercept = 0)+ theme_bw()+\n",
    "    labs(x = 'Soil Pair', y=expression(paste(\"Difference (Active Carbon)\"))) +\n",
    "    theme(legend.position = \"right\")+\n",
    "    theme(axis.title.x= element_text(size = 10, color = 'black'),\n",
    "        axis.title.y = element_text(size =10, color ='black'),\n",
    "        axis.text.x = element_text(size =8, color ='black'),\n",
    "        axis.text.y = element_text(size =8, color = 'black'))+\n",
    "    scale_color_manual(name = 'Location', labels = c('Columbia Basin', 'Skagit Valley'), \n",
    "                  values = c('orange', 'chartreuse4'))\n",
    "difference\n",
    "#dev.off()"
   ]
  },
  {
   "cell_type": "markdown",
   "metadata": {},
   "source": [
    "### Radial Plot"
   ]
  },
  {
   "cell_type": "code",
   "execution_count": 47,
   "metadata": {},
   "outputs": [
    {
     "data": {
      "text/html": [
       "<table>\n",
       "<thead><tr><th scope=col>FieldType</th><th scope=col>Block</th><th scope=col>pathogen</th><th scope=col>count</th></tr></thead>\n",
       "<tbody>\n",
       "\t<tr><td>Non-virgin field</td><td>2               </td><td>Pyth_Avg_Soil   </td><td> 11             </td></tr>\n",
       "\t<tr><td>Virgin field    </td><td>2               </td><td>Pyth_Avg_Soil   </td><td> 56             </td></tr>\n",
       "\t<tr><td>Non-virgin field</td><td>1               </td><td>Pyth_Avg_Soil   </td><td>109             </td></tr>\n",
       "\t<tr><td>Virgin field    </td><td>1               </td><td>Pyth_Avg_Soil   </td><td> 60             </td></tr>\n",
       "</tbody>\n",
       "</table>\n"
      ],
      "text/latex": [
       "\\begin{tabular}{r|llll}\n",
       " FieldType & Block & pathogen & count\\\\\n",
       "\\hline\n",
       "\t Non-virgin field  & 2                 & Pyth\\_Avg\\_Soil &  11              \\\\\n",
       "\t Virgin field      & 2                 & Pyth\\_Avg\\_Soil &  56              \\\\\n",
       "\t Non-virgin field  & 1                 & Pyth\\_Avg\\_Soil & 109              \\\\\n",
       "\t Virgin field      & 1                 & Pyth\\_Avg\\_Soil &  60              \\\\\n",
       "\\end{tabular}\n"
      ],
      "text/markdown": [
       "\n",
       "| FieldType | Block | pathogen | count |\n",
       "|---|---|---|---|\n",
       "| Non-virgin field | 2                | Pyth_Avg_Soil    |  11              |\n",
       "| Virgin field     | 2                | Pyth_Avg_Soil    |  56              |\n",
       "| Non-virgin field | 1                | Pyth_Avg_Soil    | 109              |\n",
       "| Virgin field     | 1                | Pyth_Avg_Soil    |  60              |\n",
       "\n"
      ],
      "text/plain": [
       "  FieldType        Block pathogen      count\n",
       "1 Non-virgin field 2     Pyth_Avg_Soil  11  \n",
       "2 Virgin field     2     Pyth_Avg_Soil  56  \n",
       "3 Non-virgin field 1     Pyth_Avg_Soil 109  \n",
       "4 Virgin field     1     Pyth_Avg_Soil  60  "
      ]
     },
     "metadata": {},
     "output_type": "display_data"
    },
    {
     "data": {
      "text/html": [
       "<ol class=list-inline>\n",
       "\t<li>'Pyth_Avg_Soil'</li>\n",
       "\t<li>'ResPyth_Avg_Soil'</li>\n",
       "\t<li>'Fus_Avg_Soil'</li>\n",
       "\t<li>'Vd_Tot_Soil'</li>\n",
       "\t<li>'BD_Tot_Soil'</li>\n",
       "</ol>\n"
      ],
      "text/latex": [
       "\\begin{enumerate*}\n",
       "\\item 'Pyth\\_Avg\\_Soil'\n",
       "\\item 'ResPyth\\_Avg\\_Soil'\n",
       "\\item 'Fus\\_Avg\\_Soil'\n",
       "\\item 'Vd\\_Tot\\_Soil'\n",
       "\\item 'BD\\_Tot\\_Soil'\n",
       "\\end{enumerate*}\n"
      ],
      "text/markdown": [
       "1. 'Pyth_Avg_Soil'\n",
       "2. 'ResPyth_Avg_Soil'\n",
       "3. 'Fus_Avg_Soil'\n",
       "4. 'Vd_Tot_Soil'\n",
       "5. 'BD_Tot_Soil'\n",
       "\n",
       "\n"
      ],
      "text/plain": [
       "[1] \"Pyth_Avg_Soil\"    \"ResPyth_Avg_Soil\" \"Fus_Avg_Soil\"     \"Vd_Tot_Soil\"     \n",
       "[5] \"BD_Tot_Soil\"     "
      ]
     },
     "metadata": {},
     "output_type": "display_data"
    }
   ],
   "source": [
    "df4 = gather(df1[c(3,4,21,22,25,26,27)], pathogen, count, Pyth_Avg_Soil:BD_Tot_Soil)\n",
    "head(df4,4)\n",
    "unique(df4$pathogen)"
   ]
  },
  {
   "cell_type": "code",
   "execution_count": 48,
   "metadata": {},
   "outputs": [
    {
     "name": "stdout",
     "output_type": "stream",
     "text": [
      "'data.frame':\t110 obs. of  4 variables:\n",
      " $ FieldType: Factor w/ 2 levels \"Non-virgin field\",..: 1 2 1 2 2 1 2 1 2 2 ...\n",
      " $ Block    : Factor w/ 6 levels \"1\",\"2\",\"3\",\"4\",..: 2 2 1 1 5 5 2 2 4 5 ...\n",
      " $ pathogen : Factor w/ 5 levels \"BD_Tot_Soil\",..: 3 3 3 3 3 3 3 3 3 3 ...\n",
      " $ count    : int  11 56 109 60 157 0 179 223 5 5 ...\n"
     ]
    },
    {
     "data": {
      "text/html": [
       "<ol class=list-inline>\n",
       "\t<li>'BD_Tot_Soil'</li>\n",
       "\t<li>'Fus_Avg_Soil'</li>\n",
       "\t<li>'Pyth_Avg_Soil'</li>\n",
       "\t<li>'ResPyth_Avg_Soil'</li>\n",
       "\t<li>'Vd_Tot_Soil'</li>\n",
       "</ol>\n"
      ],
      "text/latex": [
       "\\begin{enumerate*}\n",
       "\\item 'BD\\_Tot\\_Soil'\n",
       "\\item 'Fus\\_Avg\\_Soil'\n",
       "\\item 'Pyth\\_Avg\\_Soil'\n",
       "\\item 'ResPyth\\_Avg\\_Soil'\n",
       "\\item 'Vd\\_Tot\\_Soil'\n",
       "\\end{enumerate*}\n"
      ],
      "text/markdown": [
       "1. 'BD_Tot_Soil'\n",
       "2. 'Fus_Avg_Soil'\n",
       "3. 'Pyth_Avg_Soil'\n",
       "4. 'ResPyth_Avg_Soil'\n",
       "5. 'Vd_Tot_Soil'\n",
       "\n",
       "\n"
      ],
      "text/plain": [
       "[1] \"BD_Tot_Soil\"      \"Fus_Avg_Soil\"     \"Pyth_Avg_Soil\"    \"ResPyth_Avg_Soil\"\n",
       "[5] \"Vd_Tot_Soil\"     "
      ]
     },
     "metadata": {},
     "output_type": "display_data"
    },
    {
     "data": {
      "text/html": [
       "<ol class=list-inline>\n",
       "\t<li>'Blackdot'</li>\n",
       "\t<li>'Fusarium'</li>\n",
       "\t<li>'Pythium'</li>\n",
       "\t<li>'Res. Pythium'</li>\n",
       "\t<li>'Verticillium'</li>\n",
       "</ol>\n"
      ],
      "text/latex": [
       "\\begin{enumerate*}\n",
       "\\item 'Blackdot'\n",
       "\\item 'Fusarium'\n",
       "\\item 'Pythium'\n",
       "\\item 'Res. Pythium'\n",
       "\\item 'Verticillium'\n",
       "\\end{enumerate*}\n"
      ],
      "text/markdown": [
       "1. 'Blackdot'\n",
       "2. 'Fusarium'\n",
       "3. 'Pythium'\n",
       "4. 'Res. Pythium'\n",
       "5. 'Verticillium'\n",
       "\n",
       "\n"
      ],
      "text/plain": [
       "[1] \"Blackdot\"     \"Fusarium\"     \"Pythium\"      \"Res. Pythium\" \"Verticillium\""
      ]
     },
     "metadata": {},
     "output_type": "display_data"
    }
   ],
   "source": [
    "df4 = data.frame(df4)\n",
    "df4$pathogen = as.factor(df4$pathogen)\n",
    "str(df4)\n",
    "levels(df4$pathogen)\n",
    "levels(df4$pathogen) = c('Blackdot', 'Fusarium', 'Pythium', 'Res. Pythium','Verticillium')\n",
    "levels(df4$pathogen)"
   ]
  },
  {
   "cell_type": "code",
   "execution_count": 49,
   "metadata": {},
   "outputs": [
    {
     "data": {
      "image/png": "[encoded data removed]",
      "text/plain": [
       "plot without title"
      ]
     },
     "metadata": {},
     "output_type": "display_data"
    }
   ],
   "source": [
    "options(repr.plot.width = 5, repr.plot.height = 5)\n",
    "ggplot(df4, aes(x = pathogen, y = count, fill = FieldType))+\n",
    "stat_summary(geom = 'bar', fun = mean, position = 'dodge', colour ='black')+\n",
    "labs(title ='', x = '', y ='')+\n",
    "theme(axis.ticks = element_blank(),\n",
    "     axis.title = element_blank(),\n",
    "     axis.title.y = element_blank())+\n",
    "coord_polar(theta = 'y')+\n",
    "#scale_y_sqrt() +\n",
    "scale_fill_manual(name = 'Field Type', labels = c('Non-virgin field', 'Virgin field'), \n",
    "                  values = c('orange', 'chartreuse4'))+\n",
    "theme_minimal()+\n",
    "theme(legend.position=\"bottom\")+guides(fill = guide_legend('Field type'))"
   ]
  },
  {
   "cell_type": "code",
   "execution_count": 50,
   "metadata": {},
   "outputs": [
    {
     "data": {
      "image/png": "[encoded data removed]",
      "text/plain": [
       "plot without title"
      ]
     },
     "metadata": {},
     "output_type": "display_data"
    }
   ],
   "source": [
    "options(repr.plot.width =7, repr.plot.height =7)\n",
    "ggplot(df4, aes(pathogen, count, fill = FieldType)) + \n",
    "  geom_col(position = \"identity\", width =1) + \n",
    "  coord_polar() + \n",
    "  scale_fill_manual(values = c('orange', 'chartreuse4')) +\n",
    "  scale_y_sqrt() +\n",
    "  theme_minimal()+\n",
    "   labs(title ='', x = '', y ='')+\n",
    "    theme(\n",
    "    axis.ticks = element_blank(),\n",
    "    axis.text.x = element_text(hjust =0.1, vjust =0.1, size =10,angle =0,color = 'black'),\n",
    "    axis.text.y = element_blank(),\n",
    "    legend.text = element_text(size =9.5),\n",
    "    legend.title = element_text(size =9.5),\n",
    "    legend.key.size = unit(0.7, 'cm'))+\n",
    "    theme(legend.position=\"bottom\")+\n",
    "    guides(fill = guide_legend('Field type'))"
   ]
  }
 ],
 "metadata": {
  "kernelspec": {
   "display_name": "R",
   "language": "R",
   "name": "ir"
  },
  "language_info": {
   "codemirror_mode": "r",
   "file_extension": ".r",
   "mimetype": "text/x-r-source",
   "name": "R",
   "pygments_lexer": "r",
   "version": "4.0.2"
  },
  "toc-autonumbering": false
 },
 "nbformat": 4,
 "nbformat_minor": 5
}
